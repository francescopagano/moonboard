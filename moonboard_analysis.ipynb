{
 "cells": [
  {
   "cell_type": "code",
   "execution_count": 2,
   "metadata": {},
   "outputs": [],
   "source": [
    "import json\n",
    "import pandas as pd\n",
    "import numpy as np\n",
    "from random import randrange\n",
    "from matplotlib import pyplot as plt"
   ]
  },
  {
   "cell_type": "markdown",
   "metadata": {},
   "source": [
    "Il seguente notebook viene usato solo per dare uno sguardo alla variabili presenti nel dataset, non verranno modificate ne rimosse"
   ]
  },
  {
   "cell_type": "markdown",
   "metadata": {},
   "source": [
    "In primo luogo analizziamo le variabili che non costituisco la griglia."
   ]
  },
  {
   "cell_type": "code",
   "execution_count": 3,
   "metadata": {},
   "outputs": [
    {
     "name": "stderr",
     "output_type": "stream",
     "text": [
      "C:\\Users\\fra24\\AppData\\Local\\Temp\\ipykernel_8516\\3120384550.py:1: DtypeWarning: Columns (16) have mixed types. Specify dtype option on import or set low_memory=False.\n",
      "  df = pd.read_csv('C:/Users/fra24/OneDrive/Documenti/uni/magistrale/tesi/data/moonboard_problems.csv', index_col=0, encoding='utf-8')\n"
     ]
    },
    {
     "data": {
      "application/vnd.microsoft.datawrangler.viewer.v0+json": {
       "columns": [
        {
         "name": "index",
         "rawType": "int64",
         "type": "integer"
        },
        {
         "name": "name",
         "rawType": "object",
         "type": "string"
        },
        {
         "name": "grade",
         "rawType": "object",
         "type": "string"
        },
        {
         "name": "userGrade",
         "rawType": "object",
         "type": "string"
        },
        {
         "name": "setby",
         "rawType": "object",
         "type": "string"
        },
        {
         "name": "method",
         "rawType": "object",
         "type": "string"
        },
        {
         "name": "userRating",
         "rawType": "int64",
         "type": "integer"
        },
        {
         "name": "repeats",
         "rawType": "int64",
         "type": "integer"
        },
        {
         "name": "isBenchmark",
         "rawType": "bool",
         "type": "boolean"
        },
        {
         "name": "isMaster",
         "rawType": "bool",
         "type": "boolean"
        },
        {
         "name": "upgraded",
         "rawType": "bool",
         "type": "boolean"
        },
        {
         "name": "downgraded",
         "rawType": "bool",
         "type": "boolean"
        },
        {
         "name": "holdsets",
         "rawType": "object",
         "type": "string"
        },
        {
         "name": "hasBetaVideo",
         "rawType": "bool",
         "type": "boolean"
        },
        {
         "name": "apiId",
         "rawType": "int64",
         "type": "integer"
        },
        {
         "name": "dateInserted",
         "rawType": "object",
         "type": "string"
        },
        {
         "name": "holdsetup.description",
         "rawType": "object",
         "type": "unknown"
        }
       ],
       "conversionMethod": "pd.DataFrame",
       "ref": "33cf63a3-bee9-4007-baef-aa5c291dc7b8",
       "rows": [
        [
         "0",
         "Far from the Madding Crowd",
         "6B+",
         "6B+",
         "Ben Moon",
         "Feet follow hands",
         "4",
         "24993",
         "True",
         "False",
         "False",
         "False",
         "Hold Set B",
         "True",
         "19215",
         "2016-03-01T10:00:27",
         "2016"
        ],
        [
         "1",
         "Wuthering Heights",
         "6B+",
         "6B+",
         "Ben Moon",
         "Feet follow hands",
         "4",
         "35673",
         "True",
         "False",
         "False",
         "False",
         "Hold Set A",
         "True",
         "19216",
         "2016-03-01T10:00:27",
         "2016"
        ],
        [
         "2",
         "Problem 3",
         "6B+",
         "6B+",
         "Ally Patrick",
         "Feet follow hands",
         "4",
         "757",
         "False",
         "False",
         "False",
         "False",
         "Original School Holds|Hold Set A|Hold Set B",
         "False",
         "19217",
         "2016-03-01T10:00:16",
         "2016"
        ],
        [
         "3",
         "HARD TIMES",
         "7A",
         "7A",
         "Ben Moon",
         "Feet follow hands",
         "5",
         "8670",
         "True",
         "False",
         "False",
         "False",
         "Hold Set B",
         "True",
         "19218",
         "2016-03-01T10:00:15",
         "2016"
        ],
        [
         "4",
         "Problem 5",
         "7A",
         "7A",
         "Ally Patrick",
         "Feet follow hands",
         "4",
         "255",
         "False",
         "False",
         "False",
         "False",
         "Hold Set B",
         "False",
         "19219",
         "2016-03-01T10:00:15",
         "2016"
        ],
        [
         "5",
         "CRIME AND PUNISHMENT",
         "7B",
         "7B",
         "Ben Moon",
         "Feet follow hands",
         "4",
         "253",
         "False",
         "False",
         "False",
         "False",
         "Original School Holds",
         "True",
         "19220",
         "2016-03-01T10:00:15",
         "2016"
        ],
        [
         "6",
         "Shortround",
         "6C+",
         "6C+",
         "Ally Patrick",
         "Feet follow hands",
         "4",
         "550",
         "False",
         "False",
         "False",
         "False",
         "Original School Holds",
         "False",
         "19221",
         "2016-03-01T10:00:27",
         "2016"
        ],
        [
         "7",
         "Vurt",
         "7B",
         "7B",
         "Ben Moon",
         "Feet follow hands",
         "4",
         "1301",
         "True",
         "False",
         "False",
         "False",
         "Hold Set A|Hold Set B",
         "True",
         "19222",
         "2016-03-01T10:00:15",
         "2016"
        ],
        [
         "8",
         "Problem 9",
         "7A+",
         "7A+",
         "Ally Patrick",
         "Feet follow hands",
         "4",
         "2413",
         "True",
         "False",
         "False",
         "False",
         "Hold Set A|Hold Set B",
         "True",
         "19223",
         "2016-03-01T10:00:15",
         "2016"
        ],
        [
         "9",
         "Tess",
         "6C+",
         "6C+",
         "Ben Moon",
         "Feet follow hands",
         "4",
         "9617",
         "True",
         "False",
         "False",
         "False",
         "Original School Holds|Hold Set A|Hold Set B",
         "True",
         "19224",
         "2016-03-01T10:00:15",
         "2016"
        ]
       ],
       "shape": {
        "columns": 16,
        "rows": 10
       }
      },
      "text/html": [
       "<div>\n",
       "<style scoped>\n",
       "    .dataframe tbody tr th:only-of-type {\n",
       "        vertical-align: middle;\n",
       "    }\n",
       "\n",
       "    .dataframe tbody tr th {\n",
       "        vertical-align: top;\n",
       "    }\n",
       "\n",
       "    .dataframe thead th {\n",
       "        text-align: right;\n",
       "    }\n",
       "</style>\n",
       "<table border=\"1\" class=\"dataframe\">\n",
       "  <thead>\n",
       "    <tr style=\"text-align: right;\">\n",
       "      <th></th>\n",
       "      <th>name</th>\n",
       "      <th>grade</th>\n",
       "      <th>userGrade</th>\n",
       "      <th>setby</th>\n",
       "      <th>method</th>\n",
       "      <th>userRating</th>\n",
       "      <th>repeats</th>\n",
       "      <th>isBenchmark</th>\n",
       "      <th>isMaster</th>\n",
       "      <th>upgraded</th>\n",
       "      <th>downgraded</th>\n",
       "      <th>holdsets</th>\n",
       "      <th>hasBetaVideo</th>\n",
       "      <th>apiId</th>\n",
       "      <th>dateInserted</th>\n",
       "      <th>holdsetup.description</th>\n",
       "    </tr>\n",
       "  </thead>\n",
       "  <tbody>\n",
       "    <tr>\n",
       "      <th>0</th>\n",
       "      <td>Far from the Madding Crowd</td>\n",
       "      <td>6B+</td>\n",
       "      <td>6B+</td>\n",
       "      <td>Ben Moon</td>\n",
       "      <td>Feet follow hands</td>\n",
       "      <td>4</td>\n",
       "      <td>24993</td>\n",
       "      <td>True</td>\n",
       "      <td>False</td>\n",
       "      <td>False</td>\n",
       "      <td>False</td>\n",
       "      <td>Hold Set B</td>\n",
       "      <td>True</td>\n",
       "      <td>19215</td>\n",
       "      <td>2016-03-01T10:00:27</td>\n",
       "      <td>2016</td>\n",
       "    </tr>\n",
       "    <tr>\n",
       "      <th>1</th>\n",
       "      <td>Wuthering Heights</td>\n",
       "      <td>6B+</td>\n",
       "      <td>6B+</td>\n",
       "      <td>Ben Moon</td>\n",
       "      <td>Feet follow hands</td>\n",
       "      <td>4</td>\n",
       "      <td>35673</td>\n",
       "      <td>True</td>\n",
       "      <td>False</td>\n",
       "      <td>False</td>\n",
       "      <td>False</td>\n",
       "      <td>Hold Set A</td>\n",
       "      <td>True</td>\n",
       "      <td>19216</td>\n",
       "      <td>2016-03-01T10:00:27</td>\n",
       "      <td>2016</td>\n",
       "    </tr>\n",
       "    <tr>\n",
       "      <th>2</th>\n",
       "      <td>Problem 3</td>\n",
       "      <td>6B+</td>\n",
       "      <td>6B+</td>\n",
       "      <td>Ally Patrick</td>\n",
       "      <td>Feet follow hands</td>\n",
       "      <td>4</td>\n",
       "      <td>757</td>\n",
       "      <td>False</td>\n",
       "      <td>False</td>\n",
       "      <td>False</td>\n",
       "      <td>False</td>\n",
       "      <td>Original School Holds|Hold Set A|Hold Set B</td>\n",
       "      <td>False</td>\n",
       "      <td>19217</td>\n",
       "      <td>2016-03-01T10:00:16</td>\n",
       "      <td>2016</td>\n",
       "    </tr>\n",
       "    <tr>\n",
       "      <th>3</th>\n",
       "      <td>HARD TIMES</td>\n",
       "      <td>7A</td>\n",
       "      <td>7A</td>\n",
       "      <td>Ben Moon</td>\n",
       "      <td>Feet follow hands</td>\n",
       "      <td>5</td>\n",
       "      <td>8670</td>\n",
       "      <td>True</td>\n",
       "      <td>False</td>\n",
       "      <td>False</td>\n",
       "      <td>False</td>\n",
       "      <td>Hold Set B</td>\n",
       "      <td>True</td>\n",
       "      <td>19218</td>\n",
       "      <td>2016-03-01T10:00:15</td>\n",
       "      <td>2016</td>\n",
       "    </tr>\n",
       "    <tr>\n",
       "      <th>4</th>\n",
       "      <td>Problem 5</td>\n",
       "      <td>7A</td>\n",
       "      <td>7A</td>\n",
       "      <td>Ally Patrick</td>\n",
       "      <td>Feet follow hands</td>\n",
       "      <td>4</td>\n",
       "      <td>255</td>\n",
       "      <td>False</td>\n",
       "      <td>False</td>\n",
       "      <td>False</td>\n",
       "      <td>False</td>\n",
       "      <td>Hold Set B</td>\n",
       "      <td>False</td>\n",
       "      <td>19219</td>\n",
       "      <td>2016-03-01T10:00:15</td>\n",
       "      <td>2016</td>\n",
       "    </tr>\n",
       "    <tr>\n",
       "      <th>5</th>\n",
       "      <td>CRIME AND PUNISHMENT</td>\n",
       "      <td>7B</td>\n",
       "      <td>7B</td>\n",
       "      <td>Ben Moon</td>\n",
       "      <td>Feet follow hands</td>\n",
       "      <td>4</td>\n",
       "      <td>253</td>\n",
       "      <td>False</td>\n",
       "      <td>False</td>\n",
       "      <td>False</td>\n",
       "      <td>False</td>\n",
       "      <td>Original School Holds</td>\n",
       "      <td>True</td>\n",
       "      <td>19220</td>\n",
       "      <td>2016-03-01T10:00:15</td>\n",
       "      <td>2016</td>\n",
       "    </tr>\n",
       "    <tr>\n",
       "      <th>6</th>\n",
       "      <td>Shortround</td>\n",
       "      <td>6C+</td>\n",
       "      <td>6C+</td>\n",
       "      <td>Ally Patrick</td>\n",
       "      <td>Feet follow hands</td>\n",
       "      <td>4</td>\n",
       "      <td>550</td>\n",
       "      <td>False</td>\n",
       "      <td>False</td>\n",
       "      <td>False</td>\n",
       "      <td>False</td>\n",
       "      <td>Original School Holds</td>\n",
       "      <td>False</td>\n",
       "      <td>19221</td>\n",
       "      <td>2016-03-01T10:00:27</td>\n",
       "      <td>2016</td>\n",
       "    </tr>\n",
       "    <tr>\n",
       "      <th>7</th>\n",
       "      <td>Vurt</td>\n",
       "      <td>7B</td>\n",
       "      <td>7B</td>\n",
       "      <td>Ben Moon</td>\n",
       "      <td>Feet follow hands</td>\n",
       "      <td>4</td>\n",
       "      <td>1301</td>\n",
       "      <td>True</td>\n",
       "      <td>False</td>\n",
       "      <td>False</td>\n",
       "      <td>False</td>\n",
       "      <td>Hold Set A|Hold Set B</td>\n",
       "      <td>True</td>\n",
       "      <td>19222</td>\n",
       "      <td>2016-03-01T10:00:15</td>\n",
       "      <td>2016</td>\n",
       "    </tr>\n",
       "    <tr>\n",
       "      <th>8</th>\n",
       "      <td>Problem 9</td>\n",
       "      <td>7A+</td>\n",
       "      <td>7A+</td>\n",
       "      <td>Ally Patrick</td>\n",
       "      <td>Feet follow hands</td>\n",
       "      <td>4</td>\n",
       "      <td>2413</td>\n",
       "      <td>True</td>\n",
       "      <td>False</td>\n",
       "      <td>False</td>\n",
       "      <td>False</td>\n",
       "      <td>Hold Set A|Hold Set B</td>\n",
       "      <td>True</td>\n",
       "      <td>19223</td>\n",
       "      <td>2016-03-01T10:00:15</td>\n",
       "      <td>2016</td>\n",
       "    </tr>\n",
       "    <tr>\n",
       "      <th>9</th>\n",
       "      <td>Tess</td>\n",
       "      <td>6C+</td>\n",
       "      <td>6C+</td>\n",
       "      <td>Ben Moon</td>\n",
       "      <td>Feet follow hands</td>\n",
       "      <td>4</td>\n",
       "      <td>9617</td>\n",
       "      <td>True</td>\n",
       "      <td>False</td>\n",
       "      <td>False</td>\n",
       "      <td>False</td>\n",
       "      <td>Original School Holds|Hold Set A|Hold Set B</td>\n",
       "      <td>True</td>\n",
       "      <td>19224</td>\n",
       "      <td>2016-03-01T10:00:15</td>\n",
       "      <td>2016</td>\n",
       "    </tr>\n",
       "  </tbody>\n",
       "</table>\n",
       "</div>"
      ],
      "text/plain": [
       "                         name grade userGrade         setby  \\\n",
       "0  Far from the Madding Crowd   6B+       6B+      Ben Moon   \n",
       "1           Wuthering Heights   6B+       6B+      Ben Moon   \n",
       "2                   Problem 3   6B+       6B+  Ally Patrick   \n",
       "3                  HARD TIMES    7A        7A      Ben Moon   \n",
       "4                   Problem 5    7A        7A  Ally Patrick   \n",
       "5        CRIME AND PUNISHMENT    7B        7B      Ben Moon   \n",
       "6                  Shortround   6C+       6C+  Ally Patrick   \n",
       "7                        Vurt    7B        7B      Ben Moon   \n",
       "8                   Problem 9   7A+       7A+  Ally Patrick   \n",
       "9                        Tess   6C+       6C+      Ben Moon   \n",
       "\n",
       "              method  userRating  repeats  isBenchmark  isMaster  upgraded  \\\n",
       "0  Feet follow hands           4    24993         True     False     False   \n",
       "1  Feet follow hands           4    35673         True     False     False   \n",
       "2  Feet follow hands           4      757        False     False     False   \n",
       "3  Feet follow hands           5     8670         True     False     False   \n",
       "4  Feet follow hands           4      255        False     False     False   \n",
       "5  Feet follow hands           4      253        False     False     False   \n",
       "6  Feet follow hands           4      550        False     False     False   \n",
       "7  Feet follow hands           4     1301         True     False     False   \n",
       "8  Feet follow hands           4     2413         True     False     False   \n",
       "9  Feet follow hands           4     9617         True     False     False   \n",
       "\n",
       "   downgraded                                     holdsets  hasBetaVideo  \\\n",
       "0       False                                   Hold Set B          True   \n",
       "1       False                                   Hold Set A          True   \n",
       "2       False  Original School Holds|Hold Set A|Hold Set B         False   \n",
       "3       False                                   Hold Set B          True   \n",
       "4       False                                   Hold Set B         False   \n",
       "5       False                        Original School Holds          True   \n",
       "6       False                        Original School Holds         False   \n",
       "7       False                        Hold Set A|Hold Set B          True   \n",
       "8       False                        Hold Set A|Hold Set B          True   \n",
       "9       False  Original School Holds|Hold Set A|Hold Set B          True   \n",
       "\n",
       "   apiId         dateInserted holdsetup.description  \n",
       "0  19215  2016-03-01T10:00:27                  2016  \n",
       "1  19216  2016-03-01T10:00:27                  2016  \n",
       "2  19217  2016-03-01T10:00:16                  2016  \n",
       "3  19218  2016-03-01T10:00:15                  2016  \n",
       "4  19219  2016-03-01T10:00:15                  2016  \n",
       "5  19220  2016-03-01T10:00:15                  2016  \n",
       "6  19221  2016-03-01T10:00:27                  2016  \n",
       "7  19222  2016-03-01T10:00:15                  2016  \n",
       "8  19223  2016-03-01T10:00:15                  2016  \n",
       "9  19224  2016-03-01T10:00:15                  2016  "
      ]
     },
     "execution_count": 3,
     "metadata": {},
     "output_type": "execute_result"
    }
   ],
   "source": [
    "df = pd.read_csv('C:/Users/fra24/OneDrive/Documenti/uni/magistrale/tesi/data/moonboard_problems.csv', index_col=0, encoding='utf-8')\n",
    "df.iloc[:,0:16].head(10)"
   ]
  },
  {
   "cell_type": "code",
   "execution_count": 4,
   "metadata": {},
   "outputs": [
    {
     "name": "stdout",
     "output_type": "stream",
     "text": [
      "<class 'pandas.core.frame.DataFrame'>\n",
      "Index: 139430 entries, 0 to 139429\n",
      "Data columns (total 16 columns):\n",
      " #   Column                 Non-Null Count   Dtype \n",
      "---  ------                 --------------   ----- \n",
      " 0   name                   139430 non-null  object\n",
      " 1   grade                  139430 non-null  object\n",
      " 2   userGrade              76865 non-null   object\n",
      " 3   setby                  139427 non-null  object\n",
      " 4   method                 139430 non-null  object\n",
      " 5   userRating             139430 non-null  int64 \n",
      " 6   repeats                139430 non-null  int64 \n",
      " 7   isBenchmark            139430 non-null  bool  \n",
      " 8   isMaster               139430 non-null  bool  \n",
      " 9   upgraded               139430 non-null  bool  \n",
      " 10  downgraded             139430 non-null  bool  \n",
      " 11  holdsets               139430 non-null  object\n",
      " 12  hasBetaVideo           139430 non-null  bool  \n",
      " 13  apiId                  139430 non-null  int64 \n",
      " 14  dateInserted           139430 non-null  object\n",
      " 15  holdsetup.description  139430 non-null  object\n",
      "dtypes: bool(5), int64(3), object(8)\n",
      "memory usage: 13.4+ MB\n"
     ]
    }
   ],
   "source": [
    "df.iloc[:,0:16].info()"
   ]
  },
  {
   "cell_type": "code",
   "execution_count": 5,
   "metadata": {},
   "outputs": [
    {
     "data": {
      "application/vnd.microsoft.datawrangler.viewer.v0+json": {
       "columns": [
        {
         "name": "index",
         "rawType": "object",
         "type": "string"
        },
        {
         "name": "userRating",
         "rawType": "float64",
         "type": "float"
        },
        {
         "name": "repeats",
         "rawType": "float64",
         "type": "float"
        },
        {
         "name": "apiId",
         "rawType": "float64",
         "type": "float"
        }
       ],
       "conversionMethod": "pd.DataFrame",
       "ref": "c2ac3631-9b1d-46b7-8922-ac022535020b",
       "rows": [
        [
         "count",
         "139430.0",
         "139430.0",
         "139430.0"
        ],
        [
         "mean",
         "3.47",
         "48.43",
         "367244.64"
        ],
        [
         "std",
         "1.64",
         "550.26",
         "72914.32"
        ],
        [
         "min",
         "0.0",
         "0.0",
         "19215.0"
        ],
        [
         "25%",
         "4.0",
         "1.0",
         "334258.25"
        ],
        [
         "50%",
         "4.0",
         "4.0",
         "372914.5"
        ],
        [
         "75%",
         "4.0",
         "12.0",
         "419846.75"
        ],
        [
         "max",
         "5.0",
         "44491.0",
         "462581.0"
        ]
       ],
       "shape": {
        "columns": 3,
        "rows": 8
       }
      },
      "text/html": [
       "<div>\n",
       "<style scoped>\n",
       "    .dataframe tbody tr th:only-of-type {\n",
       "        vertical-align: middle;\n",
       "    }\n",
       "\n",
       "    .dataframe tbody tr th {\n",
       "        vertical-align: top;\n",
       "    }\n",
       "\n",
       "    .dataframe thead th {\n",
       "        text-align: right;\n",
       "    }\n",
       "</style>\n",
       "<table border=\"1\" class=\"dataframe\">\n",
       "  <thead>\n",
       "    <tr style=\"text-align: right;\">\n",
       "      <th></th>\n",
       "      <th>userRating</th>\n",
       "      <th>repeats</th>\n",
       "      <th>apiId</th>\n",
       "    </tr>\n",
       "  </thead>\n",
       "  <tbody>\n",
       "    <tr>\n",
       "      <th>count</th>\n",
       "      <td>139430.00</td>\n",
       "      <td>139430.00</td>\n",
       "      <td>139430.00</td>\n",
       "    </tr>\n",
       "    <tr>\n",
       "      <th>mean</th>\n",
       "      <td>3.47</td>\n",
       "      <td>48.43</td>\n",
       "      <td>367244.64</td>\n",
       "    </tr>\n",
       "    <tr>\n",
       "      <th>std</th>\n",
       "      <td>1.64</td>\n",
       "      <td>550.26</td>\n",
       "      <td>72914.32</td>\n",
       "    </tr>\n",
       "    <tr>\n",
       "      <th>min</th>\n",
       "      <td>0.00</td>\n",
       "      <td>0.00</td>\n",
       "      <td>19215.00</td>\n",
       "    </tr>\n",
       "    <tr>\n",
       "      <th>25%</th>\n",
       "      <td>4.00</td>\n",
       "      <td>1.00</td>\n",
       "      <td>334258.25</td>\n",
       "    </tr>\n",
       "    <tr>\n",
       "      <th>50%</th>\n",
       "      <td>4.00</td>\n",
       "      <td>4.00</td>\n",
       "      <td>372914.50</td>\n",
       "    </tr>\n",
       "    <tr>\n",
       "      <th>75%</th>\n",
       "      <td>4.00</td>\n",
       "      <td>12.00</td>\n",
       "      <td>419846.75</td>\n",
       "    </tr>\n",
       "    <tr>\n",
       "      <th>max</th>\n",
       "      <td>5.00</td>\n",
       "      <td>44491.00</td>\n",
       "      <td>462581.00</td>\n",
       "    </tr>\n",
       "  </tbody>\n",
       "</table>\n",
       "</div>"
      ],
      "text/plain": [
       "       userRating    repeats      apiId\n",
       "count   139430.00  139430.00  139430.00\n",
       "mean         3.47      48.43  367244.64\n",
       "std          1.64     550.26   72914.32\n",
       "min          0.00       0.00   19215.00\n",
       "25%          4.00       1.00  334258.25\n",
       "50%          4.00       4.00  372914.50\n",
       "75%          4.00      12.00  419846.75\n",
       "max          5.00   44491.00  462581.00"
      ]
     },
     "execution_count": 5,
     "metadata": {},
     "output_type": "execute_result"
    }
   ],
   "source": [
    "df.iloc[:,0:16].describe().round(2)"
   ]
  },
  {
   "cell_type": "markdown",
   "metadata": {},
   "source": [
    "***VALORI MANCANTI:***"
   ]
  },
  {
   "cell_type": "code",
   "execution_count": 6,
   "metadata": {},
   "outputs": [
    {
     "data": {
      "text/plain": [
       "name                         0\n",
       "grade                        0\n",
       "userGrade                62565\n",
       "setby                        3\n",
       "method                       0\n",
       "userRating                   0\n",
       "repeats                      0\n",
       "isBenchmark                  0\n",
       "isMaster                     0\n",
       "upgraded                     0\n",
       "downgraded                   0\n",
       "holdsets                     0\n",
       "hasBetaVideo                 0\n",
       "apiId                        0\n",
       "dateInserted                 0\n",
       "holdsetup.description        0\n",
       "dtype: int64"
      ]
     },
     "execution_count": 6,
     "metadata": {},
     "output_type": "execute_result"
    }
   ],
   "source": [
    "df.iloc[:,0:16].isna().sum()"
   ]
  },
  {
   "cell_type": "markdown",
   "metadata": {},
   "source": [
    "***Analisi univariate***"
   ]
  },
  {
   "cell_type": "markdown",
   "metadata": {},
   "source": [
    "**grade**, livello di difficoltà assegnato dal creatore."
   ]
  },
  {
   "cell_type": "code",
   "execution_count": 7,
   "metadata": {},
   "outputs": [
    {
     "data": {
      "text/plain": [
       "<Axes: ylabel='grade'>"
      ]
     },
     "execution_count": 7,
     "metadata": {},
     "output_type": "execute_result"
    },
    {
     "data": {
      "image/png": "[encoded data removed]",
      "text/plain": [
       "<Figure size 640x480 with 1 Axes>"
      ]
     },
     "metadata": {},
     "output_type": "display_data"
    }
   ],
   "source": [
    "df[\"grade\"].value_counts().plot(kind=\"barh\")"
   ]
  },
  {
   "cell_type": "markdown",
   "metadata": {},
   "source": [
    "**userGrade**, livello di difficoltà assegnato dagli utenti."
   ]
  },
  {
   "cell_type": "code",
   "execution_count": 8,
   "metadata": {},
   "outputs": [
    {
     "data": {
      "text/plain": [
       "<Axes: ylabel='userGrade'>"
      ]
     },
     "execution_count": 8,
     "metadata": {},
     "output_type": "execute_result"
    },
    {
     "data": {
      "image/png": "[encoded data removed]",
      "text/plain": [
       "<Figure size 640x480 with 1 Axes>"
      ]
     },
     "metadata": {},
     "output_type": "display_data"
    }
   ],
   "source": [
    "df[\"userGrade\"].value_counts().plot(kind=\"barh\")"
   ]
  },
  {
   "cell_type": "markdown",
   "metadata": {},
   "source": [
    "**method**, foot rules da utilizzare per completare il problema."
   ]
  },
  {
   "cell_type": "code",
   "execution_count": 9,
   "metadata": {},
   "outputs": [
    {
     "data": {
      "text/plain": [
       "<Axes: ylabel='method'>"
      ]
     },
     "execution_count": 9,
     "metadata": {},
     "output_type": "execute_result"
    },
    {
     "data": {
      "image/png": "[encoded data removed]",
      "text/plain": [
       "<Figure size 640x480 with 1 Axes>"
      ]
     },
     "metadata": {},
     "output_type": "display_data"
    }
   ],
   "source": [
    "df[\"method\"].value_counts().plot(kind=\"barh\")"
   ]
  },
  {
   "cell_type": "markdown",
   "metadata": {},
   "source": [
    "**userRating**, valutazione degli utenti del problema."
   ]
  },
  {
   "cell_type": "code",
   "execution_count": 10,
   "metadata": {},
   "outputs": [
    {
     "data": {
      "text/plain": [
       "userRating\n",
       "0    0.160539\n",
       "1    0.009438\n",
       "2    0.007846\n",
       "3    0.069863\n",
       "4    0.530008\n",
       "5    0.222305\n",
       "Name: count, dtype: float64"
      ]
     },
     "execution_count": 10,
     "metadata": {},
     "output_type": "execute_result"
    }
   ],
   "source": [
    "(df[\"userRating\"].value_counts() / df.shape[0]).sort_index()"
   ]
  },
  {
   "cell_type": "markdown",
   "metadata": {},
   "source": [
    "**repeats**, numero di volte che un problema è stato completato."
   ]
  },
  {
   "cell_type": "code",
   "execution_count": 11,
   "metadata": {},
   "outputs": [
    {
     "data": {
      "text/plain": [
       "count    139430.000\n",
       "mean         48.434\n",
       "std         550.255\n",
       "min           0.000\n",
       "25%           1.000\n",
       "50%           4.000\n",
       "75%          12.000\n",
       "max       44491.000\n",
       "Name: repeats, dtype: float64"
      ]
     },
     "execution_count": 11,
     "metadata": {},
     "output_type": "execute_result"
    }
   ],
   "source": [
    "df[\"repeats\"].describe().round(3)"
   ]
  },
  {
   "cell_type": "markdown",
   "metadata": {},
   "source": [
    "**isBenchmark**, indica se il problema è stato tracciato da Moonboard."
   ]
  },
  {
   "cell_type": "code",
   "execution_count": 12,
   "metadata": {},
   "outputs": [
    {
     "data": {
      "text/plain": [
       "isBenchmark\n",
       "False    0.9898\n",
       "True     0.0102\n",
       "Name: count, dtype: float64"
      ]
     },
     "execution_count": 12,
     "metadata": {},
     "output_type": "execute_result"
    }
   ],
   "source": [
    "(df[\"isBenchmark\"].value_counts() / df.shape[0]).round(4)"
   ]
  },
  {
   "cell_type": "markdown",
   "metadata": {},
   "source": [
    "**isMaster**, indica se il problema è usato in competizioni.\n"
   ]
  },
  {
   "cell_type": "code",
   "execution_count": 13,
   "metadata": {},
   "outputs": [
    {
     "data": {
      "text/plain": [
       "isMaster\n",
       "False    0.999857\n",
       "True     0.000143\n",
       "Name: count, dtype: float64"
      ]
     },
     "execution_count": 13,
     "metadata": {},
     "output_type": "execute_result"
    }
   ],
   "source": [
    "(df[\"isMaster\"].value_counts() / df.shape[0])"
   ]
  },
  {
   "cell_type": "markdown",
   "metadata": {},
   "source": [
    "**hasBetaVideo**, se il problema ha un video in cui si mostra la risoluzione."
   ]
  },
  {
   "cell_type": "code",
   "execution_count": 14,
   "metadata": {},
   "outputs": [
    {
     "data": {
      "text/plain": [
       "hasBetaVideo\n",
       "False    0.971054\n",
       "True     0.028946\n",
       "Name: count, dtype: float64"
      ]
     },
     "execution_count": 14,
     "metadata": {},
     "output_type": "execute_result"
    }
   ],
   "source": [
    "(df[\"hasBetaVideo\"].value_counts() / df.shape[0])"
   ]
  },
  {
   "cell_type": "markdown",
   "metadata": {},
   "source": [
    "**holdsets**, tipo di prese utilizzate per la tracciatura.\n"
   ]
  },
  {
   "cell_type": "code",
   "execution_count": 15,
   "metadata": {},
   "outputs": [
    {
     "data": {
      "text/plain": [
       "holdsets\n",
       "Original School Holds|Hold Set A|Hold Set B                            32702\n",
       "Hold Set A|Hold Set B                                                  24720\n",
       "Hold Set A|Hold Set B|Hold Set C                                       12873\n",
       "Original School Holds|Hold Set A|Hold Set B|Hold Set C                  8615\n",
       "Original School Holds|Hold Set A|Hold Set B|Hold Set C|Wooden Holds     4963\n",
       "                                                                       ...  \n",
       "Wooden Holds|Wooden Holds B                                               43\n",
       "Original School Holds|Wooden Holds|Wooden Holds B                         32\n",
       "Hold Set B|Wooden Holds B                                                 31\n",
       "Original School Holds|Wooden Holds B                                      19\n",
       "Wooden Holds B                                                             5\n",
       "Name: count, Length: 78, dtype: int64"
      ]
     },
     "execution_count": 15,
     "metadata": {},
     "output_type": "execute_result"
    }
   ],
   "source": [
    "df[\"holdsets\"].value_counts() #molti dubbi su questa colonna"
   ]
  },
  {
   "cell_type": "markdown",
   "metadata": {},
   "source": [
    "**holdsetup.description**, anno della Moonboard e grado di inclinazione del problema."
   ]
  },
  {
   "cell_type": "code",
   "execution_count": 16,
   "metadata": {},
   "outputs": [
    {
     "data": {
      "text/plain": [
       "<Axes: ylabel='holdsetup.description'>"
      ]
     },
     "execution_count": 16,
     "metadata": {},
     "output_type": "execute_result"
    },
    {
     "data": {
      "image/png": "[encoded data removed]",
      "text/plain": [
       "<Figure size 640x480 with 1 Axes>"
      ]
     },
     "metadata": {},
     "output_type": "display_data"
    }
   ],
   "source": [
    "df[\"holdsetup.description\"] = df[\"holdsetup.description\"].replace(2016, \"2016\")\n",
    "df[\"holdsetup.description\"].value_counts().plot(kind=\"barh\")"
   ]
  },
  {
   "cell_type": "markdown",
   "metadata": {},
   "source": [
    "**Variabili A1, A2, ..., K17, K18.**"
   ]
  },
  {
   "cell_type": "code",
   "execution_count": 17,
   "metadata": {},
   "outputs": [],
   "source": [
    "columns = df.loc[:, \"A1\":\"K18\"].columns\n",
    "result = df[columns].apply(lambda col: col.value_counts() / df.shape[0])"
   ]
  },
  {
   "cell_type": "code",
   "execution_count": 25,
   "metadata": {},
   "outputs": [
    {
     "data": {
      "application/vnd.microsoft.datawrangler.viewer.v0+json": {
       "columns": [
        {
         "name": "index",
         "rawType": "int64",
         "type": "integer"
        },
        {
         "name": "A1",
         "rawType": "float64",
         "type": "float"
        },
        {
         "name": "A2",
         "rawType": "float64",
         "type": "float"
        },
        {
         "name": "A3",
         "rawType": "float64",
         "type": "float"
        },
        {
         "name": "A4",
         "rawType": "float64",
         "type": "float"
        },
        {
         "name": "A5",
         "rawType": "float64",
         "type": "float"
        }
       ],
       "conversionMethod": "pd.DataFrame",
       "ref": "8e91e03a-3694-4885-aac9-6dfc5f544521",
       "rows": [
        [
         "0",
         "0.997",
         "0.993",
         "0.99",
         "0.982",
         "0.922"
        ],
        [
         "1",
         "0.001",
         "0.003",
         "0.005",
         "0.005",
         "0.008"
        ],
        [
         "2",
         "0.002",
         "0.004",
         "0.005",
         "0.013",
         "0.071"
        ],
        [
         "3",
         null,
         null,
         null,
         null,
         null
        ]
       ],
       "shape": {
        "columns": 5,
        "rows": 4
       }
      },
      "text/html": [
       "<div>\n",
       "<style scoped>\n",
       "    .dataframe tbody tr th:only-of-type {\n",
       "        vertical-align: middle;\n",
       "    }\n",
       "\n",
       "    .dataframe tbody tr th {\n",
       "        vertical-align: top;\n",
       "    }\n",
       "\n",
       "    .dataframe thead th {\n",
       "        text-align: right;\n",
       "    }\n",
       "</style>\n",
       "<table border=\"1\" class=\"dataframe\">\n",
       "  <thead>\n",
       "    <tr style=\"text-align: right;\">\n",
       "      <th></th>\n",
       "      <th>A1</th>\n",
       "      <th>A2</th>\n",
       "      <th>A3</th>\n",
       "      <th>A4</th>\n",
       "      <th>A5</th>\n",
       "    </tr>\n",
       "  </thead>\n",
       "  <tbody>\n",
       "    <tr>\n",
       "      <th>0</th>\n",
       "      <td>0.997</td>\n",
       "      <td>0.993</td>\n",
       "      <td>0.990</td>\n",
       "      <td>0.982</td>\n",
       "      <td>0.922</td>\n",
       "    </tr>\n",
       "    <tr>\n",
       "      <th>1</th>\n",
       "      <td>0.001</td>\n",
       "      <td>0.003</td>\n",
       "      <td>0.005</td>\n",
       "      <td>0.005</td>\n",
       "      <td>0.008</td>\n",
       "    </tr>\n",
       "    <tr>\n",
       "      <th>2</th>\n",
       "      <td>0.002</td>\n",
       "      <td>0.004</td>\n",
       "      <td>0.005</td>\n",
       "      <td>0.013</td>\n",
       "      <td>0.071</td>\n",
       "    </tr>\n",
       "    <tr>\n",
       "      <th>3</th>\n",
       "      <td>NaN</td>\n",
       "      <td>NaN</td>\n",
       "      <td>NaN</td>\n",
       "      <td>NaN</td>\n",
       "      <td>NaN</td>\n",
       "    </tr>\n",
       "  </tbody>\n",
       "</table>\n",
       "</div>"
      ],
      "text/plain": [
       "      A1     A2     A3     A4     A5\n",
       "0  0.997  0.993  0.990  0.982  0.922\n",
       "1  0.001  0.003  0.005  0.005  0.008\n",
       "2  0.002  0.004  0.005  0.013  0.071\n",
       "3    NaN    NaN    NaN    NaN    NaN"
      ]
     },
     "execution_count": 25,
     "metadata": {},
     "output_type": "execute_result"
    }
   ],
   "source": [
    "result.iloc[:, 0:5].round(3)"
   ]
  },
  {
   "cell_type": "code",
   "execution_count": 26,
   "metadata": {},
   "outputs": [
    {
     "data": {
      "application/vnd.microsoft.datawrangler.viewer.v0+json": {
       "columns": [
        {
         "name": "index",
         "rawType": "int64",
         "type": "integer"
        },
        {
         "name": "K14",
         "rawType": "float64",
         "type": "float"
        },
        {
         "name": "K15",
         "rawType": "float64",
         "type": "float"
        },
        {
         "name": "K16",
         "rawType": "float64",
         "type": "float"
        },
        {
         "name": "K17",
         "rawType": "float64",
         "type": "float"
        },
        {
         "name": "K18",
         "rawType": "float64",
         "type": "float"
        }
       ],
       "conversionMethod": "pd.DataFrame",
       "ref": "501beb5b-924d-4536-a96f-41cfb29292a1",
       "rows": [
        [
         "0",
         "0.984",
         "0.988",
         "0.99",
         "0.997",
         "0.932"
        ],
        [
         "1",
         "0.016",
         "0.012",
         "0.01",
         "0.003",
         "0.0"
        ],
        [
         "2",
         null,
         null,
         null,
         null,
         null
        ],
        [
         "3",
         null,
         null,
         null,
         null,
         "0.068"
        ]
       ],
       "shape": {
        "columns": 5,
        "rows": 4
       }
      },
      "text/html": [
       "<div>\n",
       "<style scoped>\n",
       "    .dataframe tbody tr th:only-of-type {\n",
       "        vertical-align: middle;\n",
       "    }\n",
       "\n",
       "    .dataframe tbody tr th {\n",
       "        vertical-align: top;\n",
       "    }\n",
       "\n",
       "    .dataframe thead th {\n",
       "        text-align: right;\n",
       "    }\n",
       "</style>\n",
       "<table border=\"1\" class=\"dataframe\">\n",
       "  <thead>\n",
       "    <tr style=\"text-align: right;\">\n",
       "      <th></th>\n",
       "      <th>K14</th>\n",
       "      <th>K15</th>\n",
       "      <th>K16</th>\n",
       "      <th>K17</th>\n",
       "      <th>K18</th>\n",
       "    </tr>\n",
       "  </thead>\n",
       "  <tbody>\n",
       "    <tr>\n",
       "      <th>0</th>\n",
       "      <td>0.984</td>\n",
       "      <td>0.988</td>\n",
       "      <td>0.99</td>\n",
       "      <td>0.997</td>\n",
       "      <td>0.932</td>\n",
       "    </tr>\n",
       "    <tr>\n",
       "      <th>1</th>\n",
       "      <td>0.016</td>\n",
       "      <td>0.012</td>\n",
       "      <td>0.01</td>\n",
       "      <td>0.003</td>\n",
       "      <td>0.000</td>\n",
       "    </tr>\n",
       "    <tr>\n",
       "      <th>2</th>\n",
       "      <td>NaN</td>\n",
       "      <td>NaN</td>\n",
       "      <td>NaN</td>\n",
       "      <td>NaN</td>\n",
       "      <td>NaN</td>\n",
       "    </tr>\n",
       "    <tr>\n",
       "      <th>3</th>\n",
       "      <td>NaN</td>\n",
       "      <td>NaN</td>\n",
       "      <td>NaN</td>\n",
       "      <td>NaN</td>\n",
       "      <td>0.068</td>\n",
       "    </tr>\n",
       "  </tbody>\n",
       "</table>\n",
       "</div>"
      ],
      "text/plain": [
       "     K14    K15   K16    K17    K18\n",
       "0  0.984  0.988  0.99  0.997  0.932\n",
       "1  0.016  0.012  0.01  0.003  0.000\n",
       "2    NaN    NaN   NaN    NaN    NaN\n",
       "3    NaN    NaN   NaN    NaN  0.068"
      ]
     },
     "execution_count": 26,
     "metadata": {},
     "output_type": "execute_result"
    }
   ],
   "source": [
    "result.iloc[:, 193:198].round(3)"
   ]
  },
  {
   "cell_type": "code",
   "execution_count": 29,
   "metadata": {},
   "outputs": [],
   "source": [
    "import numpy as np\n",
    "import matplotlib.pyplot as plt\n",
    "from matplotlib.colors import ListedColormap\n",
    "\n",
    "def plot_observation(df, apiId):\n",
    "    relevant_columns = sorted(\n",
    "        [col for col in df.columns if col[0] in \"ABCDEFGHIJK\" and col[1:].isdigit()],\n",
    "        key=lambda x: (x[0], int(x[1:]))\n",
    "    )\n",
    "    \n",
    "    if not relevant_columns:\n",
    "        print(\"Nessuna colonna rilevante trovata (A1-K18).\")\n",
    "        return\n",
    "    \n",
    "    row = df[df['apiId'] == apiId]\n",
    "    if row.empty:\n",
    "        print(f\"apiId {apiId} non trovato.\")\n",
    "        return\n",
    "\n",
    "    name = row['name'].values[0]\n",
    "\n",
    "    try:\n",
    "        obs = row[relevant_columns].to_numpy().reshape((11, 18))  # (Y=18, X=11)\n",
    "    except ValueError as e:\n",
    "        print(f\"Errore durante il reshape: {e}\")\n",
    "        print(f\"Assicurati che ci siano esattamente 198 valori (18x11) per apiId {apiId}.\")\n",
    "        return\n",
    "\n",
    "    # Ruota la matrice di 90 gradi a sinistra\n",
    "    obs_rotated = np.transpose(obs)[::-1]\n",
    "\n",
    "    obs = obs_rotated\n",
    "\n",
    "    # Definisci una mappa di colori personalizzata\n",
    "    cmap = ListedColormap([\"white\", \"black\", \"green\", \"red\"])\n",
    "    bounds = [0, 1, 2, 3, 4]\n",
    "    norm = plt.Normalize(vmin=0, vmax=3)\n",
    "\n",
    "    plt.figure(figsize=(6, 6))\n",
    "    plt.imshow(obs, cmap=cmap, norm=norm, aspect=\"equal\")  \n",
    "\n",
    "    plt.yticks(ticks=np.arange(18), labels=np.arange(18, 0, -1))  # X da 'A' a 'K'\n",
    "    plt.xticks(ticks=np.arange(11), labels=list(\"ABCDEFGHIJK\"))  # Y da 18 a 1\n",
    "\n",
    "    plt.title(f\"Problem: {name}\")\n",
    "\n",
    "    plt.show()\n",
    "\n",
    "    filtered_row = df[df['apiId'] == apiId]\n",
    "\n",
    "    if not filtered_row.empty:\n",
    "        print(\"Grade:\", filtered_row['grade'].values[0])\n",
    "        print(\"User Grade:\", filtered_row['userGrade'].values[0])\n",
    "        print(\"Repeats:\", filtered_row['repeats'].values[0])\n",
    "        print(\"SetBy:\", filtered_row['setby'].values[0])\n",
    "        print(\"HoldSetup.Description:\", filtered_row['holdsetup.description'].values[0])\n",
    "        print(\"Benchmark:\", filtered_row['isBenchmark'].values[0])\n",
    "    else:\n",
    "        print(\"Nessuna osservazione trovata\")"
   ]
  },
  {
   "cell_type": "code",
   "execution_count": 30,
   "metadata": {},
   "outputs": [],
   "source": [
    "import random\n",
    "\n",
    "def random_apiId_generator(df):\n",
    "    api_ids = df['apiId'].unique()\n",
    "    \n",
    "    while True:\n",
    "        yield random.choice(api_ids)"
   ]
  },
  {
   "cell_type": "code",
   "execution_count": 34,
   "metadata": {},
   "outputs": [
    {
     "data": {
      "image/png": "[encoded data removed]",
      "text/plain": [
       "<Figure size 600x600 with 1 Axes>"
      ]
     },
     "metadata": {},
     "output_type": "display_data"
    },
    {
     "name": "stdout",
     "output_type": "stream",
     "text": [
      "Grade: 6C\n",
      "User Grade: 6C\n",
      "Repeats: 8\n",
      "SetBy: luca di cino\n",
      "HoldSetup.Description: 2017_40\n",
      "Benchmark: False\n"
     ]
    }
   ],
   "source": [
    "apiId_gen = random_apiId_generator(df)\n",
    "x = next(apiId_gen)\n",
    "plot_observation(df, apiId=x)"
   ]
  }
 ],
 "metadata": {
  "kernelspec": {
   "display_name": "Python 3",
   "language": "python",
   "name": "python3"
  },
  "language_info": {
   "codemirror_mode": {
    "name": "ipython",
    "version": 3
   },
   "file_extension": ".py",
   "mimetype": "text/x-python",
   "name": "python",
   "nbconvert_exporter": "python",
   "pygments_lexer": "ipython3",
   "version": "3.12.7"
  }
 },
 "nbformat": 4,
 "nbformat_minor": 2
}
