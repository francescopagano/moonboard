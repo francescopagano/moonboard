{
 "cells": [
  {
   "cell_type": "code",
   "execution_count": 1,
   "metadata": {},
   "outputs": [],
   "source": [
    "import json\n",
    "import pandas as pd\n",
    "import numpy as np\n",
    "from random import randrange\n",
    "from matplotlib import pyplot as plt\n",
    "import seaborn as sns"
   ]
  },
  {
   "cell_type": "markdown",
   "metadata": {},
   "source": [
    "Il seguente notebook viene usato solo per dare uno sguardo alla variabili presenti nel dataset, non verranno modificate ne rimosse"
   ]
  },
  {
   "cell_type": "markdown",
   "metadata": {},
   "source": [
    "In primo luogo analizziamo le variabili che non costituisco la griglia."
   ]
  },
  {
   "cell_type": "code",
   "execution_count": 2,
   "metadata": {},
   "outputs": [
    {
     "data": {
      "application/vnd.microsoft.datawrangler.viewer.v0+json": {
       "columns": [
        {
         "name": "index",
         "rawType": "int64",
         "type": "integer"
        },
        {
         "name": "name",
         "rawType": "object",
         "type": "string"
        },
        {
         "name": "grade",
         "rawType": "object",
         "type": "string"
        },
        {
         "name": "userGrade",
         "rawType": "object",
         "type": "string"
        },
        {
         "name": "setby",
         "rawType": "object",
         "type": "string"
        },
        {
         "name": "userRating",
         "rawType": "int64",
         "type": "integer"
        },
        {
         "name": "repeats",
         "rawType": "int64",
         "type": "integer"
        },
        {
         "name": "isBenchmark",
         "rawType": "bool",
         "type": "boolean"
        },
        {
         "name": "holdsets",
         "rawType": "object",
         "type": "string"
        },
        {
         "name": "apiId",
         "rawType": "int64",
         "type": "integer"
        }
       ],
       "ref": "f1824b2e-5fe1-45a6-b196-c503ebf5d6d1",
       "rows": [
        [
         "0",
         "Far from the Madding Crowd",
         "6B+",
         "6B+",
         "other",
         "4",
         "24993",
         "True",
         "Hold Set B",
         "19215"
        ],
        [
         "1",
         "Wuthering Heights",
         "6B+",
         "6B+",
         "other",
         "4",
         "35673",
         "True",
         "Hold Set A",
         "19216"
        ],
        [
         "2",
         "Problem 3",
         "6B+",
         "6B+",
         "other",
         "4",
         "757",
         "False",
         "Original School Holds | Hold Set A | Hold Set B",
         "19217"
        ],
        [
         "3",
         "HARD TIMES",
         "7A",
         "7A",
         "other",
         "5",
         "8670",
         "True",
         "Hold Set B",
         "19218"
        ],
        [
         "4",
         "Problem 5",
         "7A",
         "7A",
         "other",
         "4",
         "255",
         "False",
         "Hold Set B",
         "19219"
        ],
        [
         "5",
         "CRIME AND PUNISHMENT",
         "7B",
         "7B",
         "other",
         "4",
         "253",
         "False",
         "Original School Holds",
         "19220"
        ],
        [
         "6",
         "Shortround",
         "6C+",
         "6C+",
         "other",
         "4",
         "550",
         "False",
         "Original School Holds",
         "19221"
        ],
        [
         "7",
         "Vurt",
         "7B",
         "7B",
         "other",
         "4",
         "1301",
         "True",
         "Hold Set A | Hold Set B",
         "19222"
        ],
        [
         "8",
         "Problem 9",
         "7A+",
         "7A+",
         "other",
         "4",
         "2413",
         "True",
         "Hold Set A | Hold Set B",
         "19223"
        ],
        [
         "9",
         "Tess",
         "6C+",
         "6C+",
         "other",
         "4",
         "9617",
         "True",
         "Original School Holds | Hold Set A | Hold Set B",
         "19224"
        ]
       ],
       "shape": {
        "columns": 9,
        "rows": 10
       }
      },
      "text/html": [
       "<div>\n",
       "<style scoped>\n",
       "    .dataframe tbody tr th:only-of-type {\n",
       "        vertical-align: middle;\n",
       "    }\n",
       "\n",
       "    .dataframe tbody tr th {\n",
       "        vertical-align: top;\n",
       "    }\n",
       "\n",
       "    .dataframe thead th {\n",
       "        text-align: right;\n",
       "    }\n",
       "</style>\n",
       "<table border=\"1\" class=\"dataframe\">\n",
       "  <thead>\n",
       "    <tr style=\"text-align: right;\">\n",
       "      <th></th>\n",
       "      <th>name</th>\n",
       "      <th>grade</th>\n",
       "      <th>userGrade</th>\n",
       "      <th>setby</th>\n",
       "      <th>userRating</th>\n",
       "      <th>repeats</th>\n",
       "      <th>isBenchmark</th>\n",
       "      <th>holdsets</th>\n",
       "      <th>apiId</th>\n",
       "    </tr>\n",
       "  </thead>\n",
       "  <tbody>\n",
       "    <tr>\n",
       "      <th>0</th>\n",
       "      <td>Far from the Madding Crowd</td>\n",
       "      <td>6B+</td>\n",
       "      <td>6B+</td>\n",
       "      <td>other</td>\n",
       "      <td>4</td>\n",
       "      <td>24993</td>\n",
       "      <td>True</td>\n",
       "      <td>Hold Set B</td>\n",
       "      <td>19215</td>\n",
       "    </tr>\n",
       "    <tr>\n",
       "      <th>1</th>\n",
       "      <td>Wuthering Heights</td>\n",
       "      <td>6B+</td>\n",
       "      <td>6B+</td>\n",
       "      <td>other</td>\n",
       "      <td>4</td>\n",
       "      <td>35673</td>\n",
       "      <td>True</td>\n",
       "      <td>Hold Set A</td>\n",
       "      <td>19216</td>\n",
       "    </tr>\n",
       "    <tr>\n",
       "      <th>2</th>\n",
       "      <td>Problem 3</td>\n",
       "      <td>6B+</td>\n",
       "      <td>6B+</td>\n",
       "      <td>other</td>\n",
       "      <td>4</td>\n",
       "      <td>757</td>\n",
       "      <td>False</td>\n",
       "      <td>Original School Holds | Hold Set A | Hold Set B</td>\n",
       "      <td>19217</td>\n",
       "    </tr>\n",
       "    <tr>\n",
       "      <th>3</th>\n",
       "      <td>HARD TIMES</td>\n",
       "      <td>7A</td>\n",
       "      <td>7A</td>\n",
       "      <td>other</td>\n",
       "      <td>5</td>\n",
       "      <td>8670</td>\n",
       "      <td>True</td>\n",
       "      <td>Hold Set B</td>\n",
       "      <td>19218</td>\n",
       "    </tr>\n",
       "    <tr>\n",
       "      <th>4</th>\n",
       "      <td>Problem 5</td>\n",
       "      <td>7A</td>\n",
       "      <td>7A</td>\n",
       "      <td>other</td>\n",
       "      <td>4</td>\n",
       "      <td>255</td>\n",
       "      <td>False</td>\n",
       "      <td>Hold Set B</td>\n",
       "      <td>19219</td>\n",
       "    </tr>\n",
       "    <tr>\n",
       "      <th>5</th>\n",
       "      <td>CRIME AND PUNISHMENT</td>\n",
       "      <td>7B</td>\n",
       "      <td>7B</td>\n",
       "      <td>other</td>\n",
       "      <td>4</td>\n",
       "      <td>253</td>\n",
       "      <td>False</td>\n",
       "      <td>Original School Holds</td>\n",
       "      <td>19220</td>\n",
       "    </tr>\n",
       "    <tr>\n",
       "      <th>6</th>\n",
       "      <td>Shortround</td>\n",
       "      <td>6C+</td>\n",
       "      <td>6C+</td>\n",
       "      <td>other</td>\n",
       "      <td>4</td>\n",
       "      <td>550</td>\n",
       "      <td>False</td>\n",
       "      <td>Original School Holds</td>\n",
       "      <td>19221</td>\n",
       "    </tr>\n",
       "    <tr>\n",
       "      <th>7</th>\n",
       "      <td>Vurt</td>\n",
       "      <td>7B</td>\n",
       "      <td>7B</td>\n",
       "      <td>other</td>\n",
       "      <td>4</td>\n",
       "      <td>1301</td>\n",
       "      <td>True</td>\n",
       "      <td>Hold Set A | Hold Set B</td>\n",
       "      <td>19222</td>\n",
       "    </tr>\n",
       "    <tr>\n",
       "      <th>8</th>\n",
       "      <td>Problem 9</td>\n",
       "      <td>7A+</td>\n",
       "      <td>7A+</td>\n",
       "      <td>other</td>\n",
       "      <td>4</td>\n",
       "      <td>2413</td>\n",
       "      <td>True</td>\n",
       "      <td>Hold Set A | Hold Set B</td>\n",
       "      <td>19223</td>\n",
       "    </tr>\n",
       "    <tr>\n",
       "      <th>9</th>\n",
       "      <td>Tess</td>\n",
       "      <td>6C+</td>\n",
       "      <td>6C+</td>\n",
       "      <td>other</td>\n",
       "      <td>4</td>\n",
       "      <td>9617</td>\n",
       "      <td>True</td>\n",
       "      <td>Original School Holds | Hold Set A | Hold Set B</td>\n",
       "      <td>19224</td>\n",
       "    </tr>\n",
       "  </tbody>\n",
       "</table>\n",
       "</div>"
      ],
      "text/plain": [
       "                         name grade userGrade  setby  userRating  repeats  \\\n",
       "0  Far from the Madding Crowd   6B+       6B+  other           4    24993   \n",
       "1           Wuthering Heights   6B+       6B+  other           4    35673   \n",
       "2                   Problem 3   6B+       6B+  other           4      757   \n",
       "3                  HARD TIMES    7A        7A  other           5     8670   \n",
       "4                   Problem 5    7A        7A  other           4      255   \n",
       "5        CRIME AND PUNISHMENT    7B        7B  other           4      253   \n",
       "6                  Shortround   6C+       6C+  other           4      550   \n",
       "7                        Vurt    7B        7B  other           4     1301   \n",
       "8                   Problem 9   7A+       7A+  other           4     2413   \n",
       "9                        Tess   6C+       6C+  other           4     9617   \n",
       "\n",
       "   isBenchmark                                         holdsets  apiId  \n",
       "0         True                                       Hold Set B  19215  \n",
       "1         True                                       Hold Set A  19216  \n",
       "2        False  Original School Holds | Hold Set A | Hold Set B  19217  \n",
       "3         True                                       Hold Set B  19218  \n",
       "4        False                                       Hold Set B  19219  \n",
       "5        False                            Original School Holds  19220  \n",
       "6        False                            Original School Holds  19221  \n",
       "7         True                          Hold Set A | Hold Set B  19222  \n",
       "8         True                          Hold Set A | Hold Set B  19223  \n",
       "9         True  Original School Holds | Hold Set A | Hold Set B  19224  "
      ]
     },
     "execution_count": 2,
     "metadata": {},
     "output_type": "execute_result"
    }
   ],
   "source": [
    "df = pd.read_csv('C:/Users/fra24/OneDrive/Documenti/uni/magistrale/tesi/data/moonboard_2016_cleaned.csv', encoding='utf-8')\n",
    "df.iloc[:,0:9].head(10)"
   ]
  },
  {
   "cell_type": "code",
   "execution_count": 3,
   "metadata": {},
   "outputs": [
    {
     "name": "stdout",
     "output_type": "stream",
     "text": [
      "<class 'pandas.core.frame.DataFrame'>\n",
      "RangeIndex: 59506 entries, 0 to 59505\n",
      "Data columns (total 9 columns):\n",
      " #   Column       Non-Null Count  Dtype \n",
      "---  ------       --------------  ----- \n",
      " 0   name         59506 non-null  object\n",
      " 1   grade        59506 non-null  object\n",
      " 2   userGrade    31427 non-null  object\n",
      " 3   setby        59506 non-null  object\n",
      " 4   userRating   59506 non-null  int64 \n",
      " 5   repeats      59506 non-null  int64 \n",
      " 6   isBenchmark  59506 non-null  bool  \n",
      " 7   holdsets     59506 non-null  object\n",
      " 8   apiId        59506 non-null  int64 \n",
      "dtypes: bool(1), int64(3), object(5)\n",
      "memory usage: 3.7+ MB\n"
     ]
    }
   ],
   "source": [
    "df.iloc[:,0:9].info()"
   ]
  },
  {
   "cell_type": "code",
   "execution_count": 4,
   "metadata": {},
   "outputs": [
    {
     "data": {
      "application/vnd.microsoft.datawrangler.viewer.v0+json": {
       "columns": [
        {
         "name": "index",
         "rawType": "object",
         "type": "string"
        },
        {
         "name": "userRating",
         "rawType": "float64",
         "type": "float"
        },
        {
         "name": "repeats",
         "rawType": "float64",
         "type": "float"
        },
        {
         "name": "apiId",
         "rawType": "float64",
         "type": "float"
        }
       ],
       "ref": "bb0fa26d-9978-44af-981c-da58b07e9153",
       "rows": [
        [
         "count",
         "59506.0",
         "59506.0",
         "59506.0"
        ],
        [
         "mean",
         "3.4",
         "51.94",
         "347782.21"
        ],
        [
         "std",
         "1.72",
         "638.87",
         "95064.18"
        ],
        [
         "min",
         "0.0",
         "0.0",
         "19215.0"
        ],
        [
         "25%",
         "3.0",
         "1.0",
         "320999.25"
        ],
        [
         "50%",
         "4.0",
         "3.0",
         "365410.5"
        ],
        [
         "75%",
         "4.0",
         "10.0",
         "415076.25"
        ],
        [
         "max",
         "5.0",
         "44491.0",
         "462581.0"
        ]
       ],
       "shape": {
        "columns": 3,
        "rows": 8
       }
      },
      "text/html": [
       "<div>\n",
       "<style scoped>\n",
       "    .dataframe tbody tr th:only-of-type {\n",
       "        vertical-align: middle;\n",
       "    }\n",
       "\n",
       "    .dataframe tbody tr th {\n",
       "        vertical-align: top;\n",
       "    }\n",
       "\n",
       "    .dataframe thead th {\n",
       "        text-align: right;\n",
       "    }\n",
       "</style>\n",
       "<table border=\"1\" class=\"dataframe\">\n",
       "  <thead>\n",
       "    <tr style=\"text-align: right;\">\n",
       "      <th></th>\n",
       "      <th>userRating</th>\n",
       "      <th>repeats</th>\n",
       "      <th>apiId</th>\n",
       "    </tr>\n",
       "  </thead>\n",
       "  <tbody>\n",
       "    <tr>\n",
       "      <th>count</th>\n",
       "      <td>59506.00</td>\n",
       "      <td>59506.00</td>\n",
       "      <td>59506.00</td>\n",
       "    </tr>\n",
       "    <tr>\n",
       "      <th>mean</th>\n",
       "      <td>3.40</td>\n",
       "      <td>51.94</td>\n",
       "      <td>347782.21</td>\n",
       "    </tr>\n",
       "    <tr>\n",
       "      <th>std</th>\n",
       "      <td>1.72</td>\n",
       "      <td>638.87</td>\n",
       "      <td>95064.18</td>\n",
       "    </tr>\n",
       "    <tr>\n",
       "      <th>min</th>\n",
       "      <td>0.00</td>\n",
       "      <td>0.00</td>\n",
       "      <td>19215.00</td>\n",
       "    </tr>\n",
       "    <tr>\n",
       "      <th>25%</th>\n",
       "      <td>3.00</td>\n",
       "      <td>1.00</td>\n",
       "      <td>320999.25</td>\n",
       "    </tr>\n",
       "    <tr>\n",
       "      <th>50%</th>\n",
       "      <td>4.00</td>\n",
       "      <td>3.00</td>\n",
       "      <td>365410.50</td>\n",
       "    </tr>\n",
       "    <tr>\n",
       "      <th>75%</th>\n",
       "      <td>4.00</td>\n",
       "      <td>10.00</td>\n",
       "      <td>415076.25</td>\n",
       "    </tr>\n",
       "    <tr>\n",
       "      <th>max</th>\n",
       "      <td>5.00</td>\n",
       "      <td>44491.00</td>\n",
       "      <td>462581.00</td>\n",
       "    </tr>\n",
       "  </tbody>\n",
       "</table>\n",
       "</div>"
      ],
      "text/plain": [
       "       userRating   repeats      apiId\n",
       "count    59506.00  59506.00   59506.00\n",
       "mean         3.40     51.94  347782.21\n",
       "std          1.72    638.87   95064.18\n",
       "min          0.00      0.00   19215.00\n",
       "25%          3.00      1.00  320999.25\n",
       "50%          4.00      3.00  365410.50\n",
       "75%          4.00     10.00  415076.25\n",
       "max          5.00  44491.00  462581.00"
      ]
     },
     "execution_count": 4,
     "metadata": {},
     "output_type": "execute_result"
    }
   ],
   "source": [
    "df.iloc[:,0:9].describe().round(2)"
   ]
  },
  {
   "cell_type": "markdown",
   "metadata": {},
   "source": [
    "***VALORI MANCANTI:***"
   ]
  },
  {
   "cell_type": "code",
   "execution_count": 5,
   "metadata": {},
   "outputs": [
    {
     "data": {
      "application/vnd.microsoft.datawrangler.viewer.v0+json": {
       "columns": [
        {
         "name": "index",
         "rawType": "object",
         "type": "string"
        },
        {
         "name": "0",
         "rawType": "int64",
         "type": "integer"
        }
       ],
       "ref": "90f55b13-9692-4bae-b29d-8aa92cb73048",
       "rows": [
        [
         "name",
         "0"
        ],
        [
         "grade",
         "0"
        ],
        [
         "userGrade",
         "28079"
        ],
        [
         "setby",
         "0"
        ],
        [
         "userRating",
         "0"
        ],
        [
         "repeats",
         "0"
        ],
        [
         "isBenchmark",
         "0"
        ],
        [
         "holdsets",
         "0"
        ],
        [
         "apiId",
         "0"
        ]
       ],
       "shape": {
        "columns": 1,
        "rows": 9
       }
      },
      "text/plain": [
       "name               0\n",
       "grade              0\n",
       "userGrade      28079\n",
       "setby              0\n",
       "userRating         0\n",
       "repeats            0\n",
       "isBenchmark        0\n",
       "holdsets           0\n",
       "apiId              0\n",
       "dtype: int64"
      ]
     },
     "execution_count": 5,
     "metadata": {},
     "output_type": "execute_result"
    }
   ],
   "source": [
    "df.iloc[:,0:9].isna().sum()"
   ]
  },
  {
   "cell_type": "markdown",
   "metadata": {},
   "source": [
    "***Analisi univariate***"
   ]
  },
  {
   "cell_type": "markdown",
   "metadata": {},
   "source": [
    "**grade**, livello di difficoltà assegnato dal creatore."
   ]
  },
  {
   "cell_type": "code",
   "execution_count": 6,
   "metadata": {},
   "outputs": [
    {
     "data": {
      "text/plain": [
       "<Axes: ylabel='grade'>"
      ]
     },
     "execution_count": 6,
     "metadata": {},
     "output_type": "execute_result"
    },
    {
     "data": {
      "image/png": "[encoded data removed]",
      "text/plain": [
       "<Figure size 640x480 with 1 Axes>"
      ]
     },
     "metadata": {},
     "output_type": "display_data"
    }
   ],
   "source": [
    "df[\"grade\"].value_counts().plot(kind=\"barh\")"
   ]
  },
  {
   "cell_type": "markdown",
   "metadata": {},
   "source": [
    "**userGrade**, livello di difficoltà assegnato dagli utenti."
   ]
  },
  {
   "cell_type": "code",
   "execution_count": 7,
   "metadata": {},
   "outputs": [
    {
     "data": {
      "text/plain": [
       "<Axes: ylabel='userGrade'>"
      ]
     },
     "execution_count": 7,
     "metadata": {},
     "output_type": "execute_result"
    },
    {
     "data": {
      "image/png": "[encoded data removed]",
      "text/plain": [
       "<Figure size 640x480 with 1 Axes>"
      ]
     },
     "metadata": {},
     "output_type": "display_data"
    }
   ],
   "source": [
    "df[\"userGrade\"].value_counts().plot(kind=\"barh\")"
   ]
  },
  {
   "cell_type": "markdown",
   "metadata": {},
   "source": [
    "**userRating**, valutazione degli utenti del problema."
   ]
  },
  {
   "cell_type": "code",
   "execution_count": 8,
   "metadata": {},
   "outputs": [
    {
     "data": {
      "application/vnd.microsoft.datawrangler.viewer.v0+json": {
       "columns": [
        {
         "name": "userRating",
         "rawType": "int64",
         "type": "integer"
        },
        {
         "name": "count",
         "rawType": "float64",
         "type": "float"
        }
       ],
       "ref": "4174acee-dc66-447a-95e8-253e14dd9c65",
       "rows": [
        [
         "0",
         "0.18099015225355428"
        ],
        [
         "1",
         "0.010923268241857964"
        ],
        [
         "2",
         "0.008536954256713608"
        ],
        [
         "3",
         "0.069740866467247"
        ],
        [
         "4",
         "0.4910765300978053"
        ],
        [
         "5",
         "0.2387322286828219"
        ]
       ],
       "shape": {
        "columns": 1,
        "rows": 6
       }
      },
      "text/plain": [
       "userRating\n",
       "0    0.180990\n",
       "1    0.010923\n",
       "2    0.008537\n",
       "3    0.069741\n",
       "4    0.491077\n",
       "5    0.238732\n",
       "Name: count, dtype: float64"
      ]
     },
     "execution_count": 8,
     "metadata": {},
     "output_type": "execute_result"
    }
   ],
   "source": [
    "(df[\"userRating\"].value_counts() / df.shape[0]).sort_index()"
   ]
  },
  {
   "cell_type": "markdown",
   "metadata": {},
   "source": [
    "**repeats**, numero di volte che un problema è stato completato."
   ]
  },
  {
   "cell_type": "code",
   "execution_count": 9,
   "metadata": {},
   "outputs": [
    {
     "data": {
      "application/vnd.microsoft.datawrangler.viewer.v0+json": {
       "columns": [
        {
         "name": "index",
         "rawType": "object",
         "type": "string"
        },
        {
         "name": "repeats",
         "rawType": "float64",
         "type": "float"
        }
       ],
       "ref": "ab879527-180f-46b8-9e2e-7e803141ebf9",
       "rows": [
        [
         "count",
         "59506.0"
        ],
        [
         "mean",
         "51.943"
        ],
        [
         "std",
         "638.866"
        ],
        [
         "min",
         "0.0"
        ],
        [
         "25%",
         "1.0"
        ],
        [
         "50%",
         "3.0"
        ],
        [
         "75%",
         "10.0"
        ],
        [
         "max",
         "44491.0"
        ]
       ],
       "shape": {
        "columns": 1,
        "rows": 8
       }
      },
      "text/plain": [
       "count    59506.000\n",
       "mean        51.943\n",
       "std        638.866\n",
       "min          0.000\n",
       "25%          1.000\n",
       "50%          3.000\n",
       "75%         10.000\n",
       "max      44491.000\n",
       "Name: repeats, dtype: float64"
      ]
     },
     "execution_count": 9,
     "metadata": {},
     "output_type": "execute_result"
    }
   ],
   "source": [
    "df[\"repeats\"].describe().round(3)"
   ]
  },
  {
   "cell_type": "markdown",
   "metadata": {},
   "source": [
    "**isBenchmark**, indica se il problema è stato tracciato da Moonboard."
   ]
  },
  {
   "cell_type": "code",
   "execution_count": 10,
   "metadata": {},
   "outputs": [
    {
     "data": {
      "application/vnd.microsoft.datawrangler.viewer.v0+json": {
       "columns": [
        {
         "name": "isBenchmark",
         "rawType": "bool",
         "type": "boolean"
        },
        {
         "name": "count",
         "rawType": "float64",
         "type": "float"
        }
       ],
       "ref": "9ad562b9-427c-445c-bc8e-1121dc5014f5",
       "rows": [
        [
         "False",
         "0.9918"
        ],
        [
         "True",
         "0.0082"
        ]
       ],
       "shape": {
        "columns": 1,
        "rows": 2
       }
      },
      "text/plain": [
       "isBenchmark\n",
       "False    0.9918\n",
       "True     0.0082\n",
       "Name: count, dtype: float64"
      ]
     },
     "execution_count": 10,
     "metadata": {},
     "output_type": "execute_result"
    }
   ],
   "source": [
    "(df[\"isBenchmark\"].value_counts() / df.shape[0]).round(4)"
   ]
  },
  {
   "cell_type": "markdown",
   "metadata": {},
   "source": [
    "**hasBetaVideo**, se il problema ha un video in cui si mostra la risoluzione. -> RIMOSSO IN PRECEDENZA"
   ]
  },
  {
   "cell_type": "markdown",
   "metadata": {},
   "source": [
    "**holdsets**, tipo di prese utilizzate per la tracciatura.\n"
   ]
  },
  {
   "cell_type": "code",
   "execution_count": 11,
   "metadata": {},
   "outputs": [
    {
     "data": {
      "application/vnd.microsoft.datawrangler.viewer.v0+json": {
       "columns": [
        {
         "name": "holdsets",
         "rawType": "object",
         "type": "string"
        },
        {
         "name": "count",
         "rawType": "int64",
         "type": "integer"
        }
       ],
       "ref": "15003957-ff86-4219-8167-c463ad39bd72",
       "rows": [
        [
         "Original School Holds | Hold Set A | Hold Set B",
         "28758"
        ],
        [
         "Hold Set A | Hold Set B",
         "21484"
        ],
        [
         "Original School Holds | Hold Set A",
         "2580"
        ],
        [
         "Hold Set A",
         "2040"
        ],
        [
         "Original School Holds | Hold Set B",
         "1945"
        ],
        [
         "Hold Set B",
         "1533"
        ],
        [
         "Original School Holds",
         "1166"
        ]
       ],
       "shape": {
        "columns": 1,
        "rows": 7
       }
      },
      "text/plain": [
       "holdsets\n",
       "Original School Holds | Hold Set A | Hold Set B    28758\n",
       "Hold Set A | Hold Set B                            21484\n",
       "Original School Holds | Hold Set A                  2580\n",
       "Hold Set A                                          2040\n",
       "Original School Holds | Hold Set B                  1945\n",
       "Hold Set B                                          1533\n",
       "Original School Holds                               1166\n",
       "Name: count, dtype: int64"
      ]
     },
     "execution_count": 11,
     "metadata": {},
     "output_type": "execute_result"
    }
   ],
   "source": [
    "df[\"holdsets\"].value_counts() #molti dubbi su questa colonna"
   ]
  },
  {
   "cell_type": "markdown",
   "metadata": {},
   "source": [
    "**holdsetup.description**, anno della Moonboard e grado di inclinazione del problema. -> RIMOSSO IN PRECEDENZA"
   ]
  },
  {
   "cell_type": "markdown",
   "metadata": {},
   "source": [
    "**Variabili A1, A2, ..., K17, K18.**"
   ]
  },
  {
   "cell_type": "code",
   "execution_count": 12,
   "metadata": {},
   "outputs": [],
   "source": [
    "columns = df.loc[:, \"A1\":\"K18\"].columns\n",
    "result = df[columns].apply(lambda col: col.value_counts() / df.shape[0])"
   ]
  },
  {
   "cell_type": "code",
   "execution_count": 13,
   "metadata": {},
   "outputs": [
    {
     "data": {
      "application/vnd.microsoft.datawrangler.viewer.v0+json": {
       "columns": [
        {
         "name": "index",
         "rawType": "int64",
         "type": "integer"
        },
        {
         "name": "A1",
         "rawType": "float64",
         "type": "float"
        },
        {
         "name": "A2",
         "rawType": "float64",
         "type": "float"
        },
        {
         "name": "A3",
         "rawType": "float64",
         "type": "float"
        },
        {
         "name": "A4",
         "rawType": "float64",
         "type": "float"
        },
        {
         "name": "A5",
         "rawType": "float64",
         "type": "float"
        }
       ],
       "ref": "3014488f-4f78-4393-a30d-5f7a46f149c2",
       "rows": [
        [
         "0",
         "1.0",
         "1.0",
         "1.0",
         "1.0",
         "0.921"
        ],
        [
         "1",
         null,
         null,
         null,
         null,
         "0.012"
        ],
        [
         "2",
         null,
         null,
         null,
         null,
         "0.067"
        ],
        [
         "3",
         null,
         null,
         null,
         null,
         null
        ]
       ],
       "shape": {
        "columns": 5,
        "rows": 4
       }
      },
      "text/html": [
       "<div>\n",
       "<style scoped>\n",
       "    .dataframe tbody tr th:only-of-type {\n",
       "        vertical-align: middle;\n",
       "    }\n",
       "\n",
       "    .dataframe tbody tr th {\n",
       "        vertical-align: top;\n",
       "    }\n",
       "\n",
       "    .dataframe thead th {\n",
       "        text-align: right;\n",
       "    }\n",
       "</style>\n",
       "<table border=\"1\" class=\"dataframe\">\n",
       "  <thead>\n",
       "    <tr style=\"text-align: right;\">\n",
       "      <th></th>\n",
       "      <th>A1</th>\n",
       "      <th>A2</th>\n",
       "      <th>A3</th>\n",
       "      <th>A4</th>\n",
       "      <th>A5</th>\n",
       "    </tr>\n",
       "  </thead>\n",
       "  <tbody>\n",
       "    <tr>\n",
       "      <th>0</th>\n",
       "      <td>1.0</td>\n",
       "      <td>1.0</td>\n",
       "      <td>1.0</td>\n",
       "      <td>1.0</td>\n",
       "      <td>0.921</td>\n",
       "    </tr>\n",
       "    <tr>\n",
       "      <th>1</th>\n",
       "      <td>NaN</td>\n",
       "      <td>NaN</td>\n",
       "      <td>NaN</td>\n",
       "      <td>NaN</td>\n",
       "      <td>0.012</td>\n",
       "    </tr>\n",
       "    <tr>\n",
       "      <th>2</th>\n",
       "      <td>NaN</td>\n",
       "      <td>NaN</td>\n",
       "      <td>NaN</td>\n",
       "      <td>NaN</td>\n",
       "      <td>0.067</td>\n",
       "    </tr>\n",
       "    <tr>\n",
       "      <th>3</th>\n",
       "      <td>NaN</td>\n",
       "      <td>NaN</td>\n",
       "      <td>NaN</td>\n",
       "      <td>NaN</td>\n",
       "      <td>NaN</td>\n",
       "    </tr>\n",
       "  </tbody>\n",
       "</table>\n",
       "</div>"
      ],
      "text/plain": [
       "    A1   A2   A3   A4     A5\n",
       "0  1.0  1.0  1.0  1.0  0.921\n",
       "1  NaN  NaN  NaN  NaN  0.012\n",
       "2  NaN  NaN  NaN  NaN  0.067\n",
       "3  NaN  NaN  NaN  NaN    NaN"
      ]
     },
     "execution_count": 13,
     "metadata": {},
     "output_type": "execute_result"
    }
   ],
   "source": [
    "result.iloc[:, 0:5].round(3)"
   ]
  },
  {
   "cell_type": "code",
   "execution_count": 14,
   "metadata": {},
   "outputs": [
    {
     "data": {
      "application/vnd.microsoft.datawrangler.viewer.v0+json": {
       "columns": [
        {
         "name": "index",
         "rawType": "int64",
         "type": "integer"
        },
        {
         "name": "K14",
         "rawType": "float64",
         "type": "float"
        },
        {
         "name": "K15",
         "rawType": "float64",
         "type": "float"
        },
        {
         "name": "K16",
         "rawType": "float64",
         "type": "float"
        },
        {
         "name": "K17",
         "rawType": "float64",
         "type": "float"
        },
        {
         "name": "K18",
         "rawType": "float64",
         "type": "float"
        }
       ],
       "ref": "9cd44c0a-0135-498f-a42e-eb2ddc1b4831",
       "rows": [
        [
         "0",
         "0.977",
         "1.0",
         "0.984",
         "1.0",
         "0.898"
        ],
        [
         "1",
         "0.023",
         null,
         "0.016",
         null,
         "0.0"
        ],
        [
         "2",
         null,
         null,
         null,
         null,
         null
        ],
        [
         "3",
         null,
         null,
         null,
         null,
         "0.102"
        ]
       ],
       "shape": {
        "columns": 5,
        "rows": 4
       }
      },
      "text/html": [
       "<div>\n",
       "<style scoped>\n",
       "    .dataframe tbody tr th:only-of-type {\n",
       "        vertical-align: middle;\n",
       "    }\n",
       "\n",
       "    .dataframe tbody tr th {\n",
       "        vertical-align: top;\n",
       "    }\n",
       "\n",
       "    .dataframe thead th {\n",
       "        text-align: right;\n",
       "    }\n",
       "</style>\n",
       "<table border=\"1\" class=\"dataframe\">\n",
       "  <thead>\n",
       "    <tr style=\"text-align: right;\">\n",
       "      <th></th>\n",
       "      <th>K14</th>\n",
       "      <th>K15</th>\n",
       "      <th>K16</th>\n",
       "      <th>K17</th>\n",
       "      <th>K18</th>\n",
       "    </tr>\n",
       "  </thead>\n",
       "  <tbody>\n",
       "    <tr>\n",
       "      <th>0</th>\n",
       "      <td>0.977</td>\n",
       "      <td>1.0</td>\n",
       "      <td>0.984</td>\n",
       "      <td>1.0</td>\n",
       "      <td>0.898</td>\n",
       "    </tr>\n",
       "    <tr>\n",
       "      <th>1</th>\n",
       "      <td>0.023</td>\n",
       "      <td>NaN</td>\n",
       "      <td>0.016</td>\n",
       "      <td>NaN</td>\n",
       "      <td>0.000</td>\n",
       "    </tr>\n",
       "    <tr>\n",
       "      <th>2</th>\n",
       "      <td>NaN</td>\n",
       "      <td>NaN</td>\n",
       "      <td>NaN</td>\n",
       "      <td>NaN</td>\n",
       "      <td>NaN</td>\n",
       "    </tr>\n",
       "    <tr>\n",
       "      <th>3</th>\n",
       "      <td>NaN</td>\n",
       "      <td>NaN</td>\n",
       "      <td>NaN</td>\n",
       "      <td>NaN</td>\n",
       "      <td>0.102</td>\n",
       "    </tr>\n",
       "  </tbody>\n",
       "</table>\n",
       "</div>"
      ],
      "text/plain": [
       "     K14  K15    K16  K17    K18\n",
       "0  0.977  1.0  0.984  1.0  0.898\n",
       "1  0.023  NaN  0.016  NaN  0.000\n",
       "2    NaN  NaN    NaN  NaN    NaN\n",
       "3    NaN  NaN    NaN  NaN  0.102"
      ]
     },
     "execution_count": 14,
     "metadata": {},
     "output_type": "execute_result"
    }
   ],
   "source": [
    "result.iloc[:, 193:198].round(3)"
   ]
  },
  {
   "cell_type": "code",
   "execution_count": 15,
   "metadata": {},
   "outputs": [
    {
     "data": {
      "application/vnd.microsoft.datawrangler.viewer.v0+json": {
       "columns": [
        {
         "name": "index",
         "rawType": "int64",
         "type": "integer"
        },
        {
         "name": "A1",
         "rawType": "float64",
         "type": "float"
        },
        {
         "name": "A2",
         "rawType": "float64",
         "type": "float"
        },
        {
         "name": "A3",
         "rawType": "float64",
         "type": "float"
        },
        {
         "name": "A4",
         "rawType": "float64",
         "type": "float"
        },
        {
         "name": "A5",
         "rawType": "float64",
         "type": "float"
        },
        {
         "name": "A6",
         "rawType": "float64",
         "type": "float"
        },
        {
         "name": "A7",
         "rawType": "float64",
         "type": "float"
        },
        {
         "name": "A8",
         "rawType": "float64",
         "type": "float"
        },
        {
         "name": "A9",
         "rawType": "float64",
         "type": "float"
        },
        {
         "name": "A10",
         "rawType": "float64",
         "type": "float"
        },
        {
         "name": "A11",
         "rawType": "float64",
         "type": "float"
        },
        {
         "name": "A12",
         "rawType": "float64",
         "type": "float"
        },
        {
         "name": "A13",
         "rawType": "float64",
         "type": "float"
        },
        {
         "name": "A14",
         "rawType": "float64",
         "type": "float"
        },
        {
         "name": "A15",
         "rawType": "float64",
         "type": "float"
        },
        {
         "name": "A16",
         "rawType": "float64",
         "type": "float"
        },
        {
         "name": "A17",
         "rawType": "float64",
         "type": "float"
        },
        {
         "name": "A18",
         "rawType": "float64",
         "type": "float"
        },
        {
         "name": "B1",
         "rawType": "float64",
         "type": "float"
        },
        {
         "name": "B2",
         "rawType": "float64",
         "type": "float"
        },
        {
         "name": "B3",
         "rawType": "float64",
         "type": "float"
        },
        {
         "name": "B4",
         "rawType": "float64",
         "type": "float"
        },
        {
         "name": "B5",
         "rawType": "float64",
         "type": "float"
        },
        {
         "name": "B6",
         "rawType": "float64",
         "type": "float"
        },
        {
         "name": "B7",
         "rawType": "float64",
         "type": "float"
        },
        {
         "name": "B8",
         "rawType": "float64",
         "type": "float"
        },
        {
         "name": "B9",
         "rawType": "float64",
         "type": "float"
        },
        {
         "name": "B10",
         "rawType": "float64",
         "type": "float"
        },
        {
         "name": "B11",
         "rawType": "float64",
         "type": "float"
        },
        {
         "name": "B12",
         "rawType": "float64",
         "type": "float"
        },
        {
         "name": "B13",
         "rawType": "float64",
         "type": "float"
        },
        {
         "name": "B14",
         "rawType": "float64",
         "type": "float"
        },
        {
         "name": "B15",
         "rawType": "float64",
         "type": "float"
        },
        {
         "name": "B16",
         "rawType": "float64",
         "type": "float"
        },
        {
         "name": "B17",
         "rawType": "float64",
         "type": "float"
        },
        {
         "name": "B18",
         "rawType": "float64",
         "type": "float"
        },
        {
         "name": "C1",
         "rawType": "float64",
         "type": "float"
        },
        {
         "name": "C2",
         "rawType": "float64",
         "type": "float"
        },
        {
         "name": "C3",
         "rawType": "float64",
         "type": "float"
        },
        {
         "name": "C4",
         "rawType": "float64",
         "type": "float"
        },
        {
         "name": "C5",
         "rawType": "float64",
         "type": "float"
        },
        {
         "name": "C6",
         "rawType": "float64",
         "type": "float"
        },
        {
         "name": "C7",
         "rawType": "float64",
         "type": "float"
        },
        {
         "name": "C8",
         "rawType": "float64",
         "type": "float"
        },
        {
         "name": "C9",
         "rawType": "float64",
         "type": "float"
        },
        {
         "name": "C10",
         "rawType": "float64",
         "type": "float"
        },
        {
         "name": "C11",
         "rawType": "float64",
         "type": "float"
        },
        {
         "name": "C12",
         "rawType": "float64",
         "type": "float"
        },
        {
         "name": "C13",
         "rawType": "float64",
         "type": "float"
        },
        {
         "name": "C14",
         "rawType": "float64",
         "type": "float"
        },
        {
         "name": "C15",
         "rawType": "float64",
         "type": "float"
        },
        {
         "name": "C16",
         "rawType": "float64",
         "type": "float"
        },
        {
         "name": "C17",
         "rawType": "float64",
         "type": "float"
        },
        {
         "name": "C18",
         "rawType": "float64",
         "type": "float"
        },
        {
         "name": "D1",
         "rawType": "float64",
         "type": "float"
        },
        {
         "name": "D2",
         "rawType": "float64",
         "type": "float"
        },
        {
         "name": "D3",
         "rawType": "float64",
         "type": "float"
        },
        {
         "name": "D4",
         "rawType": "float64",
         "type": "float"
        },
        {
         "name": "D5",
         "rawType": "float64",
         "type": "float"
        },
        {
         "name": "D6",
         "rawType": "float64",
         "type": "float"
        },
        {
         "name": "D7",
         "rawType": "float64",
         "type": "float"
        },
        {
         "name": "D8",
         "rawType": "float64",
         "type": "float"
        },
        {
         "name": "D9",
         "rawType": "float64",
         "type": "float"
        },
        {
         "name": "D10",
         "rawType": "float64",
         "type": "float"
        },
        {
         "name": "D11",
         "rawType": "float64",
         "type": "float"
        },
        {
         "name": "D12",
         "rawType": "float64",
         "type": "float"
        },
        {
         "name": "D13",
         "rawType": "float64",
         "type": "float"
        },
        {
         "name": "D14",
         "rawType": "float64",
         "type": "float"
        },
        {
         "name": "D15",
         "rawType": "float64",
         "type": "float"
        },
        {
         "name": "D16",
         "rawType": "float64",
         "type": "float"
        },
        {
         "name": "D17",
         "rawType": "float64",
         "type": "float"
        },
        {
         "name": "D18",
         "rawType": "float64",
         "type": "float"
        },
        {
         "name": "E1",
         "rawType": "float64",
         "type": "float"
        },
        {
         "name": "E2",
         "rawType": "float64",
         "type": "float"
        },
        {
         "name": "E3",
         "rawType": "float64",
         "type": "float"
        },
        {
         "name": "E4",
         "rawType": "float64",
         "type": "float"
        },
        {
         "name": "E5",
         "rawType": "float64",
         "type": "float"
        },
        {
         "name": "E6",
         "rawType": "float64",
         "type": "float"
        },
        {
         "name": "E7",
         "rawType": "float64",
         "type": "float"
        },
        {
         "name": "E8",
         "rawType": "float64",
         "type": "float"
        },
        {
         "name": "E9",
         "rawType": "float64",
         "type": "float"
        },
        {
         "name": "E10",
         "rawType": "float64",
         "type": "float"
        },
        {
         "name": "E11",
         "rawType": "float64",
         "type": "float"
        },
        {
         "name": "E12",
         "rawType": "float64",
         "type": "float"
        },
        {
         "name": "E13",
         "rawType": "float64",
         "type": "float"
        },
        {
         "name": "E14",
         "rawType": "float64",
         "type": "float"
        },
        {
         "name": "E15",
         "rawType": "float64",
         "type": "float"
        },
        {
         "name": "E16",
         "rawType": "float64",
         "type": "float"
        },
        {
         "name": "E17",
         "rawType": "float64",
         "type": "float"
        },
        {
         "name": "E18",
         "rawType": "float64",
         "type": "float"
        },
        {
         "name": "F1",
         "rawType": "float64",
         "type": "float"
        },
        {
         "name": "F2",
         "rawType": "float64",
         "type": "float"
        },
        {
         "name": "F3",
         "rawType": "float64",
         "type": "float"
        },
        {
         "name": "F4",
         "rawType": "float64",
         "type": "float"
        },
        {
         "name": "F5",
         "rawType": "float64",
         "type": "float"
        },
        {
         "name": "F6",
         "rawType": "float64",
         "type": "float"
        },
        {
         "name": "F7",
         "rawType": "float64",
         "type": "float"
        },
        {
         "name": "F8",
         "rawType": "float64",
         "type": "float"
        },
        {
         "name": "F9",
         "rawType": "float64",
         "type": "float"
        },
        {
         "name": "F10",
         "rawType": "float64",
         "type": "float"
        },
        {
         "name": "F11",
         "rawType": "float64",
         "type": "float"
        },
        {
         "name": "F12",
         "rawType": "float64",
         "type": "float"
        },
        {
         "name": "F13",
         "rawType": "float64",
         "type": "float"
        },
        {
         "name": "F14",
         "rawType": "float64",
         "type": "float"
        },
        {
         "name": "F15",
         "rawType": "float64",
         "type": "float"
        },
        {
         "name": "F16",
         "rawType": "float64",
         "type": "float"
        },
        {
         "name": "F17",
         "rawType": "float64",
         "type": "float"
        },
        {
         "name": "F18",
         "rawType": "float64",
         "type": "float"
        },
        {
         "name": "G1",
         "rawType": "float64",
         "type": "float"
        },
        {
         "name": "G2",
         "rawType": "float64",
         "type": "float"
        },
        {
         "name": "G3",
         "rawType": "float64",
         "type": "float"
        },
        {
         "name": "G4",
         "rawType": "float64",
         "type": "float"
        },
        {
         "name": "G5",
         "rawType": "float64",
         "type": "float"
        },
        {
         "name": "G6",
         "rawType": "float64",
         "type": "float"
        },
        {
         "name": "G7",
         "rawType": "float64",
         "type": "float"
        },
        {
         "name": "G8",
         "rawType": "float64",
         "type": "float"
        },
        {
         "name": "G9",
         "rawType": "float64",
         "type": "float"
        },
        {
         "name": "G10",
         "rawType": "float64",
         "type": "float"
        },
        {
         "name": "G11",
         "rawType": "float64",
         "type": "float"
        },
        {
         "name": "G12",
         "rawType": "float64",
         "type": "float"
        },
        {
         "name": "G13",
         "rawType": "float64",
         "type": "float"
        },
        {
         "name": "G14",
         "rawType": "float64",
         "type": "float"
        },
        {
         "name": "G15",
         "rawType": "float64",
         "type": "float"
        },
        {
         "name": "G16",
         "rawType": "float64",
         "type": "float"
        },
        {
         "name": "G17",
         "rawType": "float64",
         "type": "float"
        },
        {
         "name": "G18",
         "rawType": "float64",
         "type": "float"
        },
        {
         "name": "H1",
         "rawType": "float64",
         "type": "float"
        },
        {
         "name": "H2",
         "rawType": "float64",
         "type": "float"
        },
        {
         "name": "H3",
         "rawType": "float64",
         "type": "float"
        },
        {
         "name": "H4",
         "rawType": "float64",
         "type": "float"
        },
        {
         "name": "H5",
         "rawType": "float64",
         "type": "float"
        },
        {
         "name": "H6",
         "rawType": "float64",
         "type": "float"
        },
        {
         "name": "H7",
         "rawType": "float64",
         "type": "float"
        },
        {
         "name": "H8",
         "rawType": "float64",
         "type": "float"
        },
        {
         "name": "H9",
         "rawType": "float64",
         "type": "float"
        },
        {
         "name": "H10",
         "rawType": "float64",
         "type": "float"
        },
        {
         "name": "H11",
         "rawType": "float64",
         "type": "float"
        },
        {
         "name": "H12",
         "rawType": "float64",
         "type": "float"
        },
        {
         "name": "H13",
         "rawType": "float64",
         "type": "float"
        },
        {
         "name": "H14",
         "rawType": "float64",
         "type": "float"
        },
        {
         "name": "H15",
         "rawType": "float64",
         "type": "float"
        },
        {
         "name": "H16",
         "rawType": "float64",
         "type": "float"
        },
        {
         "name": "H17",
         "rawType": "float64",
         "type": "float"
        },
        {
         "name": "H18",
         "rawType": "float64",
         "type": "float"
        },
        {
         "name": "I1",
         "rawType": "float64",
         "type": "float"
        },
        {
         "name": "I2",
         "rawType": "float64",
         "type": "float"
        },
        {
         "name": "I3",
         "rawType": "float64",
         "type": "float"
        },
        {
         "name": "I4",
         "rawType": "float64",
         "type": "float"
        },
        {
         "name": "I5",
         "rawType": "float64",
         "type": "float"
        },
        {
         "name": "I6",
         "rawType": "float64",
         "type": "float"
        },
        {
         "name": "I7",
         "rawType": "float64",
         "type": "float"
        },
        {
         "name": "I8",
         "rawType": "float64",
         "type": "float"
        },
        {
         "name": "I9",
         "rawType": "float64",
         "type": "float"
        },
        {
         "name": "I10",
         "rawType": "float64",
         "type": "float"
        },
        {
         "name": "I11",
         "rawType": "float64",
         "type": "float"
        },
        {
         "name": "I12",
         "rawType": "float64",
         "type": "float"
        },
        {
         "name": "I13",
         "rawType": "float64",
         "type": "float"
        },
        {
         "name": "I14",
         "rawType": "float64",
         "type": "float"
        },
        {
         "name": "I15",
         "rawType": "float64",
         "type": "float"
        },
        {
         "name": "I16",
         "rawType": "float64",
         "type": "float"
        },
        {
         "name": "I17",
         "rawType": "float64",
         "type": "float"
        },
        {
         "name": "I18",
         "rawType": "float64",
         "type": "float"
        },
        {
         "name": "J1",
         "rawType": "float64",
         "type": "float"
        },
        {
         "name": "J2",
         "rawType": "float64",
         "type": "float"
        },
        {
         "name": "J3",
         "rawType": "float64",
         "type": "float"
        },
        {
         "name": "J4",
         "rawType": "float64",
         "type": "float"
        },
        {
         "name": "J5",
         "rawType": "float64",
         "type": "float"
        },
        {
         "name": "J6",
         "rawType": "float64",
         "type": "float"
        },
        {
         "name": "J7",
         "rawType": "float64",
         "type": "float"
        },
        {
         "name": "J8",
         "rawType": "float64",
         "type": "float"
        },
        {
         "name": "J9",
         "rawType": "float64",
         "type": "float"
        },
        {
         "name": "J10",
         "rawType": "float64",
         "type": "float"
        },
        {
         "name": "J11",
         "rawType": "float64",
         "type": "float"
        },
        {
         "name": "J12",
         "rawType": "float64",
         "type": "float"
        },
        {
         "name": "J13",
         "rawType": "float64",
         "type": "float"
        },
        {
         "name": "J14",
         "rawType": "float64",
         "type": "float"
        },
        {
         "name": "J15",
         "rawType": "float64",
         "type": "float"
        },
        {
         "name": "J16",
         "rawType": "float64",
         "type": "float"
        },
        {
         "name": "J17",
         "rawType": "float64",
         "type": "float"
        },
        {
         "name": "J18",
         "rawType": "float64",
         "type": "float"
        },
        {
         "name": "K1",
         "rawType": "float64",
         "type": "float"
        },
        {
         "name": "K2",
         "rawType": "float64",
         "type": "float"
        },
        {
         "name": "K3",
         "rawType": "float64",
         "type": "float"
        },
        {
         "name": "K4",
         "rawType": "float64",
         "type": "float"
        },
        {
         "name": "K5",
         "rawType": "float64",
         "type": "float"
        },
        {
         "name": "K6",
         "rawType": "float64",
         "type": "float"
        },
        {
         "name": "K7",
         "rawType": "float64",
         "type": "float"
        },
        {
         "name": "K8",
         "rawType": "float64",
         "type": "float"
        },
        {
         "name": "K9",
         "rawType": "float64",
         "type": "float"
        },
        {
         "name": "K10",
         "rawType": "float64",
         "type": "float"
        },
        {
         "name": "K11",
         "rawType": "float64",
         "type": "float"
        },
        {
         "name": "K12",
         "rawType": "float64",
         "type": "float"
        },
        {
         "name": "K13",
         "rawType": "float64",
         "type": "float"
        },
        {
         "name": "K14",
         "rawType": "float64",
         "type": "float"
        },
        {
         "name": "K15",
         "rawType": "float64",
         "type": "float"
        },
        {
         "name": "K16",
         "rawType": "float64",
         "type": "float"
        },
        {
         "name": "K17",
         "rawType": "float64",
         "type": "float"
        },
        {
         "name": "K18",
         "rawType": "float64",
         "type": "float"
        }
       ],
       "ref": "8a9304be-290e-4bfe-b837-79e7b08b32d5",
       "rows": [
        [
         "0",
         "1.0",
         "1.0",
         "1.0",
         "1.0",
         "0.9212348334621718",
         "0.9999831949719356",
         "1.0",
         "1.0",
         "0.9693476288105402",
         "0.9894968574597519",
         "0.9943871206264915",
         "0.9886398010284677",
         "0.988270090411051",
         "0.967986421537324",
         "0.9962524787416395",
         "0.989967398245555",
         "1.0",
         "0.928864316203408",
         "1.0",
         "1.0",
         "0.9271165932847107",
         "0.94580378449232",
         "1.0",
         "0.9702887103821464",
         "0.9820354249991597",
         "0.9596175175612544",
         "0.9729102947601922",
         "0.9556515309380567",
         "0.9562565119483749",
         "0.9885053608039526",
         "0.9745403824824388",
         "1.0",
         "0.9723725338621315",
         "0.9459214196887709",
         "1.0",
         "0.9449131180049071",
         "1.0",
         "1.0",
         "1.0",
         "1.0",
         "0.9340570698753067",
         "0.9896312976842672",
         "0.9361745034114207",
         "0.9662218935905623",
         "0.9719524081605216",
         "0.9414344771955769",
         "0.9853292104997815",
         "0.9662891137028199",
         "0.8900278963465869",
         "0.9693308237824757",
         "0.9552650152925756",
         "0.9892783920949147",
         "1.0",
         "0.9328303028266057",
         "1.0",
         "1.0",
         "0.9166974758847847",
         "1.0",
         "0.9596175175612544",
         "0.9610291399186637",
         "0.9836150976372131",
         "0.9741874768930864",
         "0.962692837697039",
         "0.926276341881491",
         "0.9651799818505697",
         "0.9544583739454845",
         "0.9639700198299331",
         "0.9786744193862804",
         "0.9239572480086041",
         "0.9651463717944408",
         "0.9602729136557658",
         "0.8200853695425672",
         "1.0",
         "1.0",
         "1.0",
         "1.0",
         "1.0",
         "0.9244613988505361",
         "0.9617853661815615",
         "0.8584176385574563",
         "0.9651799818505697",
         "0.8796087789466609",
         "0.9492656202735859",
         "0.9108493261183747",
         "0.8921957449668941",
         "0.9477699727758545",
         "0.8381843847679226",
         "0.9098242194064464",
         "1.0",
         "0.8049104292004168",
         "1.0",
         "1.0",
         "1.0",
         "1.0",
         "0.6762847443955231",
         "0.9692131885860249",
         "0.9568446879306288",
         "0.9748932880717911",
         "0.9580882600073942",
         "0.9279232346318018",
         "0.9277887944072867",
         "0.9635330891002588",
         "0.9510301482203475",
         "0.9110005713709541",
         "0.9277383793230934",
         "0.9791449601720835",
         "1.0",
         "1.0",
         "1.0",
         "0.8476960306523712",
         "1.0",
         "0.8898934561220717",
         "1.0",
         "0.9559876314993446",
         "0.9753806338856585",
         "0.9062615534567943",
         "0.9018250260477935",
         "0.9728430746479346",
         "0.9638019695492891",
         "0.974422747285988",
         "0.8609215877390515",
         "0.9404765905959063",
         "0.94427452693846",
         "0.9800356266594965",
         "0.9298222028030787",
         "0.8083386549255537",
         "1.0",
         "1.0",
         "1.0",
         "1.0",
         "0.9166470608005916",
         "1.0",
         "0.9862198769871946",
         "0.9328303028266057",
         "0.945417268846839",
         "0.8386213154975969",
         "0.9191510099821867",
         "0.9542062985245185",
         "0.9730111249285787",
         "0.9427452693845999",
         "0.9854972607804255",
         "0.9352502268678788",
         "1.0",
         "0.935804792794004",
         "1.0",
         "1.0",
         "1.0",
         "0.9318051961146775",
         "0.9261419016569757",
         "0.9669949248815245",
         "0.9861862669310658",
         "0.9849931099384936",
         "0.9805565825294928",
         "0.9441232816858804",
         "0.9661378684502403",
         "0.9487278593755252",
         "0.9739354014721204",
         "0.8956743857762243",
         "0.9739185964440561",
         "0.9388633079017242",
         "1.0",
         "0.8824656337176083",
         "1.0",
         "0.9507276577151884",
         "1.0",
         "1.0",
         "0.9170671865022014",
         "0.9926057876516654",
         "0.9698349746244076",
         "0.9008503344200585",
         "0.9809430981749739",
         "0.9749941182401775",
         "0.9881356501865358",
         "0.9827748462339932",
         "0.9719860182166504",
         "0.9852451853594596",
         "1.0",
         "0.9794474506772426",
         "1.0",
         "1.0",
         "1.0",
         "1.0",
         "1.0",
         "1.0",
         "0.8738278492925083",
         "0.979380230564985",
         "0.9813800289046483",
         "0.9787080294424092",
         "0.9649951265418614",
         "0.9844049339562397",
         "0.9733808355459954",
         "0.9907740395926461",
         "0.9926562027358585",
         "0.9769603065237119",
         "1.0",
         "0.9842368836755957",
         "1.0",
         "0.8980943098174974"
        ],
        [
         "1",
         null,
         null,
         null,
         null,
         "0.011780324673142203",
         null,
         null,
         null,
         "0.030652371189459886",
         "0.010503142540248043",
         "0.005612879373508553",
         "0.011360198971532282",
         "0.011729909588949013",
         "0.03201357846267603",
         "0.0037475212583605016",
         "0.01003260175444493",
         null,
         "6.722011225758747e-05",
         null,
         null,
         "0.003814741370618089",
         "0.005007898363190266",
         null,
         "0.006268275468020032",
         "0.01796457500084025",
         "0.040382482438745676",
         "0.027089705239807752",
         "0.044348469061943334",
         "0.04374348805162505",
         "0.011494639196047457",
         "0.025459617517561255",
         null,
         "0.02762746613786845",
         "0.05407858031122912",
         null,
         "0.00013444022451517495",
         null,
         null,
         null,
         null,
         "0.00557926931737976",
         "0.003276980472557389",
         "0.0638254965885793",
         "0.0337781064094377",
         "0.028047591839478372",
         "0.058565522804423086",
         "0.014670789500218466",
         "0.033710886297180116",
         "0.1099721036534131",
         "0.030669176217524283",
         "0.044734984707424465",
         "0.010721607905085202",
         null,
         "0.00040332067354552484",
         null,
         null,
         "0.02334218398144725",
         null,
         "0.004638187745773535",
         "0.009377205659933453",
         "0.016384902362786946",
         "0.02581252310691359",
         "0.03730716230296104",
         "0.07372365811850906",
         "0.03482001814943031",
         "0.04554162605451551",
         "0.03602998017006689",
         "0.021325580613719624",
         "0.07604275199139583",
         "0.0348536282055591",
         "0.03972708634423419",
         "0.0009410815716062246",
         null,
         null,
         null,
         null,
         null,
         "0.016401707390851342",
         "0.038214633818438475",
         "0.1415823614425436",
         "0.03482001814943031",
         "0.12039122105333916",
         "0.05073437972641414",
         "0.08915067388162538",
         "0.10780425503310591",
         "0.052230027224145464",
         "0.16181561523207744",
         "0.09017578059355359",
         null,
         "0.0011595469364433838",
         null,
         null,
         null,
         null,
         "0.013662487816354653",
         "0.012150035290558935",
         "0.043155312069371156",
         "0.02510671192820892",
         "0.041911739992605786",
         "0.07207676536819817",
         "0.07221120559271334",
         "0.0364669108997412",
         "0.04896985177965247",
         "0.08899942862904581",
         "0.07226162067690653",
         "0.020855039827916512",
         null,
         null,
         null,
         "0.05322152387994488",
         null,
         "0.009780526333478977",
         null,
         "0.01443551910731691",
         "0.02461936611434141",
         "0.09373844654320573",
         "0.0981749739522065",
         "0.027156925352065337",
         "0.03619803045071085",
         "0.025577252714012032",
         "0.13907841226094847",
         "0.0595234094040937",
         "0.055725473061540014",
         "0.01996437334050348",
         "0.07017779719692131",
         "0.0014956474977313211",
         null,
         null,
         null,
         null,
         "0.00826807380768326",
         null,
         "0.013780123012805432",
         "0.06716969717339429",
         "0.05458273115316103",
         "0.1613786845024031",
         "0.08084899001781333",
         "0.045793701475481466",
         "0.026988875071421368",
         "0.05725473061540013",
         "0.014502739219574496",
         "0.06474977313212113",
         null,
         "0.0009242765435418277",
         null,
         null,
         null,
         "0.0034954458373945485",
         "0.005024703391254663",
         "0.00702450173091789",
         "0.013813733068934225",
         "0.015006890061506403",
         "0.019443417470507176",
         "0.05587671831411958",
         "0.033862131549759686",
         "0.05127214062447484",
         "0.02606459852787954",
         "0.10432561422377576",
         "0.02608140355594394",
         "0.061136692098275804",
         null,
         "0.00048734581386750917",
         null,
         "0.00826807380768326",
         null,
         null,
         "0.013376802339259907",
         "0.0028904648270762614",
         "0.030165025375592378",
         "0.09914966557994152",
         "0.01905690182502605",
         "0.02500588175982254",
         "0.011864349813464188",
         "0.01722515376600679",
         "0.028013981783349576",
         "0.01475481464054045",
         null,
         "0.02055254932275737",
         null,
         null,
         null,
         null,
         null,
         null,
         "0.015208550398279164",
         "0.010251067119282089",
         "0.01861997109535173",
         "0.02129197055759083",
         "0.03500487345813867",
         "0.015595066043760293",
         "0.026619164454004637",
         "0.00922596040735388",
         "0.007343797264141431",
         "0.023039693476288106",
         null,
         "0.01576311632440426",
         null,
         "0.00023527039290155614"
        ],
        [
         "2",
         null,
         null,
         null,
         null,
         "0.06698484186468591",
         "1.6805028064396868e-05",
         null,
         null,
         null,
         null,
         null,
         null,
         null,
         null,
         null,
         null,
         null,
         null,
         null,
         null,
         "0.06906866534467113",
         "0.04918831714448963",
         null,
         "0.02344301414983363",
         null,
         null,
         null,
         null,
         null,
         null,
         null,
         null,
         null,
         null,
         null,
         null,
         null,
         null,
         null,
         null,
         "0.06036366080731355",
         "0.007091721843175478",
         null,
         null,
         null,
         null,
         null,
         null,
         null,
         null,
         null,
         null,
         null,
         null,
         null,
         null,
         "0.059960340133768025",
         null,
         "0.035744294692972134",
         "0.029593654421402885",
         null,
         null,
         null,
         null,
         null,
         null,
         null,
         null,
         null,
         null,
         null,
         null,
         null,
         null,
         null,
         null,
         null,
         "0.05913689375861258",
         null,
         null,
         null,
         null,
         null,
         null,
         null,
         null,
         null,
         null,
         null,
         null,
         null,
         null,
         null,
         null,
         "0.3100527677881222",
         "0.018636776123416125",
         null,
         null,
         null,
         null,
         null,
         null,
         null,
         null,
         null,
         null,
         null,
         null,
         null,
         "0.09908244546768392",
         null,
         "0.1003260175444493",
         null,
         "0.029576849393338486",
         null,
         null,
         null,
         null,
         null,
         null,
         null,
         null,
         null,
         null,
         null,
         null,
         null,
         null,
         null,
         null,
         "0.07508486539172521",
         null,
         null,
         null,
         null,
         null,
         null,
         null,
         null,
         null,
         null,
         null,
         null,
         null,
         null,
         null,
         null,
         "0.06469935804792794",
         "0.06883339495176957",
         "0.02598057338755756",
         null,
         null,
         null,
         null,
         null,
         null,
         null,
         null,
         null,
         null,
         null,
         null,
         null,
         "0.041004268477128354",
         null,
         null,
         "0.06955601115853864",
         "0.004503747521258361",
         null,
         null,
         null,
         null,
         null,
         null,
         null,
         null,
         null,
         null,
         null,
         null,
         null,
         null,
         null,
         null,
         "0.11096360030921251",
         "0.010368702315732867",
         null,
         null,
         null,
         null,
         null,
         null,
         null,
         null,
         null,
         null,
         null,
         null
        ],
        [
         "3",
         null,
         null,
         null,
         null,
         null,
         null,
         null,
         null,
         null,
         null,
         null,
         null,
         null,
         null,
         null,
         null,
         null,
         "0.07106846368433435",
         null,
         null,
         null,
         null,
         null,
         null,
         null,
         null,
         null,
         null,
         null,
         null,
         null,
         null,
         null,
         null,
         null,
         "0.05495244177057776",
         null,
         null,
         null,
         null,
         null,
         null,
         null,
         null,
         null,
         null,
         null,
         null,
         null,
         null,
         null,
         null,
         null,
         "0.06676637649984875",
         null,
         null,
         null,
         null,
         null,
         null,
         null,
         null,
         null,
         null,
         null,
         null,
         null,
         null,
         null,
         null,
         null,
         "0.17897354888582664",
         null,
         null,
         null,
         null,
         null,
         null,
         null,
         null,
         null,
         null,
         null,
         null,
         null,
         null,
         null,
         null,
         null,
         "0.19393002386313984",
         null,
         null,
         null,
         null,
         null,
         null,
         null,
         null,
         null,
         null,
         null,
         null,
         null,
         null,
         null,
         null,
         null,
         null,
         null,
         null,
         null,
         null,
         null,
         null,
         null,
         null,
         null,
         null,
         null,
         null,
         null,
         null,
         null,
         null,
         null,
         "0.19016569757671495",
         null,
         null,
         null,
         null,
         null,
         null,
         null,
         null,
         null,
         null,
         null,
         null,
         null,
         null,
         null,
         null,
         null,
         "0.0632709306624542",
         null,
         null,
         null,
         null,
         null,
         null,
         null,
         null,
         null,
         null,
         null,
         null,
         null,
         null,
         null,
         null,
         null,
         "0.11704702046852418",
         null,
         null,
         null,
         null,
         null,
         null,
         null,
         null,
         null,
         null,
         null,
         null,
         null,
         null,
         null,
         null,
         null,
         null,
         null,
         null,
         null,
         null,
         null,
         null,
         null,
         null,
         null,
         null,
         null,
         null,
         null,
         null,
         null,
         null,
         null,
         "0.10167041978960105"
        ]
       ],
       "shape": {
        "columns": 198,
        "rows": 4
       }
      },
      "text/html": [
       "<div>\n",
       "<style scoped>\n",
       "    .dataframe tbody tr th:only-of-type {\n",
       "        vertical-align: middle;\n",
       "    }\n",
       "\n",
       "    .dataframe tbody tr th {\n",
       "        vertical-align: top;\n",
       "    }\n",
       "\n",
       "    .dataframe thead th {\n",
       "        text-align: right;\n",
       "    }\n",
       "</style>\n",
       "<table border=\"1\" class=\"dataframe\">\n",
       "  <thead>\n",
       "    <tr style=\"text-align: right;\">\n",
       "      <th></th>\n",
       "      <th>A1</th>\n",
       "      <th>A2</th>\n",
       "      <th>A3</th>\n",
       "      <th>A4</th>\n",
       "      <th>A5</th>\n",
       "      <th>A6</th>\n",
       "      <th>A7</th>\n",
       "      <th>A8</th>\n",
       "      <th>A9</th>\n",
       "      <th>A10</th>\n",
       "      <th>...</th>\n",
       "      <th>K9</th>\n",
       "      <th>K10</th>\n",
       "      <th>K11</th>\n",
       "      <th>K12</th>\n",
       "      <th>K13</th>\n",
       "      <th>K14</th>\n",
       "      <th>K15</th>\n",
       "      <th>K16</th>\n",
       "      <th>K17</th>\n",
       "      <th>K18</th>\n",
       "    </tr>\n",
       "  </thead>\n",
       "  <tbody>\n",
       "    <tr>\n",
       "      <th>0</th>\n",
       "      <td>1.0</td>\n",
       "      <td>1.0</td>\n",
       "      <td>1.0</td>\n",
       "      <td>1.0</td>\n",
       "      <td>0.921235</td>\n",
       "      <td>0.999983</td>\n",
       "      <td>1.0</td>\n",
       "      <td>1.0</td>\n",
       "      <td>0.969348</td>\n",
       "      <td>0.989497</td>\n",
       "      <td>...</td>\n",
       "      <td>0.964995</td>\n",
       "      <td>0.984405</td>\n",
       "      <td>0.973381</td>\n",
       "      <td>0.990774</td>\n",
       "      <td>0.992656</td>\n",
       "      <td>0.97696</td>\n",
       "      <td>1.0</td>\n",
       "      <td>0.984237</td>\n",
       "      <td>1.0</td>\n",
       "      <td>0.898094</td>\n",
       "    </tr>\n",
       "    <tr>\n",
       "      <th>1</th>\n",
       "      <td>NaN</td>\n",
       "      <td>NaN</td>\n",
       "      <td>NaN</td>\n",
       "      <td>NaN</td>\n",
       "      <td>0.011780</td>\n",
       "      <td>NaN</td>\n",
       "      <td>NaN</td>\n",
       "      <td>NaN</td>\n",
       "      <td>0.030652</td>\n",
       "      <td>0.010503</td>\n",
       "      <td>...</td>\n",
       "      <td>0.035005</td>\n",
       "      <td>0.015595</td>\n",
       "      <td>0.026619</td>\n",
       "      <td>0.009226</td>\n",
       "      <td>0.007344</td>\n",
       "      <td>0.02304</td>\n",
       "      <td>NaN</td>\n",
       "      <td>0.015763</td>\n",
       "      <td>NaN</td>\n",
       "      <td>0.000235</td>\n",
       "    </tr>\n",
       "    <tr>\n",
       "      <th>2</th>\n",
       "      <td>NaN</td>\n",
       "      <td>NaN</td>\n",
       "      <td>NaN</td>\n",
       "      <td>NaN</td>\n",
       "      <td>0.066985</td>\n",
       "      <td>0.000017</td>\n",
       "      <td>NaN</td>\n",
       "      <td>NaN</td>\n",
       "      <td>NaN</td>\n",
       "      <td>NaN</td>\n",
       "      <td>...</td>\n",
       "      <td>NaN</td>\n",
       "      <td>NaN</td>\n",
       "      <td>NaN</td>\n",
       "      <td>NaN</td>\n",
       "      <td>NaN</td>\n",
       "      <td>NaN</td>\n",
       "      <td>NaN</td>\n",
       "      <td>NaN</td>\n",
       "      <td>NaN</td>\n",
       "      <td>NaN</td>\n",
       "    </tr>\n",
       "    <tr>\n",
       "      <th>3</th>\n",
       "      <td>NaN</td>\n",
       "      <td>NaN</td>\n",
       "      <td>NaN</td>\n",
       "      <td>NaN</td>\n",
       "      <td>NaN</td>\n",
       "      <td>NaN</td>\n",
       "      <td>NaN</td>\n",
       "      <td>NaN</td>\n",
       "      <td>NaN</td>\n",
       "      <td>NaN</td>\n",
       "      <td>...</td>\n",
       "      <td>NaN</td>\n",
       "      <td>NaN</td>\n",
       "      <td>NaN</td>\n",
       "      <td>NaN</td>\n",
       "      <td>NaN</td>\n",
       "      <td>NaN</td>\n",
       "      <td>NaN</td>\n",
       "      <td>NaN</td>\n",
       "      <td>NaN</td>\n",
       "      <td>0.101670</td>\n",
       "    </tr>\n",
       "  </tbody>\n",
       "</table>\n",
       "<p>4 rows × 198 columns</p>\n",
       "</div>"
      ],
      "text/plain": [
       "    A1   A2   A3   A4        A5        A6   A7   A8        A9       A10  ...  \\\n",
       "0  1.0  1.0  1.0  1.0  0.921235  0.999983  1.0  1.0  0.969348  0.989497  ...   \n",
       "1  NaN  NaN  NaN  NaN  0.011780       NaN  NaN  NaN  0.030652  0.010503  ...   \n",
       "2  NaN  NaN  NaN  NaN  0.066985  0.000017  NaN  NaN       NaN       NaN  ...   \n",
       "3  NaN  NaN  NaN  NaN       NaN       NaN  NaN  NaN       NaN       NaN  ...   \n",
       "\n",
       "         K9       K10       K11       K12       K13      K14  K15       K16  \\\n",
       "0  0.964995  0.984405  0.973381  0.990774  0.992656  0.97696  1.0  0.984237   \n",
       "1  0.035005  0.015595  0.026619  0.009226  0.007344  0.02304  NaN  0.015763   \n",
       "2       NaN       NaN       NaN       NaN       NaN      NaN  NaN       NaN   \n",
       "3       NaN       NaN       NaN       NaN       NaN      NaN  NaN       NaN   \n",
       "\n",
       "   K17       K18  \n",
       "0  1.0  0.898094  \n",
       "1  NaN  0.000235  \n",
       "2  NaN       NaN  \n",
       "3  NaN  0.101670  \n",
       "\n",
       "[4 rows x 198 columns]"
      ]
     },
     "execution_count": 15,
     "metadata": {},
     "output_type": "execute_result"
    }
   ],
   "source": [
    "result"
   ]
  },
  {
   "cell_type": "code",
   "execution_count": 16,
   "metadata": {},
   "outputs": [
    {
     "name": "stdout",
     "output_type": "stream",
     "text": [
      "    A1   A2   A3   A4      A5   A6   A7   A8      A9     A10  ...     K9  \\\n",
      "0  0.0  0.0  0.0  0.0  0.0788  0.0  0.0  0.0  0.0307  0.0105  ...  0.035   \n",
      "\n",
      "      K10     K11     K12     K13    K14  K15     K16  K17     K18  \n",
      "0  0.0156  0.0266  0.0092  0.0073  0.023  0.0  0.0158  0.0  0.1019  \n",
      "\n",
      "[1 rows x 198 columns]\n"
     ]
    }
   ],
   "source": [
    "# Somma delle ultime tre righe del DataFrame result\n",
    "sum_last_three_rows = result.iloc[-3:].sum()\n",
    "\n",
    "# Crea un nuovo DataFrame con la somma come unica riga\n",
    "result_v2 = pd.DataFrame([sum_last_three_rows], columns=result.columns).round(4)\n",
    "\n",
    "# Visualizza il nuovo DataFrame\n",
    "print(result_v2)"
   ]
  },
  {
   "cell_type": "code",
   "execution_count": 17,
   "metadata": {},
   "outputs": [
    {
     "name": "stdout",
     "output_type": "stream",
     "text": [
      "[[0.0711 0.0551 0.0672 0.1799 0.1951 0.     0.1917 0.0642 0.1175 0.\n",
      "  0.1019]\n",
      " [0.     0.     0.     0.0397 0.     0.     0.0702 0.     0.     0.\n",
      "  0.    ]\n",
      " [0.01   0.0541 0.0107 0.0349 0.0902 0.0209 0.02   0.0647 0.0611 0.0206\n",
      "  0.0158]\n",
      " [0.0037 0.0276 0.0447 0.076  0.1618 0.0723 0.0557 0.0145 0.0261 0.\n",
      "  0.    ]\n",
      " [0.032  0.     0.0307 0.0213 0.0522 0.089  0.0595 0.0573 0.1043 0.0148\n",
      "  0.023 ]\n",
      " [0.0117 0.0255 0.11   0.036  0.1078 0.049  0.1391 0.027  0.0261 0.028\n",
      "  0.0073]\n",
      " [0.0114 0.0115 0.0337 0.0455 0.0892 0.0365 0.0256 0.0458 0.0513 0.0172\n",
      "  0.0092]\n",
      " [0.0056 0.0437 0.0147 0.0348 0.0507 0.0722 0.0362 0.0808 0.0339 0.0119\n",
      "  0.0266]\n",
      " [0.0105 0.0443 0.0586 0.0737 0.1204 0.0721 0.0272 0.1614 0.0559 0.025\n",
      "  0.0156]\n",
      " [0.0307 0.0271 0.028  0.0373 0.0348 0.0419 0.0982 0.0546 0.0194 0.0191\n",
      "  0.035 ]\n",
      " [0.     0.0404 0.0338 0.0258 0.1416 0.0251 0.0937 0.0672 0.015  0.0991\n",
      "  0.0213]\n",
      " [0.     0.018  0.0638 0.0164 0.0382 0.0432 0.0246 0.0138 0.0138 0.0302\n",
      "  0.0186]\n",
      " [0.     0.0297 0.0104 0.039  0.0755 0.0308 0.044  0.     0.033  0.0074\n",
      "  0.0206]\n",
      " [0.0788 0.     0.0659 0.0404 0.     0.3237 0.     0.0834 0.0739 0.0829\n",
      "  0.1262]\n",
      " [0.     0.0542 0.     0.     0.     0.     0.1101 0.     0.0682 0.\n",
      "  0.    ]\n",
      " [0.     0.0729 0.     0.0833 0.     0.     0.     0.     0.     0.\n",
      "  0.    ]\n",
      " [0.     0.     0.     0.     0.     0.     0.1523 0.     0.     0.0493\n",
      "  0.    ]\n",
      " [0.     0.     0.     0.     0.     0.     0.     0.     0.     0.\n",
      "  0.    ]]\n"
     ]
    }
   ],
   "source": [
    "# Trasforma result_v2 in una matrice 18x11 con ordine per colonne e inverti le righe\n",
    "matrix_18x11 = result_v2.to_numpy().reshape(18, 11, order='F')[::-1]\n",
    "\n",
    "# Visualizza la matrice\n",
    "print(matrix_18x11)"
   ]
  },
  {
   "cell_type": "code",
   "execution_count": 18,
   "metadata": {},
   "outputs": [
    {
     "name": "stdout",
     "output_type": "stream",
     "text": [
      "         A       B       C       D       E       F       G       H       I  \\\n",
      "18  0.0711  0.0551  0.0672  0.1799  0.1951  0.0000  0.1917  0.0642  0.1175   \n",
      "17  0.0000  0.0000  0.0000  0.0397  0.0000  0.0000  0.0702  0.0000  0.0000   \n",
      "16  0.0100  0.0541  0.0107  0.0349  0.0902  0.0209  0.0200  0.0647  0.0611   \n",
      "15  0.0037  0.0276  0.0447  0.0760  0.1618  0.0723  0.0557  0.0145  0.0261   \n",
      "14  0.0320  0.0000  0.0307  0.0213  0.0522  0.0890  0.0595  0.0573  0.1043   \n",
      "13  0.0117  0.0255  0.1100  0.0360  0.1078  0.0490  0.1391  0.0270  0.0261   \n",
      "12  0.0114  0.0115  0.0337  0.0455  0.0892  0.0365  0.0256  0.0458  0.0513   \n",
      "11  0.0056  0.0437  0.0147  0.0348  0.0507  0.0722  0.0362  0.0808  0.0339   \n",
      "10  0.0105  0.0443  0.0586  0.0737  0.1204  0.0721  0.0272  0.1614  0.0559   \n",
      "9   0.0307  0.0271  0.0280  0.0373  0.0348  0.0419  0.0982  0.0546  0.0194   \n",
      "8   0.0000  0.0404  0.0338  0.0258  0.1416  0.0251  0.0937  0.0672  0.0150   \n",
      "7   0.0000  0.0180  0.0638  0.0164  0.0382  0.0432  0.0246  0.0138  0.0138   \n",
      "6   0.0000  0.0297  0.0104  0.0390  0.0755  0.0308  0.0440  0.0000  0.0330   \n",
      "5   0.0788  0.0000  0.0659  0.0404  0.0000  0.3237  0.0000  0.0834  0.0739   \n",
      "4   0.0000  0.0542  0.0000  0.0000  0.0000  0.0000  0.1101  0.0000  0.0682   \n",
      "3   0.0000  0.0729  0.0000  0.0833  0.0000  0.0000  0.0000  0.0000  0.0000   \n",
      "2   0.0000  0.0000  0.0000  0.0000  0.0000  0.0000  0.1523  0.0000  0.0000   \n",
      "1   0.0000  0.0000  0.0000  0.0000  0.0000  0.0000  0.0000  0.0000  0.0000   \n",
      "\n",
      "         J       K  \n",
      "18  0.0000  0.1019  \n",
      "17  0.0000  0.0000  \n",
      "16  0.0206  0.0158  \n",
      "15  0.0000  0.0000  \n",
      "14  0.0148  0.0230  \n",
      "13  0.0280  0.0073  \n",
      "12  0.0172  0.0092  \n",
      "11  0.0119  0.0266  \n",
      "10  0.0250  0.0156  \n",
      "9   0.0191  0.0350  \n",
      "8   0.0991  0.0213  \n",
      "7   0.0302  0.0186  \n",
      "6   0.0074  0.0206  \n",
      "5   0.0829  0.1262  \n",
      "4   0.0000  0.0000  \n",
      "3   0.0000  0.0000  \n",
      "2   0.0493  0.0000  \n",
      "1   0.0000  0.0000  \n"
     ]
    }
   ],
   "source": [
    "# Trasforma la matrice in un DataFrame\n",
    "df_matrix = pd.DataFrame(matrix_18x11, index=range(18, 0, -1), columns=list(\"ABCDEFGHIJK\"))\n",
    "\n",
    "# Visualizza il DataFrame\n",
    "print(df_matrix)"
   ]
  },
  {
   "cell_type": "code",
   "execution_count": 19,
   "metadata": {},
   "outputs": [
    {
     "data": {
      "image/png": "[encoded data removed]",
      "text/plain": [
       "<Figure size 640x480 with 2 Axes>"
      ]
     },
     "metadata": {},
     "output_type": "display_data"
    }
   ],
   "source": [
    "sns.heatmap(df_matrix, annot=True, annot_kws={\"size\": 6}, fmt=\".2f\", cbar=True, linewidths=0.8, linecolor='white', cmap=\"hot_r\")\n",
    "plt.title(\"Distribuzione delle prese\")\n",
    "plt.show()"
   ]
  },
  {
   "cell_type": "code",
   "execution_count": 20,
   "metadata": {},
   "outputs": [
    {
     "data": {
      "application/vnd.microsoft.datawrangler.viewer.v0+json": {
       "columns": [
        {
         "name": "index",
         "rawType": "int64",
         "type": "integer"
        },
        {
         "name": "name",
         "rawType": "object",
         "type": "string"
        },
        {
         "name": "grade",
         "rawType": "object",
         "type": "string"
        },
        {
         "name": "userGrade",
         "rawType": "object",
         "type": "string"
        },
        {
         "name": "setby",
         "rawType": "object",
         "type": "string"
        },
        {
         "name": "userRating",
         "rawType": "int64",
         "type": "integer"
        },
        {
         "name": "repeats",
         "rawType": "int64",
         "type": "integer"
        },
        {
         "name": "isBenchmark",
         "rawType": "bool",
         "type": "boolean"
        },
        {
         "name": "holdsets",
         "rawType": "object",
         "type": "string"
        },
        {
         "name": "apiId",
         "rawType": "int64",
         "type": "integer"
        },
        {
         "name": "A1",
         "rawType": "int64",
         "type": "integer"
        },
        {
         "name": "A2",
         "rawType": "int64",
         "type": "integer"
        },
        {
         "name": "A3",
         "rawType": "int64",
         "type": "integer"
        },
        {
         "name": "A4",
         "rawType": "int64",
         "type": "integer"
        },
        {
         "name": "A5",
         "rawType": "int64",
         "type": "integer"
        },
        {
         "name": "A6",
         "rawType": "int64",
         "type": "integer"
        },
        {
         "name": "A7",
         "rawType": "int64",
         "type": "integer"
        },
        {
         "name": "A8",
         "rawType": "int64",
         "type": "integer"
        },
        {
         "name": "A9",
         "rawType": "int64",
         "type": "integer"
        },
        {
         "name": "A10",
         "rawType": "int64",
         "type": "integer"
        },
        {
         "name": "A11",
         "rawType": "int64",
         "type": "integer"
        },
        {
         "name": "A12",
         "rawType": "int64",
         "type": "integer"
        },
        {
         "name": "A13",
         "rawType": "int64",
         "type": "integer"
        },
        {
         "name": "A14",
         "rawType": "int64",
         "type": "integer"
        },
        {
         "name": "A15",
         "rawType": "int64",
         "type": "integer"
        },
        {
         "name": "A16",
         "rawType": "int64",
         "type": "integer"
        },
        {
         "name": "A17",
         "rawType": "int64",
         "type": "integer"
        },
        {
         "name": "A18",
         "rawType": "int64",
         "type": "integer"
        },
        {
         "name": "B1",
         "rawType": "int64",
         "type": "integer"
        },
        {
         "name": "B2",
         "rawType": "int64",
         "type": "integer"
        },
        {
         "name": "B3",
         "rawType": "int64",
         "type": "integer"
        },
        {
         "name": "B4",
         "rawType": "int64",
         "type": "integer"
        },
        {
         "name": "B5",
         "rawType": "int64",
         "type": "integer"
        },
        {
         "name": "B6",
         "rawType": "int64",
         "type": "integer"
        },
        {
         "name": "B7",
         "rawType": "int64",
         "type": "integer"
        },
        {
         "name": "B8",
         "rawType": "int64",
         "type": "integer"
        },
        {
         "name": "B9",
         "rawType": "int64",
         "type": "integer"
        },
        {
         "name": "B10",
         "rawType": "int64",
         "type": "integer"
        },
        {
         "name": "B11",
         "rawType": "int64",
         "type": "integer"
        },
        {
         "name": "B12",
         "rawType": "int64",
         "type": "integer"
        },
        {
         "name": "B13",
         "rawType": "int64",
         "type": "integer"
        },
        {
         "name": "B14",
         "rawType": "int64",
         "type": "integer"
        },
        {
         "name": "B15",
         "rawType": "int64",
         "type": "integer"
        },
        {
         "name": "B16",
         "rawType": "int64",
         "type": "integer"
        },
        {
         "name": "B17",
         "rawType": "int64",
         "type": "integer"
        },
        {
         "name": "B18",
         "rawType": "int64",
         "type": "integer"
        },
        {
         "name": "C1",
         "rawType": "int64",
         "type": "integer"
        },
        {
         "name": "C2",
         "rawType": "int64",
         "type": "integer"
        },
        {
         "name": "C3",
         "rawType": "int64",
         "type": "integer"
        },
        {
         "name": "C4",
         "rawType": "int64",
         "type": "integer"
        },
        {
         "name": "C5",
         "rawType": "int64",
         "type": "integer"
        },
        {
         "name": "C6",
         "rawType": "int64",
         "type": "integer"
        },
        {
         "name": "C7",
         "rawType": "int64",
         "type": "integer"
        },
        {
         "name": "C8",
         "rawType": "int64",
         "type": "integer"
        },
        {
         "name": "C9",
         "rawType": "int64",
         "type": "integer"
        },
        {
         "name": "C10",
         "rawType": "int64",
         "type": "integer"
        },
        {
         "name": "C11",
         "rawType": "int64",
         "type": "integer"
        },
        {
         "name": "C12",
         "rawType": "int64",
         "type": "integer"
        },
        {
         "name": "C13",
         "rawType": "int64",
         "type": "integer"
        },
        {
         "name": "C14",
         "rawType": "int64",
         "type": "integer"
        },
        {
         "name": "C15",
         "rawType": "int64",
         "type": "integer"
        },
        {
         "name": "C16",
         "rawType": "int64",
         "type": "integer"
        },
        {
         "name": "C17",
         "rawType": "int64",
         "type": "integer"
        },
        {
         "name": "C18",
         "rawType": "int64",
         "type": "integer"
        },
        {
         "name": "D1",
         "rawType": "int64",
         "type": "integer"
        },
        {
         "name": "D2",
         "rawType": "int64",
         "type": "integer"
        },
        {
         "name": "D3",
         "rawType": "int64",
         "type": "integer"
        },
        {
         "name": "D4",
         "rawType": "int64",
         "type": "integer"
        },
        {
         "name": "D5",
         "rawType": "int64",
         "type": "integer"
        },
        {
         "name": "D6",
         "rawType": "int64",
         "type": "integer"
        },
        {
         "name": "D7",
         "rawType": "int64",
         "type": "integer"
        },
        {
         "name": "D8",
         "rawType": "int64",
         "type": "integer"
        },
        {
         "name": "D9",
         "rawType": "int64",
         "type": "integer"
        },
        {
         "name": "D10",
         "rawType": "int64",
         "type": "integer"
        },
        {
         "name": "D11",
         "rawType": "int64",
         "type": "integer"
        },
        {
         "name": "D12",
         "rawType": "int64",
         "type": "integer"
        },
        {
         "name": "D13",
         "rawType": "int64",
         "type": "integer"
        },
        {
         "name": "D14",
         "rawType": "int64",
         "type": "integer"
        },
        {
         "name": "D15",
         "rawType": "int64",
         "type": "integer"
        },
        {
         "name": "D16",
         "rawType": "int64",
         "type": "integer"
        },
        {
         "name": "D17",
         "rawType": "int64",
         "type": "integer"
        },
        {
         "name": "D18",
         "rawType": "int64",
         "type": "integer"
        },
        {
         "name": "E1",
         "rawType": "int64",
         "type": "integer"
        },
        {
         "name": "E2",
         "rawType": "int64",
         "type": "integer"
        },
        {
         "name": "E3",
         "rawType": "int64",
         "type": "integer"
        },
        {
         "name": "E4",
         "rawType": "int64",
         "type": "integer"
        },
        {
         "name": "E5",
         "rawType": "int64",
         "type": "integer"
        },
        {
         "name": "E6",
         "rawType": "int64",
         "type": "integer"
        },
        {
         "name": "E7",
         "rawType": "int64",
         "type": "integer"
        },
        {
         "name": "E8",
         "rawType": "int64",
         "type": "integer"
        },
        {
         "name": "E9",
         "rawType": "int64",
         "type": "integer"
        },
        {
         "name": "E10",
         "rawType": "int64",
         "type": "integer"
        },
        {
         "name": "E11",
         "rawType": "int64",
         "type": "integer"
        },
        {
         "name": "E12",
         "rawType": "int64",
         "type": "integer"
        },
        {
         "name": "E13",
         "rawType": "int64",
         "type": "integer"
        },
        {
         "name": "E14",
         "rawType": "int64",
         "type": "integer"
        },
        {
         "name": "E15",
         "rawType": "int64",
         "type": "integer"
        },
        {
         "name": "E16",
         "rawType": "int64",
         "type": "integer"
        },
        {
         "name": "E17",
         "rawType": "int64",
         "type": "integer"
        },
        {
         "name": "E18",
         "rawType": "int64",
         "type": "integer"
        },
        {
         "name": "F1",
         "rawType": "int64",
         "type": "integer"
        },
        {
         "name": "F2",
         "rawType": "int64",
         "type": "integer"
        },
        {
         "name": "F3",
         "rawType": "int64",
         "type": "integer"
        },
        {
         "name": "F4",
         "rawType": "int64",
         "type": "integer"
        },
        {
         "name": "F5",
         "rawType": "int64",
         "type": "integer"
        },
        {
         "name": "F6",
         "rawType": "int64",
         "type": "integer"
        },
        {
         "name": "F7",
         "rawType": "int64",
         "type": "integer"
        },
        {
         "name": "F8",
         "rawType": "int64",
         "type": "integer"
        },
        {
         "name": "F9",
         "rawType": "int64",
         "type": "integer"
        },
        {
         "name": "F10",
         "rawType": "int64",
         "type": "integer"
        },
        {
         "name": "F11",
         "rawType": "int64",
         "type": "integer"
        },
        {
         "name": "F12",
         "rawType": "int64",
         "type": "integer"
        },
        {
         "name": "F13",
         "rawType": "int64",
         "type": "integer"
        },
        {
         "name": "F14",
         "rawType": "int64",
         "type": "integer"
        },
        {
         "name": "F15",
         "rawType": "int64",
         "type": "integer"
        },
        {
         "name": "F16",
         "rawType": "int64",
         "type": "integer"
        },
        {
         "name": "F17",
         "rawType": "int64",
         "type": "integer"
        },
        {
         "name": "F18",
         "rawType": "int64",
         "type": "integer"
        },
        {
         "name": "G1",
         "rawType": "int64",
         "type": "integer"
        },
        {
         "name": "G2",
         "rawType": "int64",
         "type": "integer"
        },
        {
         "name": "G3",
         "rawType": "int64",
         "type": "integer"
        },
        {
         "name": "G4",
         "rawType": "int64",
         "type": "integer"
        },
        {
         "name": "G5",
         "rawType": "int64",
         "type": "integer"
        },
        {
         "name": "G6",
         "rawType": "int64",
         "type": "integer"
        },
        {
         "name": "G7",
         "rawType": "int64",
         "type": "integer"
        },
        {
         "name": "G8",
         "rawType": "int64",
         "type": "integer"
        },
        {
         "name": "G9",
         "rawType": "int64",
         "type": "integer"
        },
        {
         "name": "G10",
         "rawType": "int64",
         "type": "integer"
        },
        {
         "name": "G11",
         "rawType": "int64",
         "type": "integer"
        },
        {
         "name": "G12",
         "rawType": "int64",
         "type": "integer"
        },
        {
         "name": "G13",
         "rawType": "int64",
         "type": "integer"
        },
        {
         "name": "G14",
         "rawType": "int64",
         "type": "integer"
        },
        {
         "name": "G15",
         "rawType": "int64",
         "type": "integer"
        },
        {
         "name": "G16",
         "rawType": "int64",
         "type": "integer"
        },
        {
         "name": "G17",
         "rawType": "int64",
         "type": "integer"
        },
        {
         "name": "G18",
         "rawType": "int64",
         "type": "integer"
        },
        {
         "name": "H1",
         "rawType": "int64",
         "type": "integer"
        },
        {
         "name": "H2",
         "rawType": "int64",
         "type": "integer"
        },
        {
         "name": "H3",
         "rawType": "int64",
         "type": "integer"
        },
        {
         "name": "H4",
         "rawType": "int64",
         "type": "integer"
        },
        {
         "name": "H5",
         "rawType": "int64",
         "type": "integer"
        },
        {
         "name": "H6",
         "rawType": "int64",
         "type": "integer"
        },
        {
         "name": "H7",
         "rawType": "int64",
         "type": "integer"
        },
        {
         "name": "H8",
         "rawType": "int64",
         "type": "integer"
        },
        {
         "name": "H9",
         "rawType": "int64",
         "type": "integer"
        },
        {
         "name": "H10",
         "rawType": "int64",
         "type": "integer"
        },
        {
         "name": "H11",
         "rawType": "int64",
         "type": "integer"
        },
        {
         "name": "H12",
         "rawType": "int64",
         "type": "integer"
        },
        {
         "name": "H13",
         "rawType": "int64",
         "type": "integer"
        },
        {
         "name": "H14",
         "rawType": "int64",
         "type": "integer"
        },
        {
         "name": "H15",
         "rawType": "int64",
         "type": "integer"
        },
        {
         "name": "H16",
         "rawType": "int64",
         "type": "integer"
        },
        {
         "name": "H17",
         "rawType": "int64",
         "type": "integer"
        },
        {
         "name": "H18",
         "rawType": "int64",
         "type": "integer"
        },
        {
         "name": "I1",
         "rawType": "int64",
         "type": "integer"
        },
        {
         "name": "I2",
         "rawType": "int64",
         "type": "integer"
        },
        {
         "name": "I3",
         "rawType": "int64",
         "type": "integer"
        },
        {
         "name": "I4",
         "rawType": "int64",
         "type": "integer"
        },
        {
         "name": "I5",
         "rawType": "int64",
         "type": "integer"
        },
        {
         "name": "I6",
         "rawType": "int64",
         "type": "integer"
        },
        {
         "name": "I7",
         "rawType": "int64",
         "type": "integer"
        },
        {
         "name": "I8",
         "rawType": "int64",
         "type": "integer"
        },
        {
         "name": "I9",
         "rawType": "int64",
         "type": "integer"
        },
        {
         "name": "I10",
         "rawType": "int64",
         "type": "integer"
        },
        {
         "name": "I11",
         "rawType": "int64",
         "type": "integer"
        },
        {
         "name": "I12",
         "rawType": "int64",
         "type": "integer"
        },
        {
         "name": "I13",
         "rawType": "int64",
         "type": "integer"
        },
        {
         "name": "I14",
         "rawType": "int64",
         "type": "integer"
        },
        {
         "name": "I15",
         "rawType": "int64",
         "type": "integer"
        },
        {
         "name": "I16",
         "rawType": "int64",
         "type": "integer"
        },
        {
         "name": "I17",
         "rawType": "int64",
         "type": "integer"
        },
        {
         "name": "I18",
         "rawType": "int64",
         "type": "integer"
        },
        {
         "name": "J1",
         "rawType": "int64",
         "type": "integer"
        },
        {
         "name": "J2",
         "rawType": "int64",
         "type": "integer"
        },
        {
         "name": "J3",
         "rawType": "int64",
         "type": "integer"
        },
        {
         "name": "J4",
         "rawType": "int64",
         "type": "integer"
        },
        {
         "name": "J5",
         "rawType": "int64",
         "type": "integer"
        },
        {
         "name": "J6",
         "rawType": "int64",
         "type": "integer"
        },
        {
         "name": "J7",
         "rawType": "int64",
         "type": "integer"
        },
        {
         "name": "J8",
         "rawType": "int64",
         "type": "integer"
        },
        {
         "name": "J9",
         "rawType": "int64",
         "type": "integer"
        },
        {
         "name": "J10",
         "rawType": "int64",
         "type": "integer"
        },
        {
         "name": "J11",
         "rawType": "int64",
         "type": "integer"
        },
        {
         "name": "J12",
         "rawType": "int64",
         "type": "integer"
        },
        {
         "name": "J13",
         "rawType": "int64",
         "type": "integer"
        },
        {
         "name": "J14",
         "rawType": "int64",
         "type": "integer"
        },
        {
         "name": "J15",
         "rawType": "int64",
         "type": "integer"
        },
        {
         "name": "J16",
         "rawType": "int64",
         "type": "integer"
        },
        {
         "name": "J17",
         "rawType": "int64",
         "type": "integer"
        },
        {
         "name": "J18",
         "rawType": "int64",
         "type": "integer"
        },
        {
         "name": "K1",
         "rawType": "int64",
         "type": "integer"
        },
        {
         "name": "K2",
         "rawType": "int64",
         "type": "integer"
        },
        {
         "name": "K3",
         "rawType": "int64",
         "type": "integer"
        },
        {
         "name": "K4",
         "rawType": "int64",
         "type": "integer"
        },
        {
         "name": "K5",
         "rawType": "int64",
         "type": "integer"
        },
        {
         "name": "K6",
         "rawType": "int64",
         "type": "integer"
        },
        {
         "name": "K7",
         "rawType": "int64",
         "type": "integer"
        },
        {
         "name": "K8",
         "rawType": "int64",
         "type": "integer"
        },
        {
         "name": "K9",
         "rawType": "int64",
         "type": "integer"
        },
        {
         "name": "K10",
         "rawType": "int64",
         "type": "integer"
        },
        {
         "name": "K11",
         "rawType": "int64",
         "type": "integer"
        },
        {
         "name": "K12",
         "rawType": "int64",
         "type": "integer"
        },
        {
         "name": "K13",
         "rawType": "int64",
         "type": "integer"
        },
        {
         "name": "K14",
         "rawType": "int64",
         "type": "integer"
        },
        {
         "name": "K15",
         "rawType": "int64",
         "type": "integer"
        },
        {
         "name": "K16",
         "rawType": "int64",
         "type": "integer"
        },
        {
         "name": "K17",
         "rawType": "int64",
         "type": "integer"
        },
        {
         "name": "K18",
         "rawType": "int64",
         "type": "integer"
        }
       ],
       "ref": "6ec89b71-46a8-490b-aaf1-26a6f9f1bb48",
       "rows": [
        [
         "0",
         "Far from the Madding Crowd",
         "6B+",
         "6B+",
         "other",
         "4",
         "24993",
         "True",
         "Hold Set B",
         "19215",
         "0",
         "0",
         "0",
         "0",
         "0",
         "0",
         "0",
         "0",
         "0",
         "0",
         "0",
         "0",
         "0",
         "0",
         "0",
         "0",
         "0",
         "0",
         "0",
         "0",
         "0",
         "0",
         "0",
         "0",
         "0",
         "0",
         "0",
         "0",
         "0",
         "0",
         "0",
         "0",
         "0",
         "0",
         "0",
         "0",
         "0",
         "0",
         "0",
         "0",
         "2",
         "0",
         "0",
         "0",
         "0",
         "0",
         "0",
         "0",
         "1",
         "0",
         "0",
         "0",
         "0",
         "0",
         "0",
         "0",
         "0",
         "0",
         "0",
         "0",
         "0",
         "0",
         "0",
         "0",
         "0",
         "0",
         "0",
         "0",
         "1",
         "0",
         "0",
         "3",
         "0",
         "0",
         "0",
         "0",
         "0",
         "2",
         "0",
         "1",
         "0",
         "0",
         "0",
         "0",
         "0",
         "0",
         "0",
         "0",
         "0",
         "0",
         "0",
         "0",
         "0",
         "0",
         "0",
         "0",
         "0",
         "0",
         "0",
         "0",
         "1",
         "0",
         "0",
         "0",
         "0",
         "0",
         "0",
         "0",
         "0",
         "0",
         "0",
         "0",
         "0",
         "0",
         "0",
         "0",
         "0",
         "0",
         "0",
         "0",
         "0",
         "0",
         "0",
         "0",
         "0",
         "0",
         "0",
         "0",
         "0",
         "0",
         "0",
         "0",
         "0",
         "0",
         "0",
         "0",
         "0",
         "0",
         "0",
         "0",
         "0",
         "0",
         "0",
         "0",
         "0",
         "0",
         "0",
         "0",
         "0",
         "0",
         "0",
         "0",
         "0",
         "0",
         "0",
         "0",
         "0",
         "0",
         "0",
         "0",
         "0",
         "0",
         "0",
         "0",
         "0",
         "0",
         "0",
         "0",
         "0",
         "0",
         "0",
         "0",
         "0",
         "0",
         "0",
         "0",
         "0",
         "0",
         "0",
         "0",
         "0",
         "0",
         "0",
         "0",
         "0",
         "0",
         "0",
         "0",
         "0",
         "0",
         "0",
         "0",
         "0",
         "0",
         "0",
         "0",
         "0",
         "0"
        ],
        [
         "1",
         "Wuthering Heights",
         "6B+",
         "6B+",
         "other",
         "4",
         "35673",
         "True",
         "Hold Set A",
         "19216",
         "0",
         "0",
         "0",
         "0",
         "0",
         "0",
         "0",
         "0",
         "0",
         "0",
         "0",
         "0",
         "0",
         "0",
         "0",
         "0",
         "0",
         "0",
         "0",
         "0",
         "0",
         "0",
         "0",
         "0",
         "0",
         "0",
         "0",
         "0",
         "0",
         "0",
         "0",
         "0",
         "0",
         "0",
         "0",
         "0",
         "0",
         "0",
         "0",
         "0",
         "0",
         "0",
         "0",
         "0",
         "0",
         "0",
         "0",
         "0",
         "0",
         "0",
         "0",
         "0",
         "0",
         "0",
         "0",
         "0",
         "0",
         "0",
         "0",
         "0",
         "0",
         "0",
         "0",
         "0",
         "0",
         "0",
         "0",
         "0",
         "0",
         "0",
         "0",
         "0",
         "0",
         "0",
         "0",
         "0",
         "0",
         "0",
         "0",
         "0",
         "0",
         "0",
         "0",
         "0",
         "0",
         "0",
         "1",
         "0",
         "0",
         "3",
         "0",
         "0",
         "0",
         "0",
         "2",
         "0",
         "0",
         "0",
         "0",
         "0",
         "0",
         "0",
         "0",
         "0",
         "0",
         "0",
         "0",
         "0",
         "0",
         "0",
         "0",
         "0",
         "0",
         "0",
         "0",
         "0",
         "0",
         "0",
         "0",
         "0",
         "1",
         "0",
         "0",
         "0",
         "0",
         "0",
         "0",
         "0",
         "0",
         "0",
         "0",
         "0",
         "0",
         "0",
         "0",
         "0",
         "0",
         "0",
         "0",
         "0",
         "0",
         "0",
         "0",
         "0",
         "0",
         "0",
         "0",
         "0",
         "0",
         "0",
         "0",
         "0",
         "0",
         "0",
         "1",
         "0",
         "0",
         "0",
         "0",
         "0",
         "0",
         "0",
         "0",
         "0",
         "0",
         "0",
         "0",
         "0",
         "0",
         "1",
         "0",
         "0",
         "0",
         "0",
         "0",
         "0",
         "0",
         "0",
         "0",
         "0",
         "0",
         "0",
         "0",
         "0",
         "0",
         "0",
         "0",
         "0",
         "0",
         "0",
         "1",
         "0",
         "0",
         "0",
         "0",
         "0",
         "0",
         "0"
        ],
        [
         "2",
         "Problem 3",
         "6B+",
         "6B+",
         "other",
         "4",
         "757",
         "False",
         "Original School Holds | Hold Set A | Hold Set B",
         "19217",
         "0",
         "0",
         "0",
         "0",
         "0",
         "0",
         "0",
         "0",
         "0",
         "0",
         "0",
         "0",
         "0",
         "0",
         "0",
         "0",
         "0",
         "0",
         "0",
         "0",
         "0",
         "0",
         "0",
         "0",
         "0",
         "0",
         "0",
         "0",
         "0",
         "0",
         "0",
         "0",
         "0",
         "0",
         "0",
         "0",
         "0",
         "0",
         "0",
         "0",
         "0",
         "0",
         "0",
         "0",
         "0",
         "1",
         "0",
         "0",
         "0",
         "0",
         "0",
         "0",
         "0",
         "0",
         "0",
         "0",
         "0",
         "0",
         "0",
         "0",
         "0",
         "0",
         "0",
         "0",
         "0",
         "0",
         "0",
         "0",
         "0",
         "0",
         "0",
         "0",
         "0",
         "0",
         "0",
         "0",
         "0",
         "0",
         "0",
         "0",
         "0",
         "0",
         "0",
         "0",
         "0",
         "0",
         "1",
         "0",
         "0",
         "0",
         "0",
         "0",
         "0",
         "0",
         "2",
         "0",
         "0",
         "0",
         "1",
         "0",
         "0",
         "0",
         "0",
         "0",
         "0",
         "0",
         "0",
         "0",
         "0",
         "0",
         "0",
         "0",
         "0",
         "0",
         "0",
         "0",
         "0",
         "0",
         "0",
         "0",
         "1",
         "0",
         "0",
         "0",
         "0",
         "0",
         "0",
         "0",
         "0",
         "0",
         "0",
         "0",
         "0",
         "0",
         "0",
         "0",
         "0",
         "0",
         "0",
         "0",
         "0",
         "0",
         "0",
         "0",
         "0",
         "0",
         "0",
         "0",
         "0",
         "0",
         "0",
         "0",
         "0",
         "0",
         "0",
         "0",
         "0",
         "0",
         "0",
         "0",
         "0",
         "3",
         "0",
         "0",
         "0",
         "0",
         "2",
         "0",
         "0",
         "0",
         "0",
         "0",
         "0",
         "0",
         "0",
         "0",
         "0",
         "0",
         "0",
         "0",
         "0",
         "0",
         "0",
         "0",
         "0",
         "0",
         "0",
         "0",
         "0",
         "0",
         "0",
         "0",
         "0",
         "0",
         "0",
         "0",
         "0",
         "0"
        ],
        [
         "3",
         "HARD TIMES",
         "7A",
         "7A",
         "other",
         "5",
         "8670",
         "True",
         "Hold Set B",
         "19218",
         "0",
         "0",
         "0",
         "0",
         "0",
         "0",
         "0",
         "0",
         "0",
         "0",
         "0",
         "0",
         "0",
         "0",
         "0",
         "0",
         "0",
         "0",
         "0",
         "0",
         "0",
         "0",
         "0",
         "0",
         "0",
         "0",
         "0",
         "1",
         "0",
         "0",
         "0",
         "0",
         "0",
         "0",
         "0",
         "0",
         "0",
         "0",
         "0",
         "0",
         "0",
         "0",
         "0",
         "0",
         "0",
         "0",
         "0",
         "0",
         "0",
         "0",
         "0",
         "0",
         "0",
         "0",
         "0",
         "0",
         "0",
         "0",
         "0",
         "0",
         "0",
         "0",
         "0",
         "0",
         "0",
         "0",
         "0",
         "0",
         "0",
         "0",
         "0",
         "0",
         "0",
         "0",
         "0",
         "0",
         "0",
         "1",
         "0",
         "1",
         "0",
         "0",
         "0",
         "1",
         "0",
         "0",
         "0",
         "1",
         "0",
         "0",
         "0",
         "0",
         "0",
         "0",
         "0",
         "0",
         "0",
         "0",
         "0",
         "0",
         "0",
         "0",
         "0",
         "0",
         "0",
         "0",
         "0",
         "0",
         "0",
         "0",
         "0",
         "2",
         "0",
         "0",
         "0",
         "0",
         "0",
         "0",
         "0",
         "0",
         "0",
         "0",
         "0",
         "0",
         "0",
         "0",
         "0",
         "0",
         "0",
         "0",
         "0",
         "0",
         "0",
         "0",
         "0",
         "0",
         "0",
         "0",
         "0",
         "0",
         "0",
         "0",
         "0",
         "0",
         "0",
         "0",
         "0",
         "0",
         "0",
         "0",
         "0",
         "0",
         "0",
         "0",
         "0",
         "0",
         "0",
         "0",
         "0",
         "0",
         "0",
         "3",
         "0",
         "0",
         "0",
         "0",
         "2",
         "0",
         "0",
         "0",
         "0",
         "0",
         "0",
         "0",
         "0",
         "0",
         "0",
         "0",
         "0",
         "0",
         "0",
         "0",
         "0",
         "0",
         "0",
         "0",
         "0",
         "0",
         "0",
         "0",
         "0",
         "0",
         "0",
         "0",
         "0",
         "0",
         "0",
         "0"
        ],
        [
         "4",
         "Problem 5",
         "7A",
         "7A",
         "other",
         "4",
         "255",
         "False",
         "Hold Set B",
         "19219",
         "0",
         "0",
         "0",
         "0",
         "0",
         "0",
         "0",
         "0",
         "1",
         "0",
         "0",
         "0",
         "0",
         "0",
         "0",
         "0",
         "0",
         "0",
         "0",
         "0",
         "0",
         "0",
         "0",
         "0",
         "0",
         "0",
         "0",
         "0",
         "0",
         "0",
         "0",
         "0",
         "0",
         "0",
         "0",
         "0",
         "0",
         "0",
         "0",
         "0",
         "2",
         "0",
         "0",
         "0",
         "0",
         "0",
         "0",
         "0",
         "0",
         "0",
         "0",
         "0",
         "0",
         "0",
         "0",
         "0",
         "0",
         "0",
         "0",
         "0",
         "1",
         "0",
         "0",
         "0",
         "0",
         "0",
         "0",
         "0",
         "0",
         "0",
         "0",
         "3",
         "0",
         "0",
         "0",
         "0",
         "0",
         "0",
         "0",
         "0",
         "0",
         "0",
         "0",
         "0",
         "0",
         "0",
         "0",
         "1",
         "0",
         "0",
         "0",
         "0",
         "0",
         "0",
         "0",
         "0",
         "0",
         "0",
         "0",
         "0",
         "1",
         "0",
         "1",
         "0",
         "0",
         "0",
         "0",
         "0",
         "0",
         "0",
         "0",
         "0",
         "0",
         "0",
         "0",
         "0",
         "0",
         "0",
         "0",
         "0",
         "0",
         "0",
         "0",
         "0",
         "0",
         "0",
         "0",
         "0",
         "0",
         "0",
         "0",
         "0",
         "0",
         "0",
         "0",
         "0",
         "0",
         "0",
         "0",
         "0",
         "0",
         "0",
         "0",
         "0",
         "0",
         "0",
         "0",
         "0",
         "0",
         "0",
         "0",
         "0",
         "0",
         "0",
         "0",
         "0",
         "0",
         "1",
         "0",
         "0",
         "0",
         "0",
         "0",
         "0",
         "0",
         "0",
         "0",
         "0",
         "0",
         "0",
         "0",
         "0",
         "0",
         "0",
         "0",
         "0",
         "0",
         "0",
         "0",
         "0",
         "0",
         "0",
         "0",
         "0",
         "0",
         "0",
         "0",
         "0",
         "0",
         "0",
         "0",
         "0",
         "0",
         "0",
         "0",
         "0",
         "0",
         "0"
        ],
        [
         "5",
         "CRIME AND PUNISHMENT",
         "7B",
         "7B",
         "other",
         "4",
         "253",
         "False",
         "Original School Holds",
         "19220",
         "0",
         "0",
         "0",
         "0",
         "0",
         "0",
         "0",
         "0",
         "0",
         "0",
         "0",
         "0",
         "0",
         "0",
         "0",
         "0",
         "0",
         "0",
         "0",
         "0",
         "0",
         "0",
         "0",
         "0",
         "0",
         "0",
         "0",
         "0",
         "0",
         "0",
         "0",
         "0",
         "0",
         "0",
         "0",
         "0",
         "0",
         "0",
         "0",
         "0",
         "0",
         "0",
         "0",
         "0",
         "0",
         "0",
         "0",
         "0",
         "0",
         "0",
         "0",
         "0",
         "0",
         "3",
         "0",
         "0",
         "2",
         "0",
         "0",
         "1",
         "0",
         "0",
         "0",
         "0",
         "0",
         "0",
         "1",
         "0",
         "0",
         "1",
         "0",
         "0",
         "0",
         "0",
         "0",
         "0",
         "0",
         "0",
         "0",
         "0",
         "0",
         "0",
         "0",
         "0",
         "0",
         "0",
         "0",
         "0",
         "0",
         "0",
         "0",
         "0",
         "0",
         "0",
         "0",
         "0",
         "0",
         "0",
         "1",
         "0",
         "0",
         "0",
         "0",
         "0",
         "0",
         "0",
         "0",
         "0",
         "0",
         "0",
         "0",
         "0",
         "0",
         "0",
         "0",
         "0",
         "0",
         "0",
         "0",
         "0",
         "0",
         "0",
         "0",
         "0",
         "0",
         "0",
         "0",
         "0",
         "0",
         "0",
         "0",
         "0",
         "0",
         "0",
         "0",
         "0",
         "0",
         "0",
         "0",
         "0",
         "0",
         "0",
         "0",
         "0",
         "0",
         "0",
         "0",
         "0",
         "0",
         "0",
         "0",
         "0",
         "0",
         "0",
         "0",
         "1",
         "0",
         "0",
         "0",
         "0",
         "0",
         "0",
         "0",
         "0",
         "0",
         "0",
         "0",
         "0",
         "0",
         "0",
         "0",
         "0",
         "0",
         "0",
         "0",
         "0",
         "0",
         "0",
         "0",
         "0",
         "0",
         "0",
         "0",
         "0",
         "0",
         "0",
         "0",
         "0",
         "0",
         "0",
         "0",
         "0",
         "0",
         "0",
         "0",
         "0",
         "0",
         "0"
        ],
        [
         "6",
         "Shortround",
         "6C+",
         "6C+",
         "other",
         "4",
         "550",
         "False",
         "Original School Holds",
         "19221",
         "0",
         "0",
         "0",
         "0",
         "0",
         "0",
         "0",
         "0",
         "0",
         "0",
         "0",
         "0",
         "0",
         "0",
         "0",
         "1",
         "0",
         "0",
         "0",
         "0",
         "0",
         "2",
         "0",
         "0",
         "0",
         "0",
         "0",
         "0",
         "0",
         "0",
         "0",
         "0",
         "0",
         "0",
         "0",
         "0",
         "0",
         "0",
         "0",
         "0",
         "0",
         "0",
         "1",
         "0",
         "0",
         "0",
         "0",
         "1",
         "0",
         "0",
         "0",
         "0",
         "0",
         "3",
         "0",
         "0",
         "2",
         "0",
         "0",
         "0",
         "0",
         "0",
         "0",
         "0",
         "0",
         "0",
         "1",
         "0",
         "0",
         "0",
         "0",
         "0",
         "0",
         "0",
         "0",
         "0",
         "0",
         "0",
         "0",
         "0",
         "0",
         "0",
         "0",
         "0",
         "0",
         "0",
         "0",
         "0",
         "0",
         "0",
         "0",
         "0",
         "0",
         "0",
         "0",
         "0",
         "0",
         "0",
         "1",
         "0",
         "0",
         "0",
         "0",
         "0",
         "0",
         "0",
         "0",
         "0",
         "0",
         "0",
         "0",
         "0",
         "0",
         "0",
         "0",
         "0",
         "0",
         "0",
         "0",
         "0",
         "0",
         "0",
         "0",
         "0",
         "0",
         "0",
         "0",
         "0",
         "0",
         "0",
         "0",
         "0",
         "0",
         "0",
         "0",
         "0",
         "0",
         "0",
         "0",
         "0",
         "0",
         "0",
         "0",
         "0",
         "0",
         "0",
         "0",
         "0",
         "0",
         "0",
         "0",
         "0",
         "0",
         "0",
         "0",
         "0",
         "0",
         "0",
         "0",
         "0",
         "0",
         "0",
         "0",
         "0",
         "0",
         "0",
         "0",
         "0",
         "0",
         "0",
         "0",
         "0",
         "0",
         "0",
         "0",
         "0",
         "0",
         "0",
         "0",
         "0",
         "0",
         "0",
         "0",
         "0",
         "0",
         "0",
         "0",
         "0",
         "0",
         "0",
         "0",
         "0",
         "0",
         "0",
         "0",
         "0",
         "0",
         "0"
        ],
        [
         "7",
         "Vurt",
         "7B",
         "7B",
         "other",
         "4",
         "1301",
         "True",
         "Hold Set A | Hold Set B",
         "19222",
         "0",
         "0",
         "0",
         "0",
         "0",
         "0",
         "0",
         "0",
         "0",
         "0",
         "0",
         "0",
         "0",
         "0",
         "0",
         "0",
         "0",
         "0",
         "0",
         "0",
         "2",
         "0",
         "0",
         "0",
         "0",
         "0",
         "0",
         "0",
         "0",
         "0",
         "0",
         "0",
         "0",
         "0",
         "0",
         "0",
         "0",
         "0",
         "0",
         "0",
         "0",
         "0",
         "0",
         "0",
         "0",
         "1",
         "0",
         "0",
         "0",
         "0",
         "0",
         "0",
         "0",
         "0",
         "0",
         "0",
         "0",
         "0",
         "0",
         "0",
         "0",
         "0",
         "0",
         "0",
         "0",
         "0",
         "0",
         "0",
         "0",
         "0",
         "0",
         "0",
         "0",
         "0",
         "0",
         "0",
         "0",
         "0",
         "1",
         "0",
         "0",
         "0",
         "0",
         "0",
         "0",
         "0",
         "0",
         "0",
         "0",
         "0",
         "0",
         "0",
         "0",
         "0",
         "0",
         "0",
         "0",
         "0",
         "0",
         "0",
         "0",
         "1",
         "0",
         "0",
         "0",
         "0",
         "0",
         "0",
         "0",
         "0",
         "0",
         "0",
         "0",
         "0",
         "0",
         "0",
         "0",
         "0",
         "0",
         "0",
         "0",
         "1",
         "0",
         "0",
         "0",
         "0",
         "0",
         "0",
         "0",
         "0",
         "0",
         "0",
         "0",
         "0",
         "0",
         "0",
         "0",
         "0",
         "0",
         "0",
         "0",
         "0",
         "0",
         "0",
         "0",
         "0",
         "0",
         "0",
         "0",
         "0",
         "0",
         "0",
         "0",
         "0",
         "0",
         "0",
         "0",
         "0",
         "0",
         "0",
         "0",
         "3",
         "0",
         "0",
         "0",
         "0",
         "0",
         "0",
         "0",
         "0",
         "0",
         "0",
         "0",
         "0",
         "0",
         "0",
         "0",
         "0",
         "0",
         "0",
         "0",
         "0",
         "0",
         "0",
         "0",
         "0",
         "0",
         "0",
         "0",
         "0",
         "0",
         "0",
         "0",
         "0",
         "0",
         "0",
         "0",
         "0"
        ],
        [
         "8",
         "Problem 9",
         "7A+",
         "7A+",
         "other",
         "4",
         "2413",
         "True",
         "Hold Set A | Hold Set B",
         "19223",
         "0",
         "0",
         "0",
         "0",
         "0",
         "0",
         "0",
         "0",
         "0",
         "0",
         "0",
         "0",
         "0",
         "0",
         "0",
         "0",
         "0",
         "0",
         "0",
         "0",
         "0",
         "0",
         "0",
         "0",
         "0",
         "0",
         "0",
         "0",
         "0",
         "0",
         "0",
         "0",
         "0",
         "1",
         "0",
         "0",
         "0",
         "0",
         "0",
         "0",
         "0",
         "0",
         "0",
         "0",
         "0",
         "1",
         "0",
         "0",
         "0",
         "0",
         "0",
         "0",
         "0",
         "0",
         "0",
         "0",
         "0",
         "0",
         "0",
         "0",
         "0",
         "0",
         "0",
         "0",
         "0",
         "0",
         "0",
         "0",
         "0",
         "0",
         "0",
         "0",
         "0",
         "0",
         "0",
         "0",
         "0",
         "0",
         "0",
         "0",
         "0",
         "0",
         "0",
         "0",
         "1",
         "0",
         "0",
         "0",
         "0",
         "0",
         "0",
         "0",
         "0",
         "0",
         "0",
         "0",
         "0",
         "0",
         "0",
         "0",
         "0",
         "0",
         "0",
         "0",
         "0",
         "0",
         "0",
         "0",
         "0",
         "0",
         "0",
         "0",
         "0",
         "0",
         "0",
         "0",
         "0",
         "0",
         "0",
         "0",
         "0",
         "0",
         "0",
         "0",
         "0",
         "3",
         "0",
         "0",
         "0",
         "0",
         "0",
         "0",
         "0",
         "1",
         "0",
         "0",
         "0",
         "0",
         "0",
         "0",
         "0",
         "0",
         "0",
         "0",
         "0",
         "0",
         "0",
         "0",
         "0",
         "0",
         "0",
         "0",
         "0",
         "0",
         "0",
         "0",
         "0",
         "0",
         "0",
         "0",
         "0",
         "0",
         "0",
         "0",
         "0",
         "0",
         "2",
         "0",
         "0",
         "0",
         "0",
         "0",
         "0",
         "0",
         "0",
         "0",
         "0",
         "0",
         "0",
         "0",
         "0",
         "0",
         "0",
         "0",
         "0",
         "0",
         "0",
         "0",
         "0",
         "0",
         "0",
         "0",
         "0",
         "0",
         "0",
         "0",
         "0",
         "0"
        ],
        [
         "9",
         "Tess",
         "6C+",
         "6C+",
         "other",
         "4",
         "9617",
         "True",
         "Original School Holds | Hold Set A | Hold Set B",
         "19224",
         "0",
         "0",
         "0",
         "0",
         "0",
         "0",
         "0",
         "0",
         "0",
         "0",
         "0",
         "0",
         "0",
         "0",
         "0",
         "0",
         "0",
         "0",
         "0",
         "0",
         "0",
         "0",
         "0",
         "0",
         "0",
         "0",
         "0",
         "0",
         "0",
         "0",
         "0",
         "0",
         "0",
         "0",
         "0",
         "0",
         "0",
         "0",
         "0",
         "0",
         "0",
         "0",
         "0",
         "0",
         "0",
         "1",
         "0",
         "0",
         "0",
         "1",
         "1",
         "0",
         "0",
         "0",
         "0",
         "0",
         "0",
         "0",
         "0",
         "0",
         "0",
         "0",
         "0",
         "0",
         "0",
         "0",
         "0",
         "0",
         "0",
         "0",
         "0",
         "0",
         "0",
         "0",
         "0",
         "0",
         "0",
         "0",
         "0",
         "0",
         "0",
         "0",
         "0",
         "0",
         "0",
         "0",
         "0",
         "0",
         "0",
         "3",
         "0",
         "0",
         "0",
         "0",
         "2",
         "0",
         "0",
         "0",
         "1",
         "0",
         "1",
         "0",
         "0",
         "0",
         "0",
         "0",
         "0",
         "0",
         "0",
         "0",
         "0",
         "0",
         "0",
         "0",
         "0",
         "0",
         "0",
         "0",
         "0",
         "0",
         "0",
         "0",
         "0",
         "0",
         "0",
         "0",
         "0",
         "0",
         "0",
         "0",
         "0",
         "0",
         "0",
         "0",
         "0",
         "0",
         "0",
         "0",
         "0",
         "0",
         "0",
         "0",
         "0",
         "0",
         "0",
         "0",
         "0",
         "0",
         "2",
         "0",
         "0",
         "0",
         "0",
         "0",
         "0",
         "0",
         "0",
         "0",
         "0",
         "0",
         "0",
         "0",
         "0",
         "0",
         "0",
         "0",
         "0",
         "0",
         "0",
         "0",
         "0",
         "0",
         "0",
         "0",
         "0",
         "0",
         "0",
         "0",
         "0",
         "0",
         "0",
         "0",
         "0",
         "0",
         "0",
         "0",
         "0",
         "0",
         "0",
         "0",
         "0",
         "0",
         "0",
         "0",
         "0",
         "0",
         "0",
         "0"
        ]
       ],
       "shape": {
        "columns": 207,
        "rows": 10
       }
      },
      "text/html": [
       "<div>\n",
       "<style scoped>\n",
       "    .dataframe tbody tr th:only-of-type {\n",
       "        vertical-align: middle;\n",
       "    }\n",
       "\n",
       "    .dataframe tbody tr th {\n",
       "        vertical-align: top;\n",
       "    }\n",
       "\n",
       "    .dataframe thead th {\n",
       "        text-align: right;\n",
       "    }\n",
       "</style>\n",
       "<table border=\"1\" class=\"dataframe\">\n",
       "  <thead>\n",
       "    <tr style=\"text-align: right;\">\n",
       "      <th></th>\n",
       "      <th>name</th>\n",
       "      <th>grade</th>\n",
       "      <th>userGrade</th>\n",
       "      <th>setby</th>\n",
       "      <th>userRating</th>\n",
       "      <th>repeats</th>\n",
       "      <th>isBenchmark</th>\n",
       "      <th>holdsets</th>\n",
       "      <th>apiId</th>\n",
       "      <th>A1</th>\n",
       "      <th>...</th>\n",
       "      <th>K9</th>\n",
       "      <th>K10</th>\n",
       "      <th>K11</th>\n",
       "      <th>K12</th>\n",
       "      <th>K13</th>\n",
       "      <th>K14</th>\n",
       "      <th>K15</th>\n",
       "      <th>K16</th>\n",
       "      <th>K17</th>\n",
       "      <th>K18</th>\n",
       "    </tr>\n",
       "  </thead>\n",
       "  <tbody>\n",
       "    <tr>\n",
       "      <th>0</th>\n",
       "      <td>Far from the Madding Crowd</td>\n",
       "      <td>6B+</td>\n",
       "      <td>6B+</td>\n",
       "      <td>other</td>\n",
       "      <td>4</td>\n",
       "      <td>24993</td>\n",
       "      <td>True</td>\n",
       "      <td>Hold Set B</td>\n",
       "      <td>19215</td>\n",
       "      <td>0</td>\n",
       "      <td>...</td>\n",
       "      <td>0</td>\n",
       "      <td>0</td>\n",
       "      <td>0</td>\n",
       "      <td>0</td>\n",
       "      <td>0</td>\n",
       "      <td>0</td>\n",
       "      <td>0</td>\n",
       "      <td>0</td>\n",
       "      <td>0</td>\n",
       "      <td>0</td>\n",
       "    </tr>\n",
       "    <tr>\n",
       "      <th>1</th>\n",
       "      <td>Wuthering Heights</td>\n",
       "      <td>6B+</td>\n",
       "      <td>6B+</td>\n",
       "      <td>other</td>\n",
       "      <td>4</td>\n",
       "      <td>35673</td>\n",
       "      <td>True</td>\n",
       "      <td>Hold Set A</td>\n",
       "      <td>19216</td>\n",
       "      <td>0</td>\n",
       "      <td>...</td>\n",
       "      <td>0</td>\n",
       "      <td>0</td>\n",
       "      <td>1</td>\n",
       "      <td>0</td>\n",
       "      <td>0</td>\n",
       "      <td>0</td>\n",
       "      <td>0</td>\n",
       "      <td>0</td>\n",
       "      <td>0</td>\n",
       "      <td>0</td>\n",
       "    </tr>\n",
       "    <tr>\n",
       "      <th>2</th>\n",
       "      <td>Problem 3</td>\n",
       "      <td>6B+</td>\n",
       "      <td>6B+</td>\n",
       "      <td>other</td>\n",
       "      <td>4</td>\n",
       "      <td>757</td>\n",
       "      <td>False</td>\n",
       "      <td>Original School Holds | Hold Set A | Hold Set B</td>\n",
       "      <td>19217</td>\n",
       "      <td>0</td>\n",
       "      <td>...</td>\n",
       "      <td>0</td>\n",
       "      <td>0</td>\n",
       "      <td>0</td>\n",
       "      <td>0</td>\n",
       "      <td>0</td>\n",
       "      <td>0</td>\n",
       "      <td>0</td>\n",
       "      <td>0</td>\n",
       "      <td>0</td>\n",
       "      <td>0</td>\n",
       "    </tr>\n",
       "    <tr>\n",
       "      <th>3</th>\n",
       "      <td>HARD TIMES</td>\n",
       "      <td>7A</td>\n",
       "      <td>7A</td>\n",
       "      <td>other</td>\n",
       "      <td>5</td>\n",
       "      <td>8670</td>\n",
       "      <td>True</td>\n",
       "      <td>Hold Set B</td>\n",
       "      <td>19218</td>\n",
       "      <td>0</td>\n",
       "      <td>...</td>\n",
       "      <td>0</td>\n",
       "      <td>0</td>\n",
       "      <td>0</td>\n",
       "      <td>0</td>\n",
       "      <td>0</td>\n",
       "      <td>0</td>\n",
       "      <td>0</td>\n",
       "      <td>0</td>\n",
       "      <td>0</td>\n",
       "      <td>0</td>\n",
       "    </tr>\n",
       "    <tr>\n",
       "      <th>4</th>\n",
       "      <td>Problem 5</td>\n",
       "      <td>7A</td>\n",
       "      <td>7A</td>\n",
       "      <td>other</td>\n",
       "      <td>4</td>\n",
       "      <td>255</td>\n",
       "      <td>False</td>\n",
       "      <td>Hold Set B</td>\n",
       "      <td>19219</td>\n",
       "      <td>0</td>\n",
       "      <td>...</td>\n",
       "      <td>0</td>\n",
       "      <td>0</td>\n",
       "      <td>0</td>\n",
       "      <td>0</td>\n",
       "      <td>0</td>\n",
       "      <td>0</td>\n",
       "      <td>0</td>\n",
       "      <td>0</td>\n",
       "      <td>0</td>\n",
       "      <td>0</td>\n",
       "    </tr>\n",
       "    <tr>\n",
       "      <th>5</th>\n",
       "      <td>CRIME AND PUNISHMENT</td>\n",
       "      <td>7B</td>\n",
       "      <td>7B</td>\n",
       "      <td>other</td>\n",
       "      <td>4</td>\n",
       "      <td>253</td>\n",
       "      <td>False</td>\n",
       "      <td>Original School Holds</td>\n",
       "      <td>19220</td>\n",
       "      <td>0</td>\n",
       "      <td>...</td>\n",
       "      <td>0</td>\n",
       "      <td>0</td>\n",
       "      <td>0</td>\n",
       "      <td>0</td>\n",
       "      <td>0</td>\n",
       "      <td>0</td>\n",
       "      <td>0</td>\n",
       "      <td>0</td>\n",
       "      <td>0</td>\n",
       "      <td>0</td>\n",
       "    </tr>\n",
       "    <tr>\n",
       "      <th>6</th>\n",
       "      <td>Shortround</td>\n",
       "      <td>6C+</td>\n",
       "      <td>6C+</td>\n",
       "      <td>other</td>\n",
       "      <td>4</td>\n",
       "      <td>550</td>\n",
       "      <td>False</td>\n",
       "      <td>Original School Holds</td>\n",
       "      <td>19221</td>\n",
       "      <td>0</td>\n",
       "      <td>...</td>\n",
       "      <td>0</td>\n",
       "      <td>0</td>\n",
       "      <td>0</td>\n",
       "      <td>0</td>\n",
       "      <td>0</td>\n",
       "      <td>0</td>\n",
       "      <td>0</td>\n",
       "      <td>0</td>\n",
       "      <td>0</td>\n",
       "      <td>0</td>\n",
       "    </tr>\n",
       "    <tr>\n",
       "      <th>7</th>\n",
       "      <td>Vurt</td>\n",
       "      <td>7B</td>\n",
       "      <td>7B</td>\n",
       "      <td>other</td>\n",
       "      <td>4</td>\n",
       "      <td>1301</td>\n",
       "      <td>True</td>\n",
       "      <td>Hold Set A | Hold Set B</td>\n",
       "      <td>19222</td>\n",
       "      <td>0</td>\n",
       "      <td>...</td>\n",
       "      <td>0</td>\n",
       "      <td>0</td>\n",
       "      <td>0</td>\n",
       "      <td>0</td>\n",
       "      <td>0</td>\n",
       "      <td>0</td>\n",
       "      <td>0</td>\n",
       "      <td>0</td>\n",
       "      <td>0</td>\n",
       "      <td>0</td>\n",
       "    </tr>\n",
       "    <tr>\n",
       "      <th>8</th>\n",
       "      <td>Problem 9</td>\n",
       "      <td>7A+</td>\n",
       "      <td>7A+</td>\n",
       "      <td>other</td>\n",
       "      <td>4</td>\n",
       "      <td>2413</td>\n",
       "      <td>True</td>\n",
       "      <td>Hold Set A | Hold Set B</td>\n",
       "      <td>19223</td>\n",
       "      <td>0</td>\n",
       "      <td>...</td>\n",
       "      <td>0</td>\n",
       "      <td>0</td>\n",
       "      <td>0</td>\n",
       "      <td>0</td>\n",
       "      <td>0</td>\n",
       "      <td>0</td>\n",
       "      <td>0</td>\n",
       "      <td>0</td>\n",
       "      <td>0</td>\n",
       "      <td>0</td>\n",
       "    </tr>\n",
       "    <tr>\n",
       "      <th>9</th>\n",
       "      <td>Tess</td>\n",
       "      <td>6C+</td>\n",
       "      <td>6C+</td>\n",
       "      <td>other</td>\n",
       "      <td>4</td>\n",
       "      <td>9617</td>\n",
       "      <td>True</td>\n",
       "      <td>Original School Holds | Hold Set A | Hold Set B</td>\n",
       "      <td>19224</td>\n",
       "      <td>0</td>\n",
       "      <td>...</td>\n",
       "      <td>0</td>\n",
       "      <td>0</td>\n",
       "      <td>0</td>\n",
       "      <td>0</td>\n",
       "      <td>0</td>\n",
       "      <td>0</td>\n",
       "      <td>0</td>\n",
       "      <td>0</td>\n",
       "      <td>0</td>\n",
       "      <td>0</td>\n",
       "    </tr>\n",
       "  </tbody>\n",
       "</table>\n",
       "<p>10 rows × 207 columns</p>\n",
       "</div>"
      ],
      "text/plain": [
       "                         name grade userGrade  setby  userRating  repeats  \\\n",
       "0  Far from the Madding Crowd   6B+       6B+  other           4    24993   \n",
       "1           Wuthering Heights   6B+       6B+  other           4    35673   \n",
       "2                   Problem 3   6B+       6B+  other           4      757   \n",
       "3                  HARD TIMES    7A        7A  other           5     8670   \n",
       "4                   Problem 5    7A        7A  other           4      255   \n",
       "5        CRIME AND PUNISHMENT    7B        7B  other           4      253   \n",
       "6                  Shortround   6C+       6C+  other           4      550   \n",
       "7                        Vurt    7B        7B  other           4     1301   \n",
       "8                   Problem 9   7A+       7A+  other           4     2413   \n",
       "9                        Tess   6C+       6C+  other           4     9617   \n",
       "\n",
       "   isBenchmark                                         holdsets  apiId  A1  \\\n",
       "0         True                                       Hold Set B  19215   0   \n",
       "1         True                                       Hold Set A  19216   0   \n",
       "2        False  Original School Holds | Hold Set A | Hold Set B  19217   0   \n",
       "3         True                                       Hold Set B  19218   0   \n",
       "4        False                                       Hold Set B  19219   0   \n",
       "5        False                            Original School Holds  19220   0   \n",
       "6        False                            Original School Holds  19221   0   \n",
       "7         True                          Hold Set A | Hold Set B  19222   0   \n",
       "8         True                          Hold Set A | Hold Set B  19223   0   \n",
       "9         True  Original School Holds | Hold Set A | Hold Set B  19224   0   \n",
       "\n",
       "   ...  K9  K10  K11  K12  K13  K14  K15  K16  K17  K18  \n",
       "0  ...   0    0    0    0    0    0    0    0    0    0  \n",
       "1  ...   0    0    1    0    0    0    0    0    0    0  \n",
       "2  ...   0    0    0    0    0    0    0    0    0    0  \n",
       "3  ...   0    0    0    0    0    0    0    0    0    0  \n",
       "4  ...   0    0    0    0    0    0    0    0    0    0  \n",
       "5  ...   0    0    0    0    0    0    0    0    0    0  \n",
       "6  ...   0    0    0    0    0    0    0    0    0    0  \n",
       "7  ...   0    0    0    0    0    0    0    0    0    0  \n",
       "8  ...   0    0    0    0    0    0    0    0    0    0  \n",
       "9  ...   0    0    0    0    0    0    0    0    0    0  \n",
       "\n",
       "[10 rows x 207 columns]"
      ]
     },
     "execution_count": 20,
     "metadata": {},
     "output_type": "execute_result"
    }
   ],
   "source": [
    "df.head(10)"
   ]
  },
  {
   "cell_type": "code",
   "execution_count": 21,
   "metadata": {},
   "outputs": [],
   "source": [
    "import numpy as np\n",
    "import matplotlib.pyplot as plt\n",
    "from matplotlib.colors import ListedColormap\n",
    "\n",
    "def plot_observation(df, apiId):\n",
    "    relevant_columns = sorted(\n",
    "        [col for col in df.columns if col[0] in \"ABCDEFGHIJK\" and col[1:].isdigit()],\n",
    "        key=lambda x: (x[0], int(x[1:]))\n",
    "    )\n",
    "    \n",
    "    if not relevant_columns:\n",
    "        print(\"Nessuna colonna rilevante trovata (A1-K18).\")\n",
    "        return\n",
    "    \n",
    "    row = df[df['apiId'] == apiId]\n",
    "    if row.empty:\n",
    "        print(f\"apiId {apiId} non trovato.\")\n",
    "        return\n",
    "\n",
    "    name = row['name'].values[0]\n",
    "\n",
    "    try:\n",
    "        obs = row[relevant_columns].to_numpy().reshape((11, 18))  # (Y=18, X=11)\n",
    "    except ValueError as e:\n",
    "        print(f\"Errore durante il reshape: {e}\")\n",
    "        print(f\"Assicurati che ci siano esattamente 198 valori (18x11) per apiId {apiId}.\")\n",
    "        return\n",
    "\n",
    "    # Ruota la matrice di 90 gradi a sinistra\n",
    "    obs_rotated = np.transpose(obs)[::-1]\n",
    "\n",
    "    obs = obs_rotated\n",
    "\n",
    "    # Definisci una mappa di colori personalizzata\n",
    "    cmap = ListedColormap([\"white\", \"black\", \"green\", \"red\"])\n",
    "    bounds = [0, 1, 2, 3, 4]\n",
    "    norm = plt.Normalize(vmin=0, vmax=3)\n",
    "\n",
    "    plt.figure(figsize=(6, 6))\n",
    "    plt.imshow(obs, cmap=cmap, norm=norm, aspect=\"equal\")  \n",
    "\n",
    "    plt.yticks(ticks=np.arange(18), labels=np.arange(18, 0, -1))  # X da 'A' a 'K'\n",
    "    plt.xticks(ticks=np.arange(11), labels=list(\"ABCDEFGHIJK\"))  # Y da 18 a 1\n",
    "\n",
    "    plt.title(f\"Problem: {name}\")\n",
    "\n",
    "    plt.show()\n",
    "\n",
    "    filtered_row = df[df['apiId'] == apiId]\n",
    "\n",
    "    if not filtered_row.empty:\n",
    "        print(\"Grade:\", filtered_row['grade'].values[0])\n",
    "        print(\"User Grade:\", filtered_row['userGrade'].values[0])\n",
    "        print(\"Repeats:\", filtered_row['repeats'].values[0])\n",
    "        print(\"SetBy:\", filtered_row['setby'].values[0])\n",
    "        print(\"Benchmark:\", filtered_row['isBenchmark'].values[0])\n",
    "    else:\n",
    "        print(\"Nessuna osservazione trovata\")"
   ]
  },
  {
   "cell_type": "code",
   "execution_count": 22,
   "metadata": {},
   "outputs": [],
   "source": [
    "import random\n",
    "\n",
    "def random_apiId_generator(df):\n",
    "    api_ids = df['apiId'].unique()\n",
    "    \n",
    "    while True:\n",
    "        yield random.choice(api_ids)"
   ]
  },
  {
   "cell_type": "code",
   "execution_count": 23,
   "metadata": {},
   "outputs": [
    {
     "data": {
      "image/png": "[encoded data removed]",
      "text/plain": [
       "<Figure size 600x600 with 1 Axes>"
      ]
     },
     "metadata": {},
     "output_type": "display_data"
    },
    {
     "name": "stdout",
     "output_type": "stream",
     "text": [
      "Grade: 6C+\n",
      "User Grade: 6C+\n",
      "Repeats: 4\n",
      "SetBy: other\n",
      "Benchmark: False\n"
     ]
    }
   ],
   "source": [
    "apiId_gen = random_apiId_generator(df)\n",
    "x = next(apiId_gen)\n",
    "plot_observation(df, apiId=x)"
   ]
  },
  {
   "cell_type": "markdown",
   "metadata": {},
   "source": [
    "# STUDIO PRESE:"
   ]
  },
  {
   "cell_type": "code",
   "execution_count": 24,
   "metadata": {},
   "outputs": [
    {
     "data": {
      "application/vnd.microsoft.datawrangler.viewer.v0+json": {
       "columns": [
        {
         "name": "index",
         "rawType": "int64",
         "type": "integer"
        },
        {
         "name": "A1",
         "rawType": "float64",
         "type": "float"
        },
        {
         "name": "A2",
         "rawType": "float64",
         "type": "float"
        },
        {
         "name": "A3",
         "rawType": "float64",
         "type": "float"
        },
        {
         "name": "A4",
         "rawType": "float64",
         "type": "float"
        },
        {
         "name": "A5",
         "rawType": "float64",
         "type": "float"
        },
        {
         "name": "A6",
         "rawType": "float64",
         "type": "float"
        },
        {
         "name": "A7",
         "rawType": "float64",
         "type": "float"
        },
        {
         "name": "A8",
         "rawType": "float64",
         "type": "float"
        },
        {
         "name": "A9",
         "rawType": "float64",
         "type": "float"
        },
        {
         "name": "A10",
         "rawType": "float64",
         "type": "float"
        },
        {
         "name": "A11",
         "rawType": "float64",
         "type": "float"
        },
        {
         "name": "A12",
         "rawType": "float64",
         "type": "float"
        },
        {
         "name": "A13",
         "rawType": "float64",
         "type": "float"
        },
        {
         "name": "A14",
         "rawType": "float64",
         "type": "float"
        },
        {
         "name": "A15",
         "rawType": "float64",
         "type": "float"
        },
        {
         "name": "A16",
         "rawType": "float64",
         "type": "float"
        },
        {
         "name": "A17",
         "rawType": "float64",
         "type": "float"
        },
        {
         "name": "A18",
         "rawType": "float64",
         "type": "float"
        },
        {
         "name": "B1",
         "rawType": "float64",
         "type": "float"
        },
        {
         "name": "B2",
         "rawType": "float64",
         "type": "float"
        },
        {
         "name": "B3",
         "rawType": "float64",
         "type": "float"
        },
        {
         "name": "B4",
         "rawType": "float64",
         "type": "float"
        },
        {
         "name": "B5",
         "rawType": "float64",
         "type": "float"
        },
        {
         "name": "B6",
         "rawType": "float64",
         "type": "float"
        },
        {
         "name": "B7",
         "rawType": "float64",
         "type": "float"
        },
        {
         "name": "B8",
         "rawType": "float64",
         "type": "float"
        },
        {
         "name": "B9",
         "rawType": "float64",
         "type": "float"
        },
        {
         "name": "B10",
         "rawType": "float64",
         "type": "float"
        },
        {
         "name": "B11",
         "rawType": "float64",
         "type": "float"
        },
        {
         "name": "B12",
         "rawType": "float64",
         "type": "float"
        },
        {
         "name": "B13",
         "rawType": "float64",
         "type": "float"
        },
        {
         "name": "B14",
         "rawType": "float64",
         "type": "float"
        },
        {
         "name": "B15",
         "rawType": "float64",
         "type": "float"
        },
        {
         "name": "B16",
         "rawType": "float64",
         "type": "float"
        },
        {
         "name": "B17",
         "rawType": "float64",
         "type": "float"
        },
        {
         "name": "B18",
         "rawType": "float64",
         "type": "float"
        },
        {
         "name": "C1",
         "rawType": "float64",
         "type": "float"
        },
        {
         "name": "C2",
         "rawType": "float64",
         "type": "float"
        },
        {
         "name": "C3",
         "rawType": "float64",
         "type": "float"
        },
        {
         "name": "C4",
         "rawType": "float64",
         "type": "float"
        },
        {
         "name": "C5",
         "rawType": "float64",
         "type": "float"
        },
        {
         "name": "C6",
         "rawType": "float64",
         "type": "float"
        },
        {
         "name": "C7",
         "rawType": "float64",
         "type": "float"
        },
        {
         "name": "C8",
         "rawType": "float64",
         "type": "float"
        },
        {
         "name": "C9",
         "rawType": "float64",
         "type": "float"
        },
        {
         "name": "C10",
         "rawType": "float64",
         "type": "float"
        },
        {
         "name": "C11",
         "rawType": "float64",
         "type": "float"
        },
        {
         "name": "C12",
         "rawType": "float64",
         "type": "float"
        },
        {
         "name": "C13",
         "rawType": "float64",
         "type": "float"
        },
        {
         "name": "C14",
         "rawType": "float64",
         "type": "float"
        },
        {
         "name": "C15",
         "rawType": "float64",
         "type": "float"
        },
        {
         "name": "C16",
         "rawType": "float64",
         "type": "float"
        },
        {
         "name": "C17",
         "rawType": "float64",
         "type": "float"
        },
        {
         "name": "C18",
         "rawType": "float64",
         "type": "float"
        },
        {
         "name": "D1",
         "rawType": "float64",
         "type": "float"
        },
        {
         "name": "D2",
         "rawType": "float64",
         "type": "float"
        },
        {
         "name": "D3",
         "rawType": "float64",
         "type": "float"
        },
        {
         "name": "D4",
         "rawType": "float64",
         "type": "float"
        },
        {
         "name": "D5",
         "rawType": "float64",
         "type": "float"
        },
        {
         "name": "D6",
         "rawType": "float64",
         "type": "float"
        },
        {
         "name": "D7",
         "rawType": "float64",
         "type": "float"
        },
        {
         "name": "D8",
         "rawType": "float64",
         "type": "float"
        },
        {
         "name": "D9",
         "rawType": "float64",
         "type": "float"
        },
        {
         "name": "D10",
         "rawType": "float64",
         "type": "float"
        },
        {
         "name": "D11",
         "rawType": "float64",
         "type": "float"
        },
        {
         "name": "D12",
         "rawType": "float64",
         "type": "float"
        },
        {
         "name": "D13",
         "rawType": "float64",
         "type": "float"
        },
        {
         "name": "D14",
         "rawType": "float64",
         "type": "float"
        },
        {
         "name": "D15",
         "rawType": "float64",
         "type": "float"
        },
        {
         "name": "D16",
         "rawType": "float64",
         "type": "float"
        },
        {
         "name": "D17",
         "rawType": "float64",
         "type": "float"
        },
        {
         "name": "D18",
         "rawType": "float64",
         "type": "float"
        },
        {
         "name": "E1",
         "rawType": "float64",
         "type": "float"
        },
        {
         "name": "E2",
         "rawType": "float64",
         "type": "float"
        },
        {
         "name": "E3",
         "rawType": "float64",
         "type": "float"
        },
        {
         "name": "E4",
         "rawType": "float64",
         "type": "float"
        },
        {
         "name": "E5",
         "rawType": "float64",
         "type": "float"
        },
        {
         "name": "E6",
         "rawType": "float64",
         "type": "float"
        },
        {
         "name": "E7",
         "rawType": "float64",
         "type": "float"
        },
        {
         "name": "E8",
         "rawType": "float64",
         "type": "float"
        },
        {
         "name": "E9",
         "rawType": "float64",
         "type": "float"
        },
        {
         "name": "E10",
         "rawType": "float64",
         "type": "float"
        },
        {
         "name": "E11",
         "rawType": "float64",
         "type": "float"
        },
        {
         "name": "E12",
         "rawType": "float64",
         "type": "float"
        },
        {
         "name": "E13",
         "rawType": "float64",
         "type": "float"
        },
        {
         "name": "E14",
         "rawType": "float64",
         "type": "float"
        },
        {
         "name": "E15",
         "rawType": "float64",
         "type": "float"
        },
        {
         "name": "E16",
         "rawType": "float64",
         "type": "float"
        },
        {
         "name": "E17",
         "rawType": "float64",
         "type": "float"
        },
        {
         "name": "E18",
         "rawType": "float64",
         "type": "float"
        },
        {
         "name": "F1",
         "rawType": "float64",
         "type": "float"
        },
        {
         "name": "F2",
         "rawType": "float64",
         "type": "float"
        },
        {
         "name": "F3",
         "rawType": "float64",
         "type": "float"
        },
        {
         "name": "F4",
         "rawType": "float64",
         "type": "float"
        },
        {
         "name": "F5",
         "rawType": "float64",
         "type": "float"
        },
        {
         "name": "F6",
         "rawType": "float64",
         "type": "float"
        },
        {
         "name": "F7",
         "rawType": "float64",
         "type": "float"
        },
        {
         "name": "F8",
         "rawType": "float64",
         "type": "float"
        },
        {
         "name": "F9",
         "rawType": "float64",
         "type": "float"
        },
        {
         "name": "F10",
         "rawType": "float64",
         "type": "float"
        },
        {
         "name": "F11",
         "rawType": "float64",
         "type": "float"
        },
        {
         "name": "F12",
         "rawType": "float64",
         "type": "float"
        },
        {
         "name": "F13",
         "rawType": "float64",
         "type": "float"
        },
        {
         "name": "F14",
         "rawType": "float64",
         "type": "float"
        },
        {
         "name": "F15",
         "rawType": "float64",
         "type": "float"
        },
        {
         "name": "F16",
         "rawType": "float64",
         "type": "float"
        },
        {
         "name": "F17",
         "rawType": "float64",
         "type": "float"
        },
        {
         "name": "F18",
         "rawType": "float64",
         "type": "float"
        },
        {
         "name": "G1",
         "rawType": "float64",
         "type": "float"
        },
        {
         "name": "G2",
         "rawType": "float64",
         "type": "float"
        },
        {
         "name": "G3",
         "rawType": "float64",
         "type": "float"
        },
        {
         "name": "G4",
         "rawType": "float64",
         "type": "float"
        },
        {
         "name": "G5",
         "rawType": "float64",
         "type": "float"
        },
        {
         "name": "G6",
         "rawType": "float64",
         "type": "float"
        },
        {
         "name": "G7",
         "rawType": "float64",
         "type": "float"
        },
        {
         "name": "G8",
         "rawType": "float64",
         "type": "float"
        },
        {
         "name": "G9",
         "rawType": "float64",
         "type": "float"
        },
        {
         "name": "G10",
         "rawType": "float64",
         "type": "float"
        },
        {
         "name": "G11",
         "rawType": "float64",
         "type": "float"
        },
        {
         "name": "G12",
         "rawType": "float64",
         "type": "float"
        },
        {
         "name": "G13",
         "rawType": "float64",
         "type": "float"
        },
        {
         "name": "G14",
         "rawType": "float64",
         "type": "float"
        },
        {
         "name": "G15",
         "rawType": "float64",
         "type": "float"
        },
        {
         "name": "G16",
         "rawType": "float64",
         "type": "float"
        },
        {
         "name": "G17",
         "rawType": "float64",
         "type": "float"
        },
        {
         "name": "G18",
         "rawType": "float64",
         "type": "float"
        },
        {
         "name": "H1",
         "rawType": "float64",
         "type": "float"
        },
        {
         "name": "H2",
         "rawType": "float64",
         "type": "float"
        },
        {
         "name": "H3",
         "rawType": "float64",
         "type": "float"
        },
        {
         "name": "H4",
         "rawType": "float64",
         "type": "float"
        },
        {
         "name": "H5",
         "rawType": "float64",
         "type": "float"
        },
        {
         "name": "H6",
         "rawType": "float64",
         "type": "float"
        },
        {
         "name": "H7",
         "rawType": "float64",
         "type": "float"
        },
        {
         "name": "H8",
         "rawType": "float64",
         "type": "float"
        },
        {
         "name": "H9",
         "rawType": "float64",
         "type": "float"
        },
        {
         "name": "H10",
         "rawType": "float64",
         "type": "float"
        },
        {
         "name": "H11",
         "rawType": "float64",
         "type": "float"
        },
        {
         "name": "H12",
         "rawType": "float64",
         "type": "float"
        },
        {
         "name": "H13",
         "rawType": "float64",
         "type": "float"
        },
        {
         "name": "H14",
         "rawType": "float64",
         "type": "float"
        },
        {
         "name": "H15",
         "rawType": "float64",
         "type": "float"
        },
        {
         "name": "H16",
         "rawType": "float64",
         "type": "float"
        },
        {
         "name": "H17",
         "rawType": "float64",
         "type": "float"
        },
        {
         "name": "H18",
         "rawType": "float64",
         "type": "float"
        },
        {
         "name": "I1",
         "rawType": "float64",
         "type": "float"
        },
        {
         "name": "I2",
         "rawType": "float64",
         "type": "float"
        },
        {
         "name": "I3",
         "rawType": "float64",
         "type": "float"
        },
        {
         "name": "I4",
         "rawType": "float64",
         "type": "float"
        },
        {
         "name": "I5",
         "rawType": "float64",
         "type": "float"
        },
        {
         "name": "I6",
         "rawType": "float64",
         "type": "float"
        },
        {
         "name": "I7",
         "rawType": "float64",
         "type": "float"
        },
        {
         "name": "I8",
         "rawType": "float64",
         "type": "float"
        },
        {
         "name": "I9",
         "rawType": "float64",
         "type": "float"
        },
        {
         "name": "I10",
         "rawType": "float64",
         "type": "float"
        },
        {
         "name": "I11",
         "rawType": "float64",
         "type": "float"
        },
        {
         "name": "I12",
         "rawType": "float64",
         "type": "float"
        },
        {
         "name": "I13",
         "rawType": "float64",
         "type": "float"
        },
        {
         "name": "I14",
         "rawType": "float64",
         "type": "float"
        },
        {
         "name": "I15",
         "rawType": "float64",
         "type": "float"
        },
        {
         "name": "I16",
         "rawType": "float64",
         "type": "float"
        },
        {
         "name": "I17",
         "rawType": "float64",
         "type": "float"
        },
        {
         "name": "I18",
         "rawType": "float64",
         "type": "float"
        },
        {
         "name": "J1",
         "rawType": "float64",
         "type": "float"
        },
        {
         "name": "J2",
         "rawType": "float64",
         "type": "float"
        },
        {
         "name": "J3",
         "rawType": "float64",
         "type": "float"
        },
        {
         "name": "J4",
         "rawType": "float64",
         "type": "float"
        },
        {
         "name": "J5",
         "rawType": "float64",
         "type": "float"
        },
        {
         "name": "J6",
         "rawType": "float64",
         "type": "float"
        },
        {
         "name": "J7",
         "rawType": "float64",
         "type": "float"
        },
        {
         "name": "J8",
         "rawType": "float64",
         "type": "float"
        },
        {
         "name": "J9",
         "rawType": "float64",
         "type": "float"
        },
        {
         "name": "J10",
         "rawType": "float64",
         "type": "float"
        },
        {
         "name": "J11",
         "rawType": "float64",
         "type": "float"
        },
        {
         "name": "J12",
         "rawType": "float64",
         "type": "float"
        },
        {
         "name": "J13",
         "rawType": "float64",
         "type": "float"
        },
        {
         "name": "J14",
         "rawType": "float64",
         "type": "float"
        },
        {
         "name": "J15",
         "rawType": "float64",
         "type": "float"
        },
        {
         "name": "J16",
         "rawType": "float64",
         "type": "float"
        },
        {
         "name": "J17",
         "rawType": "float64",
         "type": "float"
        },
        {
         "name": "J18",
         "rawType": "float64",
         "type": "float"
        },
        {
         "name": "K1",
         "rawType": "float64",
         "type": "float"
        },
        {
         "name": "K2",
         "rawType": "float64",
         "type": "float"
        },
        {
         "name": "K3",
         "rawType": "float64",
         "type": "float"
        },
        {
         "name": "K4",
         "rawType": "float64",
         "type": "float"
        },
        {
         "name": "K5",
         "rawType": "float64",
         "type": "float"
        },
        {
         "name": "K6",
         "rawType": "float64",
         "type": "float"
        },
        {
         "name": "K7",
         "rawType": "float64",
         "type": "float"
        },
        {
         "name": "K8",
         "rawType": "float64",
         "type": "float"
        },
        {
         "name": "K9",
         "rawType": "float64",
         "type": "float"
        },
        {
         "name": "K10",
         "rawType": "float64",
         "type": "float"
        },
        {
         "name": "K11",
         "rawType": "float64",
         "type": "float"
        },
        {
         "name": "K12",
         "rawType": "float64",
         "type": "float"
        },
        {
         "name": "K13",
         "rawType": "float64",
         "type": "float"
        },
        {
         "name": "K14",
         "rawType": "float64",
         "type": "float"
        },
        {
         "name": "K15",
         "rawType": "float64",
         "type": "float"
        },
        {
         "name": "K16",
         "rawType": "float64",
         "type": "float"
        },
        {
         "name": "K17",
         "rawType": "float64",
         "type": "float"
        },
        {
         "name": "K18",
         "rawType": "float64",
         "type": "float"
        }
       ],
       "ref": "15fba1dd-9990-4dac-8afc-a361a8e676bf",
       "rows": [
        [
         "0",
         "1.0",
         "1.0",
         "1.0",
         "1.0",
         "0.9212348334621718",
         "0.9999831949719356",
         "1.0",
         "1.0",
         "0.9693476288105402",
         "0.9894968574597519",
         "0.9943871206264915",
         "0.9886398010284677",
         "0.988270090411051",
         "0.967986421537324",
         "0.9962524787416395",
         "0.989967398245555",
         "1.0",
         "0.928864316203408",
         "1.0",
         "1.0",
         "0.9271165932847107",
         "0.94580378449232",
         "1.0",
         "0.9702887103821464",
         "0.9820354249991597",
         "0.9596175175612544",
         "0.9729102947601922",
         "0.9556515309380567",
         "0.9562565119483749",
         "0.9885053608039526",
         "0.9745403824824388",
         "1.0",
         "0.9723725338621315",
         "0.9459214196887709",
         "1.0",
         "0.9449131180049071",
         "1.0",
         "1.0",
         "1.0",
         "1.0",
         "0.9340570698753067",
         "0.9896312976842672",
         "0.9361745034114207",
         "0.9662218935905623",
         "0.9719524081605216",
         "0.9414344771955769",
         "0.9853292104997815",
         "0.9662891137028199",
         "0.8900278963465869",
         "0.9693308237824757",
         "0.9552650152925756",
         "0.9892783920949147",
         "1.0",
         "0.9328303028266057",
         "1.0",
         "1.0",
         "0.9166974758847847",
         "1.0",
         "0.9596175175612544",
         "0.9610291399186637",
         "0.9836150976372131",
         "0.9741874768930864",
         "0.962692837697039",
         "0.926276341881491",
         "0.9651799818505697",
         "0.9544583739454845",
         "0.9639700198299331",
         "0.9786744193862804",
         "0.9239572480086041",
         "0.9651463717944408",
         "0.9602729136557658",
         "0.8200853695425672",
         "1.0",
         "1.0",
         "1.0",
         "1.0",
         "1.0",
         "0.9244613988505361",
         "0.9617853661815615",
         "0.8584176385574563",
         "0.9651799818505697",
         "0.8796087789466609",
         "0.9492656202735859",
         "0.9108493261183747",
         "0.8921957449668941",
         "0.9477699727758545",
         "0.8381843847679226",
         "0.9098242194064464",
         "1.0",
         "0.8049104292004168",
         "1.0",
         "1.0",
         "1.0",
         "1.0",
         "0.6762847443955231",
         "0.9692131885860249",
         "0.9568446879306288",
         "0.9748932880717911",
         "0.9580882600073942",
         "0.9279232346318018",
         "0.9277887944072867",
         "0.9635330891002588",
         "0.9510301482203475",
         "0.9110005713709541",
         "0.9277383793230934",
         "0.9791449601720835",
         "1.0",
         "1.0",
         "1.0",
         "0.8476960306523712",
         "1.0",
         "0.8898934561220717",
         "1.0",
         "0.9559876314993446",
         "0.9753806338856585",
         "0.9062615534567943",
         "0.9018250260477935",
         "0.9728430746479346",
         "0.9638019695492891",
         "0.974422747285988",
         "0.8609215877390515",
         "0.9404765905959063",
         "0.94427452693846",
         "0.9800356266594965",
         "0.9298222028030787",
         "0.8083386549255537",
         "1.0",
         "1.0",
         "1.0",
         "1.0",
         "0.9166470608005916",
         "1.0",
         "0.9862198769871946",
         "0.9328303028266057",
         "0.945417268846839",
         "0.8386213154975969",
         "0.9191510099821867",
         "0.9542062985245185",
         "0.9730111249285787",
         "0.9427452693845999",
         "0.9854972607804255",
         "0.9352502268678788",
         "1.0",
         "0.935804792794004",
         "1.0",
         "1.0",
         "1.0",
         "0.9318051961146775",
         "0.9261419016569757",
         "0.9669949248815245",
         "0.9861862669310658",
         "0.9849931099384936",
         "0.9805565825294928",
         "0.9441232816858804",
         "0.9661378684502403",
         "0.9487278593755252",
         "0.9739354014721204",
         "0.8956743857762243",
         "0.9739185964440561",
         "0.9388633079017242",
         "1.0",
         "0.8824656337176083",
         "1.0",
         "0.9507276577151884",
         "1.0",
         "1.0",
         "0.9170671865022014",
         "0.9926057876516654",
         "0.9698349746244076",
         "0.9008503344200585",
         "0.9809430981749739",
         "0.9749941182401775",
         "0.9881356501865358",
         "0.9827748462339932",
         "0.9719860182166504",
         "0.9852451853594596",
         "1.0",
         "0.9794474506772426",
         "1.0",
         "1.0",
         "1.0",
         "1.0",
         "1.0",
         "1.0",
         "0.8738278492925083",
         "0.979380230564985",
         "0.9813800289046483",
         "0.9787080294424092",
         "0.9649951265418614",
         "0.9844049339562397",
         "0.9733808355459954",
         "0.9907740395926461",
         "0.9926562027358585",
         "0.9769603065237119",
         "1.0",
         "0.9842368836755957",
         "1.0",
         "0.8980943098174974"
        ],
        [
         "1",
         null,
         null,
         null,
         null,
         "0.011780324673142203",
         null,
         null,
         null,
         "0.030652371189459886",
         "0.010503142540248043",
         "0.005612879373508553",
         "0.011360198971532282",
         "0.011729909588949013",
         "0.03201357846267603",
         "0.0037475212583605016",
         "0.01003260175444493",
         null,
         "6.722011225758747e-05",
         null,
         null,
         "0.003814741370618089",
         "0.005007898363190266",
         null,
         "0.006268275468020032",
         "0.01796457500084025",
         "0.040382482438745676",
         "0.027089705239807752",
         "0.044348469061943334",
         "0.04374348805162505",
         "0.011494639196047457",
         "0.025459617517561255",
         null,
         "0.02762746613786845",
         "0.05407858031122912",
         null,
         "0.00013444022451517495",
         null,
         null,
         null,
         null,
         "0.00557926931737976",
         "0.003276980472557389",
         "0.0638254965885793",
         "0.0337781064094377",
         "0.028047591839478372",
         "0.058565522804423086",
         "0.014670789500218466",
         "0.033710886297180116",
         "0.1099721036534131",
         "0.030669176217524283",
         "0.044734984707424465",
         "0.010721607905085202",
         null,
         "0.00040332067354552484",
         null,
         null,
         "0.02334218398144725",
         null,
         "0.004638187745773535",
         "0.009377205659933453",
         "0.016384902362786946",
         "0.02581252310691359",
         "0.03730716230296104",
         "0.07372365811850906",
         "0.03482001814943031",
         "0.04554162605451551",
         "0.03602998017006689",
         "0.021325580613719624",
         "0.07604275199139583",
         "0.0348536282055591",
         "0.03972708634423419",
         "0.0009410815716062246",
         null,
         null,
         null,
         null,
         null,
         "0.016401707390851342",
         "0.038214633818438475",
         "0.1415823614425436",
         "0.03482001814943031",
         "0.12039122105333916",
         "0.05073437972641414",
         "0.08915067388162538",
         "0.10780425503310591",
         "0.052230027224145464",
         "0.16181561523207744",
         "0.09017578059355359",
         null,
         "0.0011595469364433838",
         null,
         null,
         null,
         null,
         "0.013662487816354653",
         "0.012150035290558935",
         "0.043155312069371156",
         "0.02510671192820892",
         "0.041911739992605786",
         "0.07207676536819817",
         "0.07221120559271334",
         "0.0364669108997412",
         "0.04896985177965247",
         "0.08899942862904581",
         "0.07226162067690653",
         "0.020855039827916512",
         null,
         null,
         null,
         "0.05322152387994488",
         null,
         "0.009780526333478977",
         null,
         "0.01443551910731691",
         "0.02461936611434141",
         "0.09373844654320573",
         "0.0981749739522065",
         "0.027156925352065337",
         "0.03619803045071085",
         "0.025577252714012032",
         "0.13907841226094847",
         "0.0595234094040937",
         "0.055725473061540014",
         "0.01996437334050348",
         "0.07017779719692131",
         "0.0014956474977313211",
         null,
         null,
         null,
         null,
         "0.00826807380768326",
         null,
         "0.013780123012805432",
         "0.06716969717339429",
         "0.05458273115316103",
         "0.1613786845024031",
         "0.08084899001781333",
         "0.045793701475481466",
         "0.026988875071421368",
         "0.05725473061540013",
         "0.014502739219574496",
         "0.06474977313212113",
         null,
         "0.0009242765435418277",
         null,
         null,
         null,
         "0.0034954458373945485",
         "0.005024703391254663",
         "0.00702450173091789",
         "0.013813733068934225",
         "0.015006890061506403",
         "0.019443417470507176",
         "0.05587671831411958",
         "0.033862131549759686",
         "0.05127214062447484",
         "0.02606459852787954",
         "0.10432561422377576",
         "0.02608140355594394",
         "0.061136692098275804",
         null,
         "0.00048734581386750917",
         null,
         "0.00826807380768326",
         null,
         null,
         "0.013376802339259907",
         "0.0028904648270762614",
         "0.030165025375592378",
         "0.09914966557994152",
         "0.01905690182502605",
         "0.02500588175982254",
         "0.011864349813464188",
         "0.01722515376600679",
         "0.028013981783349576",
         "0.01475481464054045",
         null,
         "0.02055254932275737",
         null,
         null,
         null,
         null,
         null,
         null,
         "0.015208550398279164",
         "0.010251067119282089",
         "0.01861997109535173",
         "0.02129197055759083",
         "0.03500487345813867",
         "0.015595066043760293",
         "0.026619164454004637",
         "0.00922596040735388",
         "0.007343797264141431",
         "0.023039693476288106",
         null,
         "0.01576311632440426",
         null,
         "0.00023527039290155614"
        ],
        [
         "2",
         null,
         null,
         null,
         null,
         "0.06698484186468591",
         "1.6805028064396868e-05",
         null,
         null,
         null,
         null,
         null,
         null,
         null,
         null,
         null,
         null,
         null,
         null,
         null,
         null,
         "0.06906866534467113",
         "0.04918831714448963",
         null,
         "0.02344301414983363",
         null,
         null,
         null,
         null,
         null,
         null,
         null,
         null,
         null,
         null,
         null,
         null,
         null,
         null,
         null,
         null,
         "0.06036366080731355",
         "0.007091721843175478",
         null,
         null,
         null,
         null,
         null,
         null,
         null,
         null,
         null,
         null,
         null,
         null,
         null,
         null,
         "0.059960340133768025",
         null,
         "0.035744294692972134",
         "0.029593654421402885",
         null,
         null,
         null,
         null,
         null,
         null,
         null,
         null,
         null,
         null,
         null,
         null,
         null,
         null,
         null,
         null,
         null,
         "0.05913689375861258",
         null,
         null,
         null,
         null,
         null,
         null,
         null,
         null,
         null,
         null,
         null,
         null,
         null,
         null,
         null,
         null,
         "0.3100527677881222",
         "0.018636776123416125",
         null,
         null,
         null,
         null,
         null,
         null,
         null,
         null,
         null,
         null,
         null,
         null,
         null,
         "0.09908244546768392",
         null,
         "0.1003260175444493",
         null,
         "0.029576849393338486",
         null,
         null,
         null,
         null,
         null,
         null,
         null,
         null,
         null,
         null,
         null,
         null,
         null,
         null,
         null,
         null,
         "0.07508486539172521",
         null,
         null,
         null,
         null,
         null,
         null,
         null,
         null,
         null,
         null,
         null,
         null,
         null,
         null,
         null,
         null,
         "0.06469935804792794",
         "0.06883339495176957",
         "0.02598057338755756",
         null,
         null,
         null,
         null,
         null,
         null,
         null,
         null,
         null,
         null,
         null,
         null,
         null,
         "0.041004268477128354",
         null,
         null,
         "0.06955601115853864",
         "0.004503747521258361",
         null,
         null,
         null,
         null,
         null,
         null,
         null,
         null,
         null,
         null,
         null,
         null,
         null,
         null,
         null,
         null,
         "0.11096360030921251",
         "0.010368702315732867",
         null,
         null,
         null,
         null,
         null,
         null,
         null,
         null,
         null,
         null,
         null,
         null
        ],
        [
         "3",
         null,
         null,
         null,
         null,
         null,
         null,
         null,
         null,
         null,
         null,
         null,
         null,
         null,
         null,
         null,
         null,
         null,
         "0.07106846368433435",
         null,
         null,
         null,
         null,
         null,
         null,
         null,
         null,
         null,
         null,
         null,
         null,
         null,
         null,
         null,
         null,
         null,
         "0.05495244177057776",
         null,
         null,
         null,
         null,
         null,
         null,
         null,
         null,
         null,
         null,
         null,
         null,
         null,
         null,
         null,
         null,
         null,
         "0.06676637649984875",
         null,
         null,
         null,
         null,
         null,
         null,
         null,
         null,
         null,
         null,
         null,
         null,
         null,
         null,
         null,
         null,
         null,
         "0.17897354888582664",
         null,
         null,
         null,
         null,
         null,
         null,
         null,
         null,
         null,
         null,
         null,
         null,
         null,
         null,
         null,
         null,
         null,
         "0.19393002386313984",
         null,
         null,
         null,
         null,
         null,
         null,
         null,
         null,
         null,
         null,
         null,
         null,
         null,
         null,
         null,
         null,
         null,
         null,
         null,
         null,
         null,
         null,
         null,
         null,
         null,
         null,
         null,
         null,
         null,
         null,
         null,
         null,
         null,
         null,
         null,
         "0.19016569757671495",
         null,
         null,
         null,
         null,
         null,
         null,
         null,
         null,
         null,
         null,
         null,
         null,
         null,
         null,
         null,
         null,
         null,
         "0.0632709306624542",
         null,
         null,
         null,
         null,
         null,
         null,
         null,
         null,
         null,
         null,
         null,
         null,
         null,
         null,
         null,
         null,
         null,
         "0.11704702046852418",
         null,
         null,
         null,
         null,
         null,
         null,
         null,
         null,
         null,
         null,
         null,
         null,
         null,
         null,
         null,
         null,
         null,
         null,
         null,
         null,
         null,
         null,
         null,
         null,
         null,
         null,
         null,
         null,
         null,
         null,
         null,
         null,
         null,
         null,
         null,
         "0.10167041978960105"
        ]
       ],
       "shape": {
        "columns": 198,
        "rows": 4
       }
      },
      "text/html": [
       "<div>\n",
       "<style scoped>\n",
       "    .dataframe tbody tr th:only-of-type {\n",
       "        vertical-align: middle;\n",
       "    }\n",
       "\n",
       "    .dataframe tbody tr th {\n",
       "        vertical-align: top;\n",
       "    }\n",
       "\n",
       "    .dataframe thead th {\n",
       "        text-align: right;\n",
       "    }\n",
       "</style>\n",
       "<table border=\"1\" class=\"dataframe\">\n",
       "  <thead>\n",
       "    <tr style=\"text-align: right;\">\n",
       "      <th></th>\n",
       "      <th>A1</th>\n",
       "      <th>A2</th>\n",
       "      <th>A3</th>\n",
       "      <th>A4</th>\n",
       "      <th>A5</th>\n",
       "      <th>A6</th>\n",
       "      <th>A7</th>\n",
       "      <th>A8</th>\n",
       "      <th>A9</th>\n",
       "      <th>A10</th>\n",
       "      <th>...</th>\n",
       "      <th>K9</th>\n",
       "      <th>K10</th>\n",
       "      <th>K11</th>\n",
       "      <th>K12</th>\n",
       "      <th>K13</th>\n",
       "      <th>K14</th>\n",
       "      <th>K15</th>\n",
       "      <th>K16</th>\n",
       "      <th>K17</th>\n",
       "      <th>K18</th>\n",
       "    </tr>\n",
       "  </thead>\n",
       "  <tbody>\n",
       "    <tr>\n",
       "      <th>0</th>\n",
       "      <td>1.0</td>\n",
       "      <td>1.0</td>\n",
       "      <td>1.0</td>\n",
       "      <td>1.0</td>\n",
       "      <td>0.921235</td>\n",
       "      <td>0.999983</td>\n",
       "      <td>1.0</td>\n",
       "      <td>1.0</td>\n",
       "      <td>0.969348</td>\n",
       "      <td>0.989497</td>\n",
       "      <td>...</td>\n",
       "      <td>0.964995</td>\n",
       "      <td>0.984405</td>\n",
       "      <td>0.973381</td>\n",
       "      <td>0.990774</td>\n",
       "      <td>0.992656</td>\n",
       "      <td>0.97696</td>\n",
       "      <td>1.0</td>\n",
       "      <td>0.984237</td>\n",
       "      <td>1.0</td>\n",
       "      <td>0.898094</td>\n",
       "    </tr>\n",
       "    <tr>\n",
       "      <th>1</th>\n",
       "      <td>NaN</td>\n",
       "      <td>NaN</td>\n",
       "      <td>NaN</td>\n",
       "      <td>NaN</td>\n",
       "      <td>0.011780</td>\n",
       "      <td>NaN</td>\n",
       "      <td>NaN</td>\n",
       "      <td>NaN</td>\n",
       "      <td>0.030652</td>\n",
       "      <td>0.010503</td>\n",
       "      <td>...</td>\n",
       "      <td>0.035005</td>\n",
       "      <td>0.015595</td>\n",
       "      <td>0.026619</td>\n",
       "      <td>0.009226</td>\n",
       "      <td>0.007344</td>\n",
       "      <td>0.02304</td>\n",
       "      <td>NaN</td>\n",
       "      <td>0.015763</td>\n",
       "      <td>NaN</td>\n",
       "      <td>0.000235</td>\n",
       "    </tr>\n",
       "    <tr>\n",
       "      <th>2</th>\n",
       "      <td>NaN</td>\n",
       "      <td>NaN</td>\n",
       "      <td>NaN</td>\n",
       "      <td>NaN</td>\n",
       "      <td>0.066985</td>\n",
       "      <td>0.000017</td>\n",
       "      <td>NaN</td>\n",
       "      <td>NaN</td>\n",
       "      <td>NaN</td>\n",
       "      <td>NaN</td>\n",
       "      <td>...</td>\n",
       "      <td>NaN</td>\n",
       "      <td>NaN</td>\n",
       "      <td>NaN</td>\n",
       "      <td>NaN</td>\n",
       "      <td>NaN</td>\n",
       "      <td>NaN</td>\n",
       "      <td>NaN</td>\n",
       "      <td>NaN</td>\n",
       "      <td>NaN</td>\n",
       "      <td>NaN</td>\n",
       "    </tr>\n",
       "    <tr>\n",
       "      <th>3</th>\n",
       "      <td>NaN</td>\n",
       "      <td>NaN</td>\n",
       "      <td>NaN</td>\n",
       "      <td>NaN</td>\n",
       "      <td>NaN</td>\n",
       "      <td>NaN</td>\n",
       "      <td>NaN</td>\n",
       "      <td>NaN</td>\n",
       "      <td>NaN</td>\n",
       "      <td>NaN</td>\n",
       "      <td>...</td>\n",
       "      <td>NaN</td>\n",
       "      <td>NaN</td>\n",
       "      <td>NaN</td>\n",
       "      <td>NaN</td>\n",
       "      <td>NaN</td>\n",
       "      <td>NaN</td>\n",
       "      <td>NaN</td>\n",
       "      <td>NaN</td>\n",
       "      <td>NaN</td>\n",
       "      <td>0.101670</td>\n",
       "    </tr>\n",
       "  </tbody>\n",
       "</table>\n",
       "<p>4 rows × 198 columns</p>\n",
       "</div>"
      ],
      "text/plain": [
       "    A1   A2   A3   A4        A5        A6   A7   A8        A9       A10  ...  \\\n",
       "0  1.0  1.0  1.0  1.0  0.921235  0.999983  1.0  1.0  0.969348  0.989497  ...   \n",
       "1  NaN  NaN  NaN  NaN  0.011780       NaN  NaN  NaN  0.030652  0.010503  ...   \n",
       "2  NaN  NaN  NaN  NaN  0.066985  0.000017  NaN  NaN       NaN       NaN  ...   \n",
       "3  NaN  NaN  NaN  NaN       NaN       NaN  NaN  NaN       NaN       NaN  ...   \n",
       "\n",
       "         K9       K10       K11       K12       K13      K14  K15       K16  \\\n",
       "0  0.964995  0.984405  0.973381  0.990774  0.992656  0.97696  1.0  0.984237   \n",
       "1  0.035005  0.015595  0.026619  0.009226  0.007344  0.02304  NaN  0.015763   \n",
       "2       NaN       NaN       NaN       NaN       NaN      NaN  NaN       NaN   \n",
       "3       NaN       NaN       NaN       NaN       NaN      NaN  NaN       NaN   \n",
       "\n",
       "   K17       K18  \n",
       "0  1.0  0.898094  \n",
       "1  NaN  0.000235  \n",
       "2  NaN       NaN  \n",
       "3  NaN  0.101670  \n",
       "\n",
       "[4 rows x 198 columns]"
      ]
     },
     "execution_count": 24,
     "metadata": {},
     "output_type": "execute_result"
    }
   ],
   "source": [
    "result"
   ]
  },
  {
   "cell_type": "markdown",
   "metadata": {},
   "source": [
    "Cerco le prese che nel setup moonboard 2016 non vengono mai usate, se esistono"
   ]
  },
  {
   "cell_type": "code",
   "execution_count": 25,
   "metadata": {},
   "outputs": [
    {
     "name": "stdout",
     "output_type": "stream",
     "text": [
      "57 prese mai utilizzate:\n",
      "Colonne con un solo valore unico:\n",
      "['A1', 'A2', 'A3', 'A4', 'A7', 'A8', 'A17', 'B1', 'B2', 'B5', 'B14', 'B17', 'C1', 'C2', 'C3', 'C4', 'C17', 'D1', 'D2', 'D4', 'E1', 'E2', 'E3', 'E4', 'E5', 'E17', 'F1', 'F2', 'F3', 'F4', 'F17', 'F18', 'G1', 'G3', 'G5', 'H1', 'H2', 'H3', 'H4', 'H6', 'H17', 'I1', 'I2', 'I3', 'I17', 'J1', 'J3', 'J4', 'J15', 'J17', 'J18', 'K1', 'K2', 'K3', 'K4', 'K15', 'K17']\n"
     ]
    }
   ],
   "source": [
    "unique_cols = [col for col in result.columns if result[col].nunique() == 1]\n",
    "print(len(unique_cols), \"prese mai utilizzate:\")\n",
    "print(\"Colonne con un solo valore unico:\")\n",
    "print(unique_cols)"
   ]
  },
  {
   "cell_type": "markdown",
   "metadata": {},
   "source": [
    "Per ora queste prese non vengono rimosse, solo per poter fare un masking comodo"
   ]
  },
  {
   "cell_type": "code",
   "execution_count": 26,
   "metadata": {},
   "outputs": [
    {
     "name": "stdout",
     "output_type": "stream",
     "text": [
      "Dataset pulito salvato in: C:/Users/fra24/OneDrive/Documenti/uni/magistrale/tesi/data/moonboard_2016_cleaned_ready_for_masking.csv\n"
     ]
    }
   ],
   "source": [
    "output_path = 'C:/Users/fra24/OneDrive/Documenti/uni/magistrale/tesi/data/moonboard_2016_cleaned_ready_for_masking.csv'\n",
    "df.to_csv(output_path, index=False, encoding='utf-8')\n",
    "\n",
    "print(f\"Dataset pulito salvato in: {output_path}\")"
   ]
  }
 ],
 "metadata": {
  "kernelspec": {
   "display_name": "Python 3",
   "language": "python",
   "name": "python3"
  },
  "language_info": {
   "codemirror_mode": {
    "name": "ipython",
    "version": 3
   },
   "file_extension": ".py",
   "mimetype": "text/x-python",
   "name": "python",
   "nbconvert_exporter": "python",
   "pygments_lexer": "ipython3",
   "version": "3.12.7"
  }
 },
 "nbformat": 4,
 "nbformat_minor": 2
}
